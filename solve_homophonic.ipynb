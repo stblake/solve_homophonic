{
 "cells": [
  {
   "cell_type": "markdown",
   "id": "521bdf1b",
   "metadata": {},
   "source": [
    "# Solving homophonic substitution ciphers"
   ]
  },
  {
   "cell_type": "markdown",
   "id": "d004c5bd",
   "metadata": {},
   "source": [
    "Sam Blake, started May 2021"
   ]
  },
  {
   "cell_type": "code",
   "execution_count": 1,
   "id": "2620c1d0",
   "metadata": {},
   "outputs": [],
   "source": [
    "import math\n",
    "import numpy as np\n",
    "import pandas as pd\n",
    "import collections\n",
    "import string\n",
    "import random\n",
    "import copy\n",
    "import time\n",
    "import json"
   ]
  },
  {
   "cell_type": "code",
   "execution_count": 369,
   "id": "9f2acd3f",
   "metadata": {},
   "outputs": [],
   "source": [
    "from numba import jit"
   ]
  },
  {
   "cell_type": "markdown",
   "id": "8c4ede6d",
   "metadata": {},
   "source": [
    "### Sample plaintext"
   ]
  },
  {
   "cell_type": "code",
   "execution_count": 2,
   "id": "bf3c1408",
   "metadata": {},
   "outputs": [],
   "source": [
    "z408_plaintext = 'I LIKE KILLING PEOPLE BECAUSE IT IS SO MUCH FUN IT IS MORE FUN \\\n",
    "THAN KILLING WILD GAME IN THE FORREST BECAUSE MAN IS THE MOAT DANGEROUE \\\n",
    "ANAMAL OF ALL TO KILL SOME THING GIVES ME THE MOAT THRILLING EXPERENCE IT IS EVEN \\\n",
    "BETTER THAN GETTING YOUR ROCKS OFF WITH A GIRL THE BEST PART OF IT IA THAE WHEN I \\\n",
    "DIE I WILL BE REBORN IN PARADICE SND ALL THE I HAVE KILLED WILL BECOME MY SLAVES I \\\n",
    "WILL NOT GIVE YOU MY NAME BECAUSE YOU WILL TRY TO SLOI DOWN OR STOP MY COLLECTING \\\n",
    "OF SLAVES FOR MY AFTERLIFE EBEORIETEMETHHPITI'.replace(' ', '')"
   ]
  },
  {
   "cell_type": "code",
   "execution_count": 3,
   "id": "3030e578",
   "metadata": {},
   "outputs": [],
   "source": [
    "z340_plaintext = 'I HOPE YOU ARE HAVING LOTS OF FUN IN TRYING TO CATCH ME THAT WASNT ME ON \\\n",
    "THE TV SHOW WHICH BRINGS UP A POINT ABOUT ME I AM NOT AFRAID OF THE GAS CHAMBER BECAUSE IT WILL \\\n",
    "SEND ME TO PARADICE ALL THE SOONER BECAUSE I NOW HAVE ENOUGH SLAVES TO WORK FOR ME WHERE EVERYONE \\\n",
    "ELSE HAS NOTHING WHEN THEY REACH PARADICE SO THEY ARE AFRAID OF DEATH I AM NOT AFRAID BECAUSE I \\\n",
    "KNOW THAT MY NEW LIFE WILL BE AN EASY ONE IN PARADICE LIFE IS DEATH'.replace(' ', '')"
   ]
  },
  {
   "cell_type": "code",
   "execution_count": 291,
   "id": "a20cb2c5",
   "metadata": {},
   "outputs": [],
   "source": [
    "# Shamelessly used without permission. \n",
    "singh_codebook_plaintext = \"For centuries kings queens and generals have relied on efficient \\\n",
    "communication in order to \\\n",
    "govern their countries and command their armies At the same time they have all been aware of \\\n",
    "the consequences of their messages falling into the wrong hands revealing precious secrets to \\\n",
    "rival nations and betraying vital information to opposing forces It was the threat of enemy \\\n",
    "interception that motivated the development of codes and ciphers techniques for disguising a \\\n",
    "message so that only the intended recipient can read it \\\n",
    "The desire for secrecy has meant that nations have operated codemaking departments which were \\\n",
    "responsible for ensuring the security of communications by inventing and implementing the best \\\n",
    "possible codes At the same time enemy code breakers have attempted to break these codes and steal \\\n",
    "secrets Codebreakers are linguistic alchemists a mystical tribe at tempting to conjure sensible \\\n",
    "words out of meaningless symbols The history of codes and ciphers is the story of the centuries \\\n",
    "old battle between codemakers and codebreakers an intellectual arms race that has had a dramatic \\\n",
    "impact on the course of history In writing The Code Book I have had two main objectives The first \\\n",
    "is to chart the evolution of codes Evolution is a wholly appropriate term because the development \\\n",
    "of codes can be viewed as an evolutionary struggle A code is constantly under attack from \\\n",
    "codebreakers When the codebreakers have developed a new weapon that reveals a codes weakness then \\\n",
    "the code is no longer useful It either becomes extinct or it evolves into a new stronger code In \\\n",
    "turn this new code thrives only until the codebreakers identify its weakness and so on This is \\\n",
    "similar to the situation facing for example a strain of infectious bacteria The bacteria live \\\n",
    "thrive and survive until doctors discover an antibiotic that exposes a weakness in the bacteria \\\n",
    "and kills them The bacteria are forced to evolve and outwit the antibiotic and if successful \\\n",
    "they will thrive once again and reestablish themselves\".upper().replace(' ','')"
   ]
  },
  {
   "cell_type": "markdown",
   "id": "891f5822",
   "metadata": {},
   "source": [
    "### Ciphers"
   ]
  },
  {
   "cell_type": "code",
   "execution_count": 5,
   "id": "0434b1a1",
   "metadata": {},
   "outputs": [],
   "source": [
    "z340_untransposed = \"H+M8|CV@KEB+*5k.L\\\n",
    "dR(UVFFz9<>#Z3P>L\\\n",
    "(MpOGp+2|G+l%WO&D\\\n",
    "#2b^D(+4(5J+VW)+k\\\n",
    "p+fZPYLR/8KjRk.#K\\\n",
    "_Rq#2|<z29^%OF1*H\\\n",
    "SMF;+BLKJp+l2_cTf\\\n",
    "BpzOUNyG)y7t-cYA2\\\n",
    "N:^j*Xz6dpclddG+4\\\n",
    "-RR+4Ef|pz/JNb>M)\\\n",
    "+l5||.VqL+Ut*5cUG\\\n",
    "R)VE5FVZ2cW+|TB45\\\n",
    "|TC^D4ct-c+zJYM(+\\\n",
    "y.LW+B.;+B31cOp+8\\\n",
    "lXz6Ppb&RG+BCOTBz\\\n",
    "F1K<SMF6N*(+HK29^\\\n",
    ":OFTO<Sf4pl/Ucy59\\\n",
    "^W(+l#2C.B)7<FBy-\\\n",
    "dkF|W<7t_BOYB*-CM\\\n",
    ">cHD8OZzSkpNA|K;+\""
   ]
  },
  {
   "cell_type": "code",
   "execution_count": 228,
   "id": "500670c4",
   "metadata": {},
   "outputs": [
    {
     "data": {
      "text/plain": [
       "408"
      ]
     },
     "execution_count": 228,
     "metadata": {},
     "output_type": "execute_result"
    }
   ],
   "source": [
    "z408_ciphertext = \"9%P/Z/UB%kOR=pX=B\\\n",
    "WV+eGYF69HP@K!qYe\\\n",
    "MJY^UIk7qTtNQYD5)\\\n",
    "S(/9#BPORAU%fRlqE\\\n",
    "k^LMZJdr\\\\pFHVWe8Y\\\n",
    "@+qGD9KI)6qX85zS(\\\n",
    "RNtIYElO8qGBTQS#B\\\n",
    "Ld/P#B@XqEHMU^RRk\\\n",
    "cZKqpI)Wq!85LMr9#\\\n",
    "BPDR+j=6\\\\N(eEUHkF\\\n",
    "ZcpOVWI5+tL)l^R6H\\\n",
    "I9DR_TYr\\\\de/@XJQA\\\n",
    "P5M8RUt%L)NVEKH=G\\\n",
    "rI!Jk598LMlNA)Z(P\\\n",
    "zUpkA9#BVW\\\\+VTtOP\\\n",
    "^=SrlfUe67DzG%%IM\\\n",
    "Nk)ScE/9%%ZfAP#BV\\\n",
    "peXqWq_F#8c+@9A9B\\\n",
    "%OT5RUc+_dYq_^SqW\\\n",
    "VZeGYKE_TYA9%#Lt_\\\n",
    "H!FBX9zXADd\\\\7L!=q\\\n",
    "_ed##6e5PORXQF%Gc\\\n",
    "Z@JTtq_8JI+rBPQW6\\\n",
    "VEXr9WI6qEHM)=UIk\"\n",
    "len(z408_ciphertext)"
   ]
  },
  {
   "cell_type": "markdown",
   "id": "d39316c9",
   "metadata": {},
   "source": [
    "### Create homophonic substitution cipher"
   ]
  },
  {
   "cell_type": "markdown",
   "id": "79de52dc",
   "metadata": {},
   "source": [
    "TODO: implement non-cyclic symbol assignments. "
   ]
  },
  {
   "cell_type": "code",
   "execution_count": 6,
   "id": "c844cd74",
   "metadata": {},
   "outputs": [],
   "source": [
    "def generate_homophonic_substitution_cipher(plaintext, n_symbols = 64):\n",
    "    \n",
    "    tally = {letter: plaintext.count(letter) for letter in set(plaintext)}\n",
    "    plaintext_chars = list(tally.keys())\n",
    "    plaintext_freqs = np.array(list(tally.values()))\n",
    "    \n",
    "    # Get frequencies\n",
    "    while np.sum(np.round(plaintext_freqs)) > n_symbols:\n",
    "        plaintext_freqs = 0.95*plaintext_freqs\n",
    "        plaintext_freqs = np.maximum(plaintext_freqs, 1.)\n",
    "    plaintext_freqs = np.round(plaintext_freqs)\n",
    "    plaintext_freqs.astype(np.int32)\n",
    "    \n",
    "    # Construct symbol assignments. \n",
    "    ciphertext_symbols = list(range(n_symbols))\n",
    "    random.shuffle(ciphertext_symbols) \n",
    "\n",
    "    plaintext_assignments = len(plaintext_chars)*[[]]\n",
    "    n = 0\n",
    "    for k,freq in enumerate(plaintext_freqs):\n",
    "        for i in range(int(freq)):\n",
    "            plaintext_assignments[k] = plaintext_assignments[k] + [ciphertext_symbols[n]]\n",
    "            n += 1\n",
    "    \n",
    "    cipher_key = dict(zip(plaintext_chars, plaintext_assignments))\n",
    "    \n",
    "    # Encipher using symbol assignments\n",
    "    ciphertext = list(plaintext)\n",
    "    indexes = len(plaintext_chars)*[0]\n",
    "    \n",
    "    for k, char in enumerate(plaintext_chars):\n",
    "        symbols = cipher_key[char]\n",
    "        for i in range(len(ciphertext)):\n",
    "            if ciphertext[i] == char:\n",
    "                ciphertext[i] = symbols[indexes[k]%len(symbols)]\n",
    "                indexes[k] += 1    \n",
    "    \n",
    "    return cipher_key, ciphertext"
   ]
  },
  {
   "cell_type": "code",
   "execution_count": 292,
   "id": "38cba040",
   "metadata": {
    "scrolled": true
   },
   "outputs": [
    {
     "name": "stdout",
     "output_type": "stream",
     "text": [
      "{'X': [62], 'U': [14], 'O': [5, 58, 13, 11], 'M': [39], 'E': [42, 10, 40, 33, 54, 7, 53, 0, 20], 'N': [48, 3, 23, 27], 'H': [30, 51, 46], 'D': [4, 21], 'Y': [26], 'S': [18, 32, 17, 9], 'K': [8], 'L': [57, 38], 'R': [29, 43, 28], 'B': [41], 'V': [52], 'C': [37, 61, 22], 'J': [63], 'A': [45, 50, 25, 2, 59], 'Q': [47], 'T': [49, 36, 55, 16, 12, 44], 'W': [35], 'F': [34], 'G': [15], 'P': [24], 'I': [60, 1, 31, 19, 56]}\n"
     ]
    }
   ],
   "source": [
    "cipher_key, ciphertext = generate_homophonic_substitution_cipher(singh_codebook_plaintext)\n",
    "print(cipher_key)"
   ]
  },
  {
   "cell_type": "code",
   "execution_count": 8,
   "id": "225f6e85",
   "metadata": {},
   "outputs": [
    {
     "name": "stdout",
     "output_type": "stream",
     "text": [
      "{'X': [59], 'U': [36], 'O': [32, 25, 12, 5], 'M': [45, 3], 'E': [49, 22, 26, 2, 50, 15, 17, 28], 'N': [18, 47, 7], 'H': [52, 31], 'D': [54], 'Y': [53], 'S': [63, 62, 43], 'K': [8], 'L': [33, 56, 39, 14, 40], 'R': [55, 9, 41], 'B': [23], 'V': [61], 'C': [16], 'A': [4, 46, 34, 38], 'T': [60, 21, 30, 24, 19], 'W': [0], 'F': [13, 57], 'G': [27, 37], 'P': [48], 'I': [10, 44, 29, 58, 1, 6, 20]}\n",
      "[10, 33, 44, 8, 49, 8, 29, 56, 39, 58, 18, 27, 48, 22, 32, 48, 14, 26, 23, 2, 16, 4, 36, 63, 50, 1, 60, 6, 62, 43, 25, 45, 36, 16, 52, 13, 36, 47, 20, 21, 10, 63, 3, 12, 55, 15, 57, 36, 7, 30, 31, 46, 18, 8, 44, 40, 33, 29, 47, 37, 0, 58, 56, 54, 27, 34, 45, 17, 1, 7, 24, 52, 28, 13, 5, 9, 41, 49, 62, 19, 23, 22, 16, 38, 36, 43, 26, 3, 4, 18, 6, 63, 60, 31, 2, 45, 32, 46, 21, 54, 34, 47, 37, 50, 55, 25, 36, 15, 38, 7, 4, 3, 46, 39, 12, 57, 34, 14, 40, 30, 5, 8, 20, 33, 56, 62, 32, 45, 17, 24, 52, 10, 18, 27, 37, 44, 61, 28, 43, 3, 49, 19, 31, 22, 45, 25, 38, 60, 21, 52, 9, 29, 39, 14, 58, 47, 27, 26, 59, 48, 2, 41, 50, 7, 16, 15, 1, 30, 6, 63, 17, 61, 28, 18, 23, 49, 24, 19, 22, 55, 60, 31, 4, 47, 37, 26, 21, 30, 20, 7, 27, 53, 12, 36, 9, 41, 5, 16, 8, 62, 32, 13, 57, 0, 10, 24, 52, 46, 37, 44, 55, 40, 19, 31, 2, 23, 50, 43, 60, 48, 34, 9, 21, 25, 13, 29, 30, 58, 38, 24, 52, 4, 15, 0, 31, 17, 18, 1, 54, 6, 28, 20, 0, 10, 33, 56, 23, 49, 41, 22, 23, 12, 55, 47, 44, 7, 48, 46, 9, 34, 54, 29, 16, 26, 63, 18, 54, 38, 39, 14, 19, 52, 2, 58, 31, 4, 61, 50, 8, 1, 40, 33, 15, 54, 0, 6, 56, 39, 23, 17, 16, 5, 3, 28, 45, 53, 62, 14, 46, 61, 49, 43, 20, 0, 10, 40, 33, 47, 32, 60, 27, 44, 61, 22, 53, 25, 36, 3, 53, 7, 34, 45, 26, 23, 2, 16, 38, 36, 63, 50, 53, 12, 36, 0, 29, 56, 39, 21, 41, 53, 30, 5, 62, 14, 32, 58, 54, 25, 0, 18, 12, 55, 43, 24, 5, 48, 3, 53, 16, 32, 40, 33, 15, 16, 19, 1, 47, 37, 25, 57, 63, 56, 4, 61, 17, 62, 13, 12, 9, 45, 53, 46, 57, 60, 28, 41, 39, 6, 13, 49, 22, 23, 26, 5, 55, 20, 2, 21, 50, 3, 15, 30, 52, 31, 48, 10, 24, 44]\n"
     ]
    }
   ],
   "source": [
    "singh_378_55_cipher_key, singh_378_55_ciphertext = \\\n",
    "    generate_homophonic_substitution_cipher(singh_codebook_plaintext[:378], 55)\n",
    "print(cipher_key)\n",
    "print(ciphertext)"
   ]
  },
  {
   "cell_type": "code",
   "execution_count": 445,
   "id": "58775587",
   "metadata": {},
   "outputs": [],
   "source": [
    "def to_symbol_string(ciphertext):\n",
    "    \n",
    "    int_symbols = list(dict.fromkeys(ciphertext))\n",
    "    \n",
    "    if len(int_symbols) > len(string.printable):\n",
    "        print('Error: cannot encode as ascii string.')\n",
    "        return \n",
    "    \n",
    "    str_symbols = string.printable[:len(int_symbols)]\n",
    "    int_symbols.sort()\n",
    "    reps = dict(zip(int_symbols, str_symbols))\n",
    "    \n",
    "    symbol_ciphertext = [reps[c] for c in ciphertext]\n",
    "    \n",
    "    return ''.join(symbol_ciphertext)"
   ]
  },
  {
   "cell_type": "code",
   "execution_count": 10,
   "id": "b91ffeac",
   "metadata": {},
   "outputs": [
    {
     "data": {
      "text/plain": [
       "'awF8K8sQBShqJlvJdpm2f4yXL1U6WEoGyfMcyIjkaX3bPeRy7tuHh8FCwsIz0SQOqxGg17nMrc59DKWimlfAyEp34h6XUu2GvHkOxIzLPoyeA743HBbRxdCt58jwQWvGgnMahqzFVrE3KiulGoAUkM9sBdSIqpTJ2DL7fe1t6XgVrhmKnilPUu4Izpktj7qNby9D5f8WvcR0anMHzFPCiu2mLEUJx9kocstSAnM4e0ugh1O6rj0awQmKDlmbPIF7JH9xOsfpXhOABdiM2Su4VL81CweO06QBmgf53rGNWdHVKEj0aCwIvUqFVlNoy3N7xGpm2fAyXLNby0sQBkDNt5WdvSOo0hbPEn5J3NfvCwefi1IzoRXQ4VgWcb9GNHRUrDB6cKlmp5Pj2kL3etMuJanF'"
      ]
     },
     "execution_count": 10,
     "metadata": {},
     "output_type": "execute_result"
    }
   ],
   "source": [
    "to_symbol_string(ciphertext)"
   ]
  },
  {
   "cell_type": "markdown",
   "id": "0fbb9558",
   "metadata": {},
   "source": [
    "### Import n-gram data"
   ]
  },
  {
   "cell_type": "markdown",
   "id": "464778d3",
   "metadata": {},
   "source": [
    "Ref: http://practicalcryptography.com/cryptanalysis/"
   ]
  },
  {
   "cell_type": "code",
   "execution_count": 397,
   "id": "a1d9ab56",
   "metadata": {},
   "outputs": [],
   "source": [
    "ngram_size = 5\n",
    "ngrams = pd.read_csv('ngram/english_quintgrams.txt', sep = ' ', header = None, names = ['ngram', 'freq'])\n",
    "\n",
    "ngrams['freq'] = np.log(1. + ngrams['freq'])\n",
    "ngrams['freq'] = ngrams['freq']/ngrams['freq'].sum()"
   ]
  },
  {
   "cell_type": "code",
   "execution_count": 398,
   "id": "13dd89d2",
   "metadata": {},
   "outputs": [
    {
     "data": {
      "text/html": [
       "<div>\n",
       "<style scoped>\n",
       "    .dataframe tbody tr th:only-of-type {\n",
       "        vertical-align: middle;\n",
       "    }\n",
       "\n",
       "    .dataframe tbody tr th {\n",
       "        vertical-align: top;\n",
       "    }\n",
       "\n",
       "    .dataframe thead th {\n",
       "        text-align: right;\n",
       "    }\n",
       "</style>\n",
       "<table border=\"1\" class=\"dataframe\">\n",
       "  <thead>\n",
       "    <tr style=\"text-align: right;\">\n",
       "      <th></th>\n",
       "      <th>ngram</th>\n",
       "      <th>freq</th>\n",
       "    </tr>\n",
       "  </thead>\n",
       "  <tbody>\n",
       "    <tr>\n",
       "      <th>0</th>\n",
       "      <td>OFTHE</td>\n",
       "      <td>1.351044e-06</td>\n",
       "    </tr>\n",
       "    <tr>\n",
       "      <th>1</th>\n",
       "      <td>ATION</td>\n",
       "      <td>1.346339e-06</td>\n",
       "    </tr>\n",
       "    <tr>\n",
       "      <th>2</th>\n",
       "      <td>INTHE</td>\n",
       "      <td>1.340772e-06</td>\n",
       "    </tr>\n",
       "    <tr>\n",
       "      <th>3</th>\n",
       "      <td>THERE</td>\n",
       "      <td>1.291716e-06</td>\n",
       "    </tr>\n",
       "    <tr>\n",
       "      <th>4</th>\n",
       "      <td>INGTH</td>\n",
       "      <td>1.291073e-06</td>\n",
       "    </tr>\n",
       "    <tr>\n",
       "      <th>...</th>\n",
       "      <td>...</td>\n",
       "      <td>...</td>\n",
       "    </tr>\n",
       "    <tr>\n",
       "      <th>4354909</th>\n",
       "      <td>AAACQ</td>\n",
       "      <td>5.917905e-08</td>\n",
       "    </tr>\n",
       "    <tr>\n",
       "      <th>4354910</th>\n",
       "      <td>AAABW</td>\n",
       "      <td>5.917905e-08</td>\n",
       "    </tr>\n",
       "    <tr>\n",
       "      <th>4354911</th>\n",
       "      <td>AAABK</td>\n",
       "      <td>5.917905e-08</td>\n",
       "    </tr>\n",
       "    <tr>\n",
       "      <th>4354912</th>\n",
       "      <td>AAABJ</td>\n",
       "      <td>5.917905e-08</td>\n",
       "    </tr>\n",
       "    <tr>\n",
       "      <th>4354913</th>\n",
       "      <td>AAABF</td>\n",
       "      <td>5.917905e-08</td>\n",
       "    </tr>\n",
       "  </tbody>\n",
       "</table>\n",
       "<p>4354914 rows × 2 columns</p>\n",
       "</div>"
      ],
      "text/plain": [
       "         ngram          freq\n",
       "0        OFTHE  1.351044e-06\n",
       "1        ATION  1.346339e-06\n",
       "2        INTHE  1.340772e-06\n",
       "3        THERE  1.291716e-06\n",
       "4        INGTH  1.291073e-06\n",
       "...        ...           ...\n",
       "4354909  AAACQ  5.917905e-08\n",
       "4354910  AAABW  5.917905e-08\n",
       "4354911  AAABK  5.917905e-08\n",
       "4354912  AAABJ  5.917905e-08\n",
       "4354913  AAABF  5.917905e-08\n",
       "\n",
       "[4354914 rows x 2 columns]"
      ]
     },
     "execution_count": 398,
     "metadata": {},
     "output_type": "execute_result"
    }
   ],
   "source": [
    "ngrams"
   ]
  },
  {
   "cell_type": "code",
   "execution_count": 399,
   "id": "73f2aba7",
   "metadata": {},
   "outputs": [
    {
     "data": {
      "text/plain": [
       "<AxesSubplot:>"
      ]
     },
     "execution_count": 399,
     "metadata": {},
     "output_type": "execute_result"
    },
    {
     "data": {
      "image/png": "[encoded data removed]",
      "text/plain": [
       "<Figure size 432x288 with 1 Axes>"
      ]
     },
     "metadata": {
      "needs_background": "light"
     },
     "output_type": "display_data"
    }
   ],
   "source": [
    "ngrams['freq'].plot()"
   ]
  },
  {
   "cell_type": "code",
   "execution_count": 400,
   "id": "c59280e0",
   "metadata": {},
   "outputs": [],
   "source": [
    "ngram_dict = dict(ngrams.values)"
   ]
  },
  {
   "cell_type": "code",
   "execution_count": 401,
   "id": "38d39b60",
   "metadata": {},
   "outputs": [],
   "source": [
    "def get_ngram_probability(ngram):\n",
    "    return ngram_dict.get(ngram.upper(), 0.)"
   ]
  },
  {
   "cell_type": "code",
   "execution_count": 402,
   "id": "7a2410dc",
   "metadata": {},
   "outputs": [
    {
     "data": {
      "text/plain": [
       "(1.2683566537144875e-06, 9.71814892869308e-07, 1.1183980514470561e-06, 0.0)"
      ]
     },
     "execution_count": 402,
     "metadata": {},
     "output_type": "execute_result"
    }
   ],
   "source": [
    "get_ngram_probability('onthe'), get_ngram_probability('onits'), \\\n",
    "get_ngram_probability('along'), get_ngram_probability('zzewt')"
   ]
  },
  {
   "cell_type": "code",
   "execution_count": 388,
   "id": "9152f822",
   "metadata": {},
   "outputs": [
    {
     "name": "stdout",
     "output_type": "stream",
     "text": [
      "168 ns ± 1.4 ns per loop (mean ± std. dev. of 7 runs, 10000000 loops each)\n"
     ]
    }
   ],
   "source": [
    "%timeit get_ngram_probability('onthe')"
   ]
  },
  {
   "cell_type": "markdown",
   "id": "6175c2ba",
   "metadata": {},
   "source": [
    "### n-gram score from plaintext"
   ]
  },
  {
   "cell_type": "code",
   "execution_count": 403,
   "id": "3312409d",
   "metadata": {},
   "outputs": [],
   "source": [
    "# Hash table-based implementation. \n",
    "def plaintext_ngram_score(plaintext, ngram_size):\n",
    "    score = 0.\n",
    "    for k in range(len(plaintext) - ngram_size - 1):\n",
    "        score += get_ngram_probability(plaintext[k:k+ngram_size])\n",
    "    return 1e6*score"
   ]
  },
  {
   "cell_type": "code",
   "execution_count": 404,
   "id": "80fc49de",
   "metadata": {},
   "outputs": [
    {
     "data": {
      "text/plain": [
       "1584.154403603524"
      ]
     },
     "execution_count": 404,
     "metadata": {},
     "output_type": "execute_result"
    }
   ],
   "source": [
    "plaintext_ngram_score(singh_codebook_plaintext, ngram_size)"
   ]
  },
  {
   "cell_type": "code",
   "execution_count": 405,
   "id": "e6fc784f",
   "metadata": {},
   "outputs": [],
   "source": [
    "worse_test_plaintext = singh_codebook_plaintext.replace('A', 'Z').replace('I','Q')"
   ]
  },
  {
   "cell_type": "code",
   "execution_count": 406,
   "id": "4634165b",
   "metadata": {},
   "outputs": [
    {
     "data": {
      "text/plain": [
       "701.5274567764485"
      ]
     },
     "execution_count": 406,
     "metadata": {},
     "output_type": "execute_result"
    }
   ],
   "source": [
    "plaintext_ngram_score(worse_test_plaintext, ngram_size)"
   ]
  },
  {
   "cell_type": "code",
   "execution_count": 407,
   "id": "053804c0",
   "metadata": {},
   "outputs": [],
   "source": [
    "much_worse_test_plaintext = worse_test_plaintext.replace('E', 'W').replace('O','X').replace('T','P')"
   ]
  },
  {
   "cell_type": "code",
   "execution_count": 408,
   "id": "1fe7ade5",
   "metadata": {},
   "outputs": [
    {
     "data": {
      "text/plain": [
       "45.12948020091018"
      ]
     },
     "execution_count": 408,
     "metadata": {},
     "output_type": "execute_result"
    }
   ],
   "source": [
    "plaintext_ngram_score(much_worse_test_plaintext, ngram_size)"
   ]
  },
  {
   "cell_type": "code",
   "execution_count": 409,
   "id": "5c574ffb",
   "metadata": {},
   "outputs": [
    {
     "name": "stdout",
     "output_type": "stream",
     "text": [
      "610 µs ± 25.4 µs per loop (mean ± std. dev. of 7 runs, 1000 loops each)\n"
     ]
    }
   ],
   "source": [
    "%timeit plaintext_ngram_score(singh_codebook_plaintext, ngram_size)"
   ]
  },
  {
   "cell_type": "markdown",
   "id": "cc257add",
   "metadata": {},
   "source": [
    "### Pertubate key"
   ]
  },
  {
   "cell_type": "markdown",
   "id": "0a4a0023",
   "metadata": {},
   "source": [
    "TODO: This is ugly and probably far from optimal."
   ]
  },
  {
   "cell_type": "code",
   "execution_count": 270,
   "id": "5311ce0f",
   "metadata": {},
   "outputs": [],
   "source": [
    "def pertubate(cipher_keys):\n",
    "    \n",
    "    pertubated_key = copy.deepcopy(cipher_keys)\n",
    "    \n",
    "    # Randomly select a plaintext char. \n",
    "    plaintext_chars = list(pertubated_key.keys())\n",
    "    plaintext_weights = [monogram_dict[char] for char in plaintext_chars]\n",
    "    # plaintext_weights = [1. for char in plaintext_chars]\n",
    "\n",
    "    while True:\n",
    "        rand_char = random.choices(plaintext_chars, weights = plaintext_weights)[0]\n",
    "        if len(pertubated_key[rand_char]) > 0:\n",
    "            break\n",
    "    \n",
    "    # For this key, randomly select a ciphertext symbol. \n",
    "    assignments = pertubated_key[rand_char]\n",
    "    cipher_symbol = random.choice(assignments)\n",
    "    \n",
    "    # Remove this symbol from the assignments.\n",
    "    assignments.remove(cipher_symbol)\n",
    "    pertubated_key[rand_char] = assignments\n",
    "    \n",
    "    # Move the cipher symbol to another plaintext assignment. \n",
    "    while True:\n",
    "        rand_char_2 = random.choices(plaintext_chars, weights = plaintext_weights)[0]\n",
    "        # Do not undo the pertubation we just made. \n",
    "        if rand_char != rand_char_2:\n",
    "            break\n",
    "    \n",
    "    pertubated_key[rand_char_2].append(cipher_symbol)\n",
    "    \n",
    "    return pertubated_key"
   ]
  },
  {
   "cell_type": "code",
   "execution_count": 271,
   "id": "496881e1",
   "metadata": {},
   "outputs": [
    {
     "data": {
      "text/plain": [
       "{'U': [59],\n",
       " 'O': [60, 25, 55],\n",
       " 'M': [28, 63],\n",
       " 'E': [10, 14, 40, 45, 30, 58, 0, 27],\n",
       " 'N': [49, 22, 1, 42],\n",
       " 'H': [38, 61],\n",
       " 'D': [34, 26],\n",
       " 'Y': [19],\n",
       " 'S': [43, 3, 2, 24],\n",
       " 'K': [9],\n",
       " 'L': [11, 37],\n",
       " 'R': [8, 53, 32, 31],\n",
       " 'B': [50],\n",
       " 'V': [29],\n",
       " 'C': [46, 57, 12],\n",
       " 'J': [44],\n",
       " 'A': [17, 16, 36, 33],\n",
       " 'Q': [4],\n",
       " 'T': [7, 35, 13, 41, 23, 18],\n",
       " 'W': [20],\n",
       " 'F': [39],\n",
       " 'G': [52],\n",
       " 'P': [51],\n",
       " 'I': [62, 54, 5, 48]}"
      ]
     },
     "execution_count": 271,
     "metadata": {},
     "output_type": "execute_result"
    }
   ],
   "source": [
    "pertubate(cipher_key)"
   ]
  },
  {
   "cell_type": "code",
   "execution_count": 32,
   "id": "b2c05ea7",
   "metadata": {},
   "outputs": [
    {
     "name": "stdout",
     "output_type": "stream",
     "text": [
      "56.6 µs ± 997 ns per loop (mean ± std. dev. of 7 runs, 10000 loops each)\n"
     ]
    }
   ],
   "source": [
    "%timeit pertubate(cipher_key)"
   ]
  },
  {
   "cell_type": "markdown",
   "id": "6cbd5aaf",
   "metadata": {},
   "source": [
    "### Swap vowels (UNDER CONSTRUCTION)"
   ]
  },
  {
   "cell_type": "code",
   "execution_count": 244,
   "id": "1b190a77",
   "metadata": {},
   "outputs": [],
   "source": [
    "from itertools import permutations"
   ]
  },
  {
   "cell_type": "code",
   "execution_count": null,
   "id": "5ce6859d",
   "metadata": {},
   "outputs": [],
   "source": [
    "def downhill_vowel_permute(state, score):\n",
    "    vowel_state = copy.deepcopy(state)\n",
    "    vowel_score = score\n",
    "    \n",
    "    for perm in permutations('AEIOU'):\n",
    "        \n",
    "    "
   ]
  },
  {
   "cell_type": "code",
   "execution_count": null,
   "id": "f6fd9a3c",
   "metadata": {},
   "outputs": [],
   "source": []
  },
  {
   "cell_type": "markdown",
   "id": "27d4ccbe",
   "metadata": {},
   "source": [
    "### Monogram frequencies"
   ]
  },
  {
   "cell_type": "markdown",
   "id": "596256e3",
   "metadata": {},
   "source": [
    "Ref: http://practicalcryptography.com/cryptanalysis/"
   ]
  },
  {
   "cell_type": "code",
   "execution_count": 34,
   "id": "bbf4a333",
   "metadata": {},
   "outputs": [],
   "source": [
    "monograms = pd.read_csv('ngram/english_monograms.txt', sep = ' ', header = None, names = ['ngram', 'freq'])\n",
    "monograms['freq'] /= monograms['freq'].sum()\n",
    "monograms = monograms.sort_values(by=['ngram'])"
   ]
  },
  {
   "cell_type": "code",
   "execution_count": 35,
   "id": "cd8d5db0",
   "metadata": {},
   "outputs": [
    {
     "data": {
      "text/html": [
       "<div>\n",
       "<style scoped>\n",
       "    .dataframe tbody tr th:only-of-type {\n",
       "        vertical-align: middle;\n",
       "    }\n",
       "\n",
       "    .dataframe tbody tr th {\n",
       "        vertical-align: top;\n",
       "    }\n",
       "\n",
       "    .dataframe thead th {\n",
       "        text-align: right;\n",
       "    }\n",
       "</style>\n",
       "<table border=\"1\" class=\"dataframe\">\n",
       "  <thead>\n",
       "    <tr style=\"text-align: right;\">\n",
       "      <th></th>\n",
       "      <th>ngram</th>\n",
       "      <th>freq</th>\n",
       "    </tr>\n",
       "  </thead>\n",
       "  <tbody>\n",
       "    <tr>\n",
       "      <th>2</th>\n",
       "      <td>A</td>\n",
       "      <td>0.085517</td>\n",
       "    </tr>\n",
       "    <tr>\n",
       "      <th>19</th>\n",
       "      <td>B</td>\n",
       "      <td>0.016048</td>\n",
       "    </tr>\n",
       "    <tr>\n",
       "      <th>11</th>\n",
       "      <td>C</td>\n",
       "      <td>0.031644</td>\n",
       "    </tr>\n",
       "    <tr>\n",
       "      <th>10</th>\n",
       "      <td>D</td>\n",
       "      <td>0.038712</td>\n",
       "    </tr>\n",
       "    <tr>\n",
       "      <th>0</th>\n",
       "      <td>E</td>\n",
       "      <td>0.120965</td>\n",
       "    </tr>\n",
       "    <tr>\n",
       "      <th>14</th>\n",
       "      <td>F</td>\n",
       "      <td>0.021815</td>\n",
       "    </tr>\n",
       "    <tr>\n",
       "      <th>15</th>\n",
       "      <td>G</td>\n",
       "      <td>0.020863</td>\n",
       "    </tr>\n",
       "    <tr>\n",
       "      <th>8</th>\n",
       "      <td>H</td>\n",
       "      <td>0.049557</td>\n",
       "    </tr>\n",
       "    <tr>\n",
       "      <th>4</th>\n",
       "      <td>I</td>\n",
       "      <td>0.073251</td>\n",
       "    </tr>\n",
       "    <tr>\n",
       "      <th>22</th>\n",
       "      <td>J</td>\n",
       "      <td>0.002198</td>\n",
       "    </tr>\n",
       "    <tr>\n",
       "      <th>21</th>\n",
       "      <td>K</td>\n",
       "      <td>0.008087</td>\n",
       "    </tr>\n",
       "    <tr>\n",
       "      <th>9</th>\n",
       "      <td>L</td>\n",
       "      <td>0.042065</td>\n",
       "    </tr>\n",
       "    <tr>\n",
       "      <th>13</th>\n",
       "      <td>M</td>\n",
       "      <td>0.025263</td>\n",
       "    </tr>\n",
       "    <tr>\n",
       "      <th>5</th>\n",
       "      <td>N</td>\n",
       "      <td>0.071722</td>\n",
       "    </tr>\n",
       "    <tr>\n",
       "      <th>3</th>\n",
       "      <td>O</td>\n",
       "      <td>0.074673</td>\n",
       "    </tr>\n",
       "    <tr>\n",
       "      <th>16</th>\n",
       "      <td>P</td>\n",
       "      <td>0.020662</td>\n",
       "    </tr>\n",
       "    <tr>\n",
       "      <th>25</th>\n",
       "      <td>Q</td>\n",
       "      <td>0.001040</td>\n",
       "    </tr>\n",
       "    <tr>\n",
       "      <th>7</th>\n",
       "      <td>R</td>\n",
       "      <td>0.063327</td>\n",
       "    </tr>\n",
       "    <tr>\n",
       "      <th>6</th>\n",
       "      <td>S</td>\n",
       "      <td>0.067282</td>\n",
       "    </tr>\n",
       "    <tr>\n",
       "      <th>1</th>\n",
       "      <td>T</td>\n",
       "      <td>0.089381</td>\n",
       "    </tr>\n",
       "    <tr>\n",
       "      <th>12</th>\n",
       "      <td>U</td>\n",
       "      <td>0.026816</td>\n",
       "    </tr>\n",
       "    <tr>\n",
       "      <th>20</th>\n",
       "      <td>V</td>\n",
       "      <td>0.010593</td>\n",
       "    </tr>\n",
       "    <tr>\n",
       "      <th>17</th>\n",
       "      <td>W</td>\n",
       "      <td>0.018254</td>\n",
       "    </tr>\n",
       "    <tr>\n",
       "      <th>23</th>\n",
       "      <td>X</td>\n",
       "      <td>0.001914</td>\n",
       "    </tr>\n",
       "    <tr>\n",
       "      <th>18</th>\n",
       "      <td>Y</td>\n",
       "      <td>0.017214</td>\n",
       "    </tr>\n",
       "    <tr>\n",
       "      <th>24</th>\n",
       "      <td>Z</td>\n",
       "      <td>0.001138</td>\n",
       "    </tr>\n",
       "  </tbody>\n",
       "</table>\n",
       "</div>"
      ],
      "text/plain": [
       "   ngram      freq\n",
       "2      A  0.085517\n",
       "19     B  0.016048\n",
       "11     C  0.031644\n",
       "10     D  0.038712\n",
       "0      E  0.120965\n",
       "14     F  0.021815\n",
       "15     G  0.020863\n",
       "8      H  0.049557\n",
       "4      I  0.073251\n",
       "22     J  0.002198\n",
       "21     K  0.008087\n",
       "9      L  0.042065\n",
       "13     M  0.025263\n",
       "5      N  0.071722\n",
       "3      O  0.074673\n",
       "16     P  0.020662\n",
       "25     Q  0.001040\n",
       "7      R  0.063327\n",
       "6      S  0.067282\n",
       "1      T  0.089381\n",
       "12     U  0.026816\n",
       "20     V  0.010593\n",
       "17     W  0.018254\n",
       "23     X  0.001914\n",
       "18     Y  0.017214\n",
       "24     Z  0.001138"
      ]
     },
     "execution_count": 35,
     "metadata": {},
     "output_type": "execute_result"
    }
   ],
   "source": [
    "monograms"
   ]
  },
  {
   "cell_type": "code",
   "execution_count": 36,
   "id": "91eb58d4",
   "metadata": {},
   "outputs": [],
   "source": [
    "english_unigram_frequencies = list(monograms['freq'].values)"
   ]
  },
  {
   "cell_type": "code",
   "execution_count": 37,
   "id": "a5462e2e",
   "metadata": {},
   "outputs": [],
   "source": [
    "monogram_dict = dict(zip(monograms['ngram'], monograms['freq']))"
   ]
  },
  {
   "cell_type": "markdown",
   "id": "7fb8a6c4",
   "metadata": {},
   "source": [
    "### Generate initial key"
   ]
  },
  {
   "cell_type": "code",
   "execution_count": 38,
   "id": "1bd3de8a",
   "metadata": {},
   "outputs": [],
   "source": [
    "def generate_initial_key(cipher):\n",
    "    # All unique symbols. \n",
    "    ciphertext_symbols = list(dict.fromkeys(cipher))\n",
    "    # Create empty keys. \n",
    "    initial_key = {char : [] for char in alphabet}\n",
    "    # Randomly assign cipher symbols to alphabet. \n",
    "    for symbol in ciphertext_symbols:\n",
    "        char = random.choices(alphabet, weights = english_unigram_frequencies)[0]\n",
    "        initial_key[char].append(symbol)\n",
    "    return initial_key"
   ]
  },
  {
   "cell_type": "code",
   "execution_count": 39,
   "id": "0a38f7b2",
   "metadata": {},
   "outputs": [
    {
     "data": {
      "text/plain": [
       "{'A': [39, 18, 23, 16, 1, 7, 9, 53],\n",
       " 'B': [],\n",
       " 'C': [43, 45, 13, 30],\n",
       " 'D': [62, 5],\n",
       " 'E': [33, 29, 47, 54, 38, 59],\n",
       " 'F': [],\n",
       " 'G': [48],\n",
       " 'H': [44, 56, 22, 26],\n",
       " 'I': [32, 31, 17, 41],\n",
       " 'J': [],\n",
       " 'K': [],\n",
       " 'L': [14, 20, 37],\n",
       " 'M': [52, 57],\n",
       " 'N': [10, 27, 4, 36, 12],\n",
       " 'O': [63, 50, 3, 55, 28],\n",
       " 'P': [],\n",
       " 'Q': [],\n",
       " 'R': [58, 25],\n",
       " 'S': [49, 15, 46, 40, 61],\n",
       " 'T': [8, 2, 21, 34, 24],\n",
       " 'U': [0],\n",
       " 'V': [],\n",
       " 'W': [19],\n",
       " 'X': [],\n",
       " 'Y': [60],\n",
       " 'Z': [6]}"
      ]
     },
     "execution_count": 39,
     "metadata": {},
     "output_type": "execute_result"
    }
   ],
   "source": [
    "initial_key_example = generate_initial_key(ciphertext)\n",
    "initial_key_example"
   ]
  },
  {
   "cell_type": "markdown",
   "id": "0b03c986",
   "metadata": {},
   "source": [
    "### Given the ciphertext and a decryption key, generate the plaintext"
   ]
  },
  {
   "cell_type": "code",
   "execution_count": 446,
   "id": "0ea829f0",
   "metadata": {},
   "outputs": [],
   "source": [
    "def plaintext_from_key(ciphertext, key):\n",
    "    # Create inverse key mapping (dict).\n",
    "    inv_key = dict()\n",
    "    for k,vs in key.items():\n",
    "        for v in vs:\n",
    "            inv_key[v] = k\n",
    "    # Generate plaintext.\n",
    "    return [inv_key[c] for c in ciphertext]"
   ]
  },
  {
   "cell_type": "code",
   "execution_count": 448,
   "id": "5640d3bc",
   "metadata": {},
   "outputs": [
    {
     "name": "stdout",
     "output_type": "stream",
     "text": [
      "66.1 µs ± 1.89 µs per loop (mean ± std. dev. of 7 runs, 10000 loops each)\n"
     ]
    },
    {
     "data": {
      "text/plain": [
       "'FORCENTURIESKINGSQUEENSANDGENERALSHAVERELIEDONEFFICIENTCOMMUNICATIONINORDERTOGOVERNTHEIRCOUNTRIESANDCOMMANDTHEIRARMIESATTHESAMETIMETHEYHAVEALLBEENAWAREOFTHECONSEQUENCESOFTHEIRMESSAGESFALLINGINTOTHEWRONGHANDSREVEALINGPRECIOUSSECRETSTORIVALNATIONSANDBETRAYINGVITALINFORMATIONTOOPPOSINGFORCESITWASTHETHREATOFENEMYINTERCEPTIONTHATMOTIVATEDTHEDEVELOPMENTOFCODESANDCIPHERSTECHNIQUESFORDISGUISINGAMESSAGESOTHATONLYTHEINTENDEDRECIPIENTCANREADITTHEDESIREFORSECRECYHASMEANTTHATNATIONSHAVEOPERATEDCODEMAKINGDEPARTMENTSWHICHWERERESPONSIBLEFORENSURINGTHESECURITYOFCOMMUNICATIONSBYINVENTINGANDIMPLEMENTINGTHEBESTPOSSIBLECODESATTHESAMETIMEENEMYCODEBREAKERSHAVEATTEMPTEDTOBREAKTHESECODESANDSTEALSECRETSCODEBREAKERSARELINGUISTICALCHEMISTSAMYSTICALTRIBEATTEMPTINGTOCONJURESENSIBLEWORDSOUTOFMEANINGLESSSYMBOLSTHEHISTORYOFCODESANDCIPHERSISTHESTORYOFTHECENTURIESOLDBATTLEBETWEENCODEMAKERSANDCODEBREAKERSANINTELLECTUALARMSRACETHATHASHADADRAMATICIMPACTONTHECOURSEOFHISTORYINWRITINGTHECODEBOOKIHAVEHADTWOMAINOBJECTIVESTHEFIRSTISTOCHARTTHEEVOLUTIONOFCODESEVOLUTIONISAWHOLLYAPPROPRIATETERMBECAUSETHEDEVELOPMENTOFCODESCANBEVIEWEDASANEVOLUTIONARYSTRUGGLEACODEISCONSTANTLYUNDERATTACKFROMCODEBREAKERSWHENTHECODEBREAKERSHAVEDEVELOPEDANEWWEAPONTHATREVEALSACODESWEAKNESSTHENTHECODEISNOLONGERUSEFULITEITHERBECOMESEXTINCTORITEVOLVESINTOANEWSTRONGERCODEINTURNTHISNEWCODETHRIVESONLYUNTILTHECODEBREAKERSIDENTIFYITSWEAKNESSANDSOONTHISISSIMILARTOTHESITUATIONFACINGFOREXAMPLEASTRAINOFINFECTIOUSBACTERIATHEBACTERIALIVETHRIVEANDSURVIVEUNTILDOCTORSDISCOVERANANTIBIOTICTHATEXPOSESAWEAKNESSINTHEBACTERIAANDKILLSTHEMTHEBACTERIAAREFORCEDTOEVOLVEANDOUTWITTHEANTIBIOTICANDIFSUCCESSFULTHEYWILLTHRIVEONCEAGAINANDREESTABLISHTHEMSELVES'"
      ]
     },
     "execution_count": 448,
     "metadata": {},
     "output_type": "execute_result"
    }
   ],
   "source": [
    "%timeit plaintext_example = plaintext_from_key(ciphertext, cipher_key)\n",
    "plaintext_example = ''.join(plaintext_example)\n",
    "plaintext_example"
   ]
  },
  {
   "cell_type": "markdown",
   "id": "4df53bc3",
   "metadata": {},
   "source": [
    "### Entropy"
   ]
  },
  {
   "cell_type": "code",
   "execution_count": 67,
   "id": "0db6c9ca",
   "metadata": {},
   "outputs": [],
   "source": [
    "from scipy.stats import entropy\n",
    "\n",
    "def plaintext_entropy(plaintext):\n",
    "    _,counts = np.unique(list(plaintext), return_counts=True)\n",
    "    return entropy(counts)"
   ]
  },
  {
   "cell_type": "code",
   "execution_count": 68,
   "id": "8c3f9a48",
   "metadata": {},
   "outputs": [
    {
     "data": {
      "text/plain": [
       "0.6914160776171183"
      ]
     },
     "execution_count": 68,
     "metadata": {},
     "output_type": "execute_result"
    }
   ],
   "source": [
    "plaintext_entropy('ABAABBBAAABBBBAAA')"
   ]
  },
  {
   "cell_type": "code",
   "execution_count": 69,
   "id": "21351ceb",
   "metadata": {},
   "outputs": [
    {
     "data": {
      "text/plain": [
       "2.5568271679009453"
      ]
     },
     "execution_count": 69,
     "metadata": {},
     "output_type": "execute_result"
    }
   ],
   "source": [
    "plaintext_entropy('ONTHEFIRSTDAYOFCHRISTMAS')"
   ]
  },
  {
   "cell_type": "code",
   "execution_count": 46,
   "id": "c2131992",
   "metadata": {},
   "outputs": [
    {
     "data": {
      "text/plain": [
       "(2.8839674453906783, 2.8653004029963824, 2.828053499687207)"
      ]
     },
     "execution_count": 46,
     "metadata": {},
     "output_type": "execute_result"
    }
   ],
   "source": [
    "plaintext_entropy(z408_plaintext),\\\n",
    "plaintext_entropy(z340_plaintext),\\\n",
    "plaintext_entropy(singh_codebook_plaintext)"
   ]
  },
  {
   "cell_type": "markdown",
   "id": "115b040e",
   "metadata": {},
   "source": [
    "### Index of coincidence"
   ]
  },
  {
   "cell_type": "code",
   "execution_count": 47,
   "id": "3940d0e8",
   "metadata": {},
   "outputs": [],
   "source": [
    "def index_of_coincidence(plaintext):\n",
    "    N = len(plaintext)\n",
    "    _,counts = np.unique(list(plaintext), return_counts=True)\n",
    "    ioc = np.sum(counts*(counts-1))\n",
    "    return float(ioc)/(N*(N-1))"
   ]
  },
  {
   "cell_type": "code",
   "execution_count": 48,
   "id": "196adde9",
   "metadata": {},
   "outputs": [
    {
     "data": {
      "text/plain": [
       "(0.06501421207303561, 0.06510498004511539, 0.0711408411252351)"
      ]
     },
     "execution_count": 48,
     "metadata": {},
     "output_type": "execute_result"
    }
   ],
   "source": [
    "index_of_coincidence(z408_plaintext),\\\n",
    "index_of_coincidence(z340_plaintext),\\\n",
    "index_of_coincidence(singh_codebook_plaintext)"
   ]
  },
  {
   "cell_type": "markdown",
   "id": "bd398c97",
   "metadata": {},
   "source": [
    "### Plaintext scoring"
   ]
  },
  {
   "cell_type": "markdown",
   "id": "2bda2118",
   "metadata": {},
   "source": [
    "The following is _based_ on AZdecrypt's cost function: \n",
    "\n",
    "    ent = ngram_score*entropy^solvesub_entweight\n",
    "    \n",
    "    solvesub_ngramfactor = (1+((s/l)*solvesub_multiplicityweight))*al*scoretohave/ent"
   ]
  },
  {
   "cell_type": "code",
   "execution_count": 439,
   "id": "8105d137",
   "metadata": {},
   "outputs": [],
   "source": [
    "def plaintext_score(plaintext, ngram_size):\n",
    "    \n",
    "    # AZdecrypt-based score. \n",
    "    score_ngram = plaintext_ngram_score(plaintext, ngram_size)\n",
    "    score_entropy = plaintext_entropy(plaintext)\n",
    "    score_multiplicity = multiplicity(plaintext)\n",
    "    a1 = len(plaintext) - ngram_size + 1\n",
    "    azd_score = score_ngram*score_entropy/((1. + score_multiplicity)*a1)\n",
    "\n",
    "    # English plaintext entropy based score. \n",
    "    # mean_english_entropy = 2.85\n",
    "    # entropy_score = math.exp(-(score_entropy - mean_english_entropy)**2)\n",
    "    \n",
    "    # Index of coincidence. \n",
    "    # mean_english_ioc = 0.067\n",
    "    # ioc = index_of_coincidence(plaintext)\n",
    "    # ioc_score = math.exp(-(ioc - mean_english_ioc)**2)\n",
    "    \n",
    "    # print(azd_score, entropy_score, ioc_score)\n",
    "    \n",
    "    return azd_score # + 0.05*entropy_score + 0.05*ioc_score"
   ]
  },
  {
   "cell_type": "code",
   "execution_count": 440,
   "id": "87c6f031",
   "metadata": {},
   "outputs": [
    {
     "data": {
      "text/plain": [
       "2.338269337952622"
      ]
     },
     "execution_count": 440,
     "metadata": {},
     "output_type": "execute_result"
    }
   ],
   "source": [
    "plaintext_score(z408_plaintext, ngram_size)"
   ]
  },
  {
   "cell_type": "code",
   "execution_count": 441,
   "id": "e6c51f39",
   "metadata": {},
   "outputs": [
    {
     "data": {
      "text/plain": [
       "2.649247308520241"
      ]
     },
     "execution_count": 441,
     "metadata": {},
     "output_type": "execute_result"
    }
   ],
   "source": [
    "plaintext_score(singh_codebook_plaintext, ngram_size)"
   ]
  },
  {
   "cell_type": "code",
   "execution_count": 442,
   "id": "6027c88b",
   "metadata": {},
   "outputs": [
    {
     "data": {
      "text/plain": [
       "0.8831771480855762"
      ]
     },
     "execution_count": 442,
     "metadata": {},
     "output_type": "execute_result"
    }
   ],
   "source": [
    "plaintext_score(singh_codebook_plaintext.replace('A','Z').replace('E','W'), ngram_size)"
   ]
  },
  {
   "cell_type": "markdown",
   "id": "5e6b7fc0",
   "metadata": {},
   "source": [
    "### Score for the candidate key"
   ]
  },
  {
   "cell_type": "code",
   "execution_count": 151,
   "id": "11ff32ea",
   "metadata": {},
   "outputs": [],
   "source": [
    "def state_score(ciphertext, key, ngram_size):\n",
    "    plaintext = plaintext_from_key(ciphertext, key)\n",
    "    plaintext = ''.join(plaintext)\n",
    "    return plaintext_score(plaintext, ngram_size)"
   ]
  },
  {
   "cell_type": "code",
   "execution_count": 152,
   "id": "4d490e61",
   "metadata": {},
   "outputs": [
    {
     "data": {
      "text/plain": [
       "0.0019300867454396186"
      ]
     },
     "execution_count": 152,
     "metadata": {},
     "output_type": "execute_result"
    }
   ],
   "source": [
    "state_score(ciphertext, initial_key_example, ngram_size)"
   ]
  },
  {
   "cell_type": "code",
   "execution_count": 147,
   "id": "f335da05",
   "metadata": {},
   "outputs": [],
   "source": [
    "def multiplicity(plaintext):\n",
    "    return float(len(np.unique(list(plaintext))))/len(plaintext)"
   ]
  },
  {
   "cell_type": "markdown",
   "id": "b3baa197",
   "metadata": {},
   "source": [
    "### Solve homophonic substitution cipher"
   ]
  },
  {
   "cell_type": "code",
   "execution_count": 443,
   "id": "331eeea7",
   "metadata": {},
   "outputs": [],
   "source": [
    "def solve_homophonic_substitution_cipher(ciphertext, \n",
    "    initial_temperature, \n",
    "    cooling_rate,\n",
    "    n_restarts, \n",
    "    n_local, \n",
    "    ngram_size = 5,\n",
    "    initial_key = None,\n",
    "    downhill = False,\n",
    "    backtracking = False,\n",
    "    backtracking_ratio = 0.1, \n",
    "    tabu = False,\n",
    "    tabu_size = 32, \n",
    "    permute_vowels = False):\n",
    "    \n",
    "    n_explore = 0\n",
    "    n_downhill = 0\n",
    "    n_iterations = 0\n",
    "    n_since_best = 0\n",
    "    n_backtracks = 0\n",
    "    best_score = 0\n",
    "    \n",
    "    n_tabu = 0\n",
    "    max_tabu = 8\n",
    "    tabu_queue = []\n",
    "    \n",
    "    vowel_permute_success = False\n",
    "    \n",
    "    start = time.time()\n",
    "    prev = time.time()    \n",
    "    \n",
    "    for n_restart in range(n_restarts):\n",
    "\n",
    "        # Generate initial state (key for the cipher). \n",
    "        if initial_key is not None:\n",
    "            current_state = copy.deepcopy(initial_key)            \n",
    "        else:\n",
    "            current_state = generate_initial_key(ciphertext)\n",
    "        current_score = state_score(ciphertext, current_state, ngram_size)\n",
    "        \n",
    "        if n_restart == 0:\n",
    "            best_state = copy.deepcopy(current_state)\n",
    "            best_score = current_score\n",
    "        \n",
    "        temp = initial_temperature\n",
    "\n",
    "        while temp > 1:\n",
    "\n",
    "            # Pertubate current state. \n",
    "            neighbour_state = copy.deepcopy(current_state)\n",
    "            neighbour_score = current_score\n",
    "\n",
    "            # Permute vowels. (EXPERIMENTAL & UNDER CONSTRUCTION!!)\n",
    "            if permute_vowels:\n",
    "                vowel_permute_success, neighbour_state, neighbour_score = \\\n",
    "                    downhill_vowel_permute(neighbour_state, neighbour_score)\n",
    "            \n",
    "            # Local (downhill) search.\n",
    "            local = False\n",
    "            for _ in range(n_local):\n",
    "                # Tabu search. \n",
    "                i = 0\n",
    "                while i < max_tabu:\n",
    "                    i += 1\n",
    "                    n_iterations += 1\n",
    "                    n_since_best += 1\n",
    "                    local_state = pertubate(neighbour_state)\n",
    "                    local_state_hash = hash(str(list(local_state.values())))\n",
    "                    if tabu:\n",
    "                        if local_state_hash not in tabu_queue:\n",
    "                            tabu_queue.append(local_state_hash)\n",
    "                            if len(tabu_queue) > tabu_size:\n",
    "                                tabu_queue.pop(0)\n",
    "                            break\n",
    "                        else:\n",
    "                            n_tabu += 1\n",
    "                    else:\n",
    "                        break\n",
    "\n",
    "                local_score = state_score(ciphertext, local_state, ngram_size)\n",
    "                if local_score > neighbour_score:\n",
    "                    local = True\n",
    "                    neighbour_state = copy.deepcopy(local_state)\n",
    "                    neighbour_score = local_score\n",
    "\n",
    "            if not local:\n",
    "                # neighbour_state = pertubate(current_state)\n",
    "                # neighbour_score = state_score(ciphertext, neighbour_state, ngram_size)\n",
    "                neighbour_state = local_state\n",
    "                neighbour_score = local_score\n",
    "\n",
    "            # Improved state.  \n",
    "            if neighbour_score > current_score:\n",
    "                n_downhill += 1\n",
    "                current_state = copy.deepcopy(neighbour_state)\n",
    "                current_score = neighbour_score\n",
    "                if current_score > best_score:\n",
    "                    n_since_best = 0\n",
    "                    best_state = copy.deepcopy(current_state)\n",
    "                    best_score = current_score\n",
    "            \n",
    "            # Downhill or boltzman function.\n",
    "            if not downhill and math.exp((neighbour_score - current_score)/temp) > random.uniform(0.,1.):\n",
    "                n_explore += 1\n",
    "                current_state = copy.deepcopy(neighbour_state)\n",
    "                current_score = neighbour_score\n",
    "\n",
    "            # Decrease temperature. \n",
    "            temp *= 1.0 - cooling_rate\n",
    "\n",
    "            # Backtrack to best solution. \n",
    "            if backtracking and n_since_best/n_iterations > backtracking_ratio:\n",
    "                # print('backtracking...')\n",
    "                n_backtracks += 1\n",
    "                current_state = copy.deepcopy(best_state)\n",
    "                current_score = best_score\n",
    "            \n",
    "            # debugging. \n",
    "            if n_iterations % 10000 == 0:\n",
    "                iter_per_sec = int(10000/(time.time() - prev))\n",
    "                prev = time.time()\n",
    "                \n",
    "                plaintext = plaintext_from_key(ciphertext, best_state)\n",
    "                plaintext = ''.join(plaintext)\n",
    "                ngram_score = plaintext_ngram_score(plaintext, ngram_size)\n",
    "                ioc = index_of_coincidence(plaintext)\n",
    "                entropy = plaintext_entropy(plaintext)\n",
    "                \n",
    "                print(f'{(time.time() - start)/60.:.2f} mins elapsed')\n",
    "                print(f'{iter_per_sec} iterations / sec')\n",
    "                print(f'temperature     = {temp:.2f}')\n",
    "                print('')\n",
    "                print(f'best score      = {best_score:.2f}')\n",
    "                print(f'n-gram          = {ngram_score:.2f}')\n",
    "                print(f'ioc             = {ioc:.4f}    (english ~0.0686)')\n",
    "                print(f'entropy         = {entropy:.2f}      (english ~2.85)')\n",
    "                print('')\n",
    "                \n",
    "                plaintext = plaintext_from_key(ciphertext, current_state)\n",
    "                plaintext = ''.join(plaintext)\n",
    "                ngram_score = plaintext_ngram_score(plaintext, ngram_size)\n",
    "                ioc = index_of_coincidence(plaintext)\n",
    "                entropy = plaintext_entropy(plaintext)\n",
    "\n",
    "                print(f'current score   = {current_score:.2f}')\n",
    "                print(f'n-gram          = {ngram_score:.2f}')\n",
    "                print(f'ioc             = {ioc:.4f}')\n",
    "                print(f'entropy         = {entropy:.2f}')\n",
    "                print('')\n",
    "                \n",
    "                print(f'n_iterations    = {n_iterations}')\n",
    "                print(f'n_restart       = {n_restart}')\n",
    "                print(f'n_backtracks    = {n_backtracks}')\n",
    "                print(f'n_tabu          = {n_tabu}')\n",
    "                print(f'n_downhill      = {n_downhill}')\n",
    "                print(f'n_explore       = {n_explore}')\n",
    "                print(f'n_since_best    = {n_since_best}')\n",
    "                print('')\n",
    "                print(''.join(plaintext_from_key(ciphertext, best_state)))\n",
    "                print('')\n",
    "                print(''.join(plaintext_from_key(ciphertext, current_state)))\n",
    "                print('')\n",
    "                print(best_state)\n",
    "                print('')\n",
    "        # print('restarting...')\n",
    "    \n",
    "    return best_score, best_state"
   ]
  },
  {
   "cell_type": "code",
   "execution_count": null,
   "id": "c8a6c9e2",
   "metadata": {},
   "outputs": [],
   "source": [
    "best_score, best_state = solve_homophonic_substitution_cipher(ciphertext, 1e3, 0.001, 10000, 100, \n",
    "    tabu = False, backtracking = False)"
   ]
  },
  {
   "cell_type": "markdown",
   "id": "9dae096b",
   "metadata": {},
   "source": [
    "    2.78 mins elapsed\n",
    "    567 iterations / sec\n",
    "    temperature     = 406.39\n",
    "\n",
    "    best score      = 2.61\n",
    "    n-gram          = 1563.31\n",
    "    ioc             = 0.0710    (english ~0.067)\n",
    "    entropy         = 2.83      (english ~2.85)\n",
    "\n",
    "    current score   = 2.29\n",
    "    n-gram          = 1425.29\n",
    "    ioc             = 0.0789\n",
    "    entropy         = 2.73\n",
    "\n",
    "    n_iterations    = 90000\n",
    "    n_restart       = 0\n",
    "    n_backtracks    = 0\n",
    "    n_tabu          = 0\n",
    "    n_downhill      = 587\n",
    "    n_explore       = 900\n",
    "    n_since_best    = 8400\n",
    "\n",
    "    FORCENTURIESKINGSCUEENSANDGENERALSHAVERELIEMONEFFICIENTCOMMUNICATIONINORDERTOGOVERNTHEIRCOUNTRIESANMCOMMANDTHEIRARMIESATTHESAMETIMETHEYHAVEALLBEENAWAREOFTHECONSECUENCESOFTHEIRMESSAGESFALLINGINTOTHEWRONGHANMSREVEALINGPRECIOUSSECRETSTORIVALNATIONSANDBETRAYINGVITALINFORMATIONTOOPPOSINGFORCESITWASTHETHREATOFENEMYINTERCEPTIONTHATMOTIVATEMTHEDEVELOPMENTOFCOMESANDCIPHERSTECHNICUESFORMISGUISINGAMESSAGESOTHATONLYTHEINTENDEMRECIPIENTCANREADITTHEMESIREFORSECRECYHASMEANTTHATNATIONSHAVEOPERATEDCOMEMAKINGDEPARTMENTSWHICHWERERESPONSIBLEFORENSURINGTHESECURITYOFCOMMUNICATIONSBYINVENTINGANMIMPLEMENTINGTHEBESTPOSSIBLECODESATTHESAMETIMEENEMYCOMEBREAKERSHAVEATTEMPTEDTOBREAKTHESECOMESANDSTEALSECRETSCOMEBREAKERSARELINGUISTICALCHEMISTSAMYSTICALTRIBEATTEMPTINGTOCONJURESENSIBLEWORDSOUTOFMEANINGLESSSYMBOLSTHEHISTORYOFCOMESANDCIPHERSISTHESTORYOFTHECENTURIESOLMBATTLEBETWEENCODEMAKERSANMCODEBREAKERSANINTELLECTUALARMSRACETHATHASHAMADRAMATICIMPACTONTHECOURSEOFHISTORYINWRITINGTHECOMEBOOKIHAVEHADTWOMAINOBJECTIVESTHEFIRSTISTOCHARTTHEEVOLUTIONOFCOMESEVOLUTIONISAWHOLLYAPPROPRIATETERMBECAUSETHEDEVELOPMENTOFCOMESCANBEVIEWEDASANEVOLUTIONARYSTRUGGLEACOMEISCONSTANTLYUNDERATTACKFROMCOMEBREAKERSWHENTHECODEBREAKERSHAVEMEVELOPEDANEWWEAPONTHATREVEALSACOMESWEAKNESSTHENTHECODEISNOLONGERUSEFULITEITHERBECOMESEXTINCTORITEVOLVESINTOANEWSTRONGERCOMEINTURNTHISNEWCODETHRIVESONLYUNTILTHECOMEBREAKERSIDENTIFYITSWEAKNESSANMSOONTHISISSIMILARTOTHESITUATIONFACINGFOREXAMPLEASTRAINOFINFECTIOUSBACTERIATHEBACTERIALIVETHRIVEANDSURVIVEUNTILMOCTORSDISCOVERANANTIBIOTICTHATEXPOSESAWEAKNESSINTHEBACTERIAANMKILLSTHEMTHEBACTERIAAREFORCEDTOEVOLVEANMOUTWITTHEANTIBIOTICANDIFSUCCESSFULTHEYWILLTHRIVEONCEAGAINANMREESTABLISHTHEMSELVES\n",
    "\n",
    "    {'A': [2, 45, 25, 50, 59], 'B': [41], 'C': [61, 37, 22, 47], 'D': [4], 'E': [33, 7, 0, 10, 40, 53, 20, 54, 42], 'F': [34], 'G': [15], 'H': [46, 51, 30], 'I': [60, 1, 19, 31, 56], 'J': [63], 'K': [8], 'L': [38, 57], 'M': [21, 39], 'N': [3, 27, 48, 23], 'O': [13, 58, 5, 11], 'P': [24], 'Q': [], 'R': [43, 28, 29], 'S': [17, 18, 32, 9], 'T': [44, 16, 55, 36, 49, 12], 'U': [14], 'V': [52], 'W': [35], 'X': [62], 'Y': [26], 'Z': []}"
   ]
  },
  {
   "cell_type": "markdown",
   "id": "fa0d75f4",
   "metadata": {},
   "source": [
    "    9.51 mins elapsed\n",
    "    1776 iterations / sec\n",
    "    temperature     = 74.55\n",
    "\n",
    "    best score      = 2.34\n",
    "    n-gram          = 347.31\n",
    "    ioc             = 0.0657    (english ~0.067)\n",
    "    entropy         = 2.87      (english ~2.85)\n",
    "\n",
    "    current score   = 2.08\n",
    "    n-gram          = 318.40\n",
    "    ioc             = 0.0731\n",
    "    entropy         = 2.76\n",
    "\n",
    "    n_iterations    = 950000\n",
    "    n_restart       = 1\n",
    "    n_backtracks    = 0\n",
    "    n_tabu          = 0\n",
    "    n_downhill      = 6896\n",
    "    n_explore       = 9487\n",
    "    n_since_best    = 2500\n",
    "\n",
    "    ILIKEKILLINGPEOPLEBECAUSEITISSOMUCHFUNITIAMOREFUNTHANKILLINGWILDGAMEINTHEFORRESTBECAUSEMANISTHEMOATDANGERTUEANAMALOFALLTOKILLSOMETHINGGIVESMETHEMOATTHRILLINGERPERENCEITISEVENBETTERTHANGETTINGYOURROCKSOFFWITHAGIRLTHEBESTPARTOFITIATHAEWHENIDIEIWILLBEREBORNINPARADICEANDALLTHEIHAVEKILLEDWILLBECOMEMYSLAVESIWILLNOTGIVEYOUMYNAMEBECAUSEYOUWILLTRYTOSLOIDOWNORATOPMYCOLLECTINGOFSLAVESFORMYAFTERLIFEEBEORIETEMETHHPITI\n",
    "\n",
    "    {'A': ['S', 'G', 'l', '8', '7'], 'B': ['V'], 'C': ['e'], 'D': ['f', 'z'], 'E': ['+', 'N', '6', 'Z', 'E', 'W', 'p'], 'F': ['Q', 'J'], 'G': ['R'], 'H': ['M', ')'], 'I': ['U', 'P', '9', 'k'], 'J': [], 'K': ['/'], 'L': ['%', '#', 'B'], 'M': ['q'], 'N': ['O', '^', '(', 'D'], 'O': ['!', 'X', 'T', 'd'], 'P': ['='], 'Q': [], 'R': ['\\\\', 't', 'r', 'j'], 'S': ['K', '@', 'F'], 'T': ['H', 'L', 'I', '5'], 'U': ['Y'], 'V': ['c'], 'W': ['A'], 'X': [], 'Y': ['_'], 'Z': []}"
   ]
  },
  {
   "cell_type": "code",
   "execution_count": null,
   "id": "0ed9bb47",
   "metadata": {},
   "outputs": [],
   "source": [
    "best_score, best_state = solve_homophonic_substitution_cipher(singh_378_55_ciphertext, 1e3, 0.001, 1000, 100,\n",
    "    tabu = False)"
   ]
  },
  {
   "cell_type": "markdown",
   "id": "cf4662fe",
   "metadata": {},
   "source": [
    "    5.08 mins elapsed\n",
    "    2178 iterations / sec\n",
    "    temperature     = 1.66\n",
    "\n",
    "    best score      = 2.58\n",
    "    n-gram          = 365.22\n",
    "    ioc             = 0.0712    (english ~0.067)\n",
    "    entropy         = 2.80      (english ~2.85)\n",
    "\n",
    "    n_iterations    = 640000\n",
    "    n_restart       = 0\n",
    "    n_backtracks    = 0\n",
    "    n_tabu          = 0\n",
    "    n_downhill      = 4470\n",
    "    n_explore       = 6382\n",
    "    n_since_best    = 6500\n",
    "\n",
    "    FORCENTURIESTINGSQUEENSANDGENERALSHAVERELIEDONEFFICIENTCOMMUNICATIONINORDERTOGOVERNTHEIRCOUNTRIESANDCOMMANDTHEIRARMIESATTHESAMETIMETHEYHAVEALLBEENAWAREOFTHECONSEQUENCESOFTHEIRMESSAGESFALLINGINTOTHEWRONGHANDSREVEALINGPRECIOUSSECRETSTORIVALNATIONSANDBETRAYINGVITALINFORMATIONTOOPPOSINGFORCESITWASTHETHREATOFENEMYINTERCEPTIONTHATMOTIVATEDTHEDEVELOPMENTOFCODESANDCIPHERSTECHNIQUESFO\n",
    "\n",
    "    {'A': [9, 34, 33, 35], 'B': [2], 'C': [20, 52], 'D': [53], 'E': [18, 6, 54, 29, 27, 0, 17], 'F': [10], 'G': [8], 'H': [16, 43], 'I': [22, 28, 49, 30], 'J': [], 'K': [], 'L': [44], 'M': [26, 45], 'N': [3, 48, 23, 39, 38], 'O': [15, 4, 37, 41], 'P': [7], 'Q': [32], 'R': [19, 1, 42], 'S': [40, 46, 11], 'T': [31, 51, 13, 5, 47, 36], 'U': [25], 'V': [24], 'W': [50], 'X': [], 'Y': [21], 'Z': []}"
   ]
  },
  {
   "cell_type": "code",
   "execution_count": null,
   "id": "ea828185",
   "metadata": {},
   "outputs": [],
   "source": [
    "best_score, best_state = solve_homophonic_substitution_cipher(z340_untransposed, 1e3, 0.001, 1000, 100,\n",
    "    backtracking = False)"
   ]
  },
  {
   "cell_type": "markdown",
   "id": "9508a643",
   "metadata": {},
   "source": [
    "    23.37 mins elapsed\n",
    "    2215 iterations / sec\n",
    "    temperature     = 137.93\n",
    "\n",
    "    best score      = 2.21\n",
    "    n-gram          = 281.92\n",
    "    ioc             = 0.0708    (english ~0.067)\n",
    "    entropy         = 2.79      (english ~2.85)\n",
    "\n",
    "    current score   = 1.95\n",
    "    n-gram          = 266.66\n",
    "    ioc             = 0.0872\n",
    "    entropy         = 2.59\n",
    "\n",
    "    n_iterations    = 2960000\n",
    "    n_restart       = 4\n",
    "    n_backtracks    = 0\n",
    "    n_tabu          = 0\n",
    "    n_downhill      = 22224\n",
    "    n_explore       = 29566\n",
    "    n_since_best    = 354300\n",
    "\n",
    "    IHOPEYOUAREHAVINGLOTSOFFAEINTRYINGTOCATCHMETHATWASSTMESSTHETVSHOWWHICHBRITGOUPAPOINTABOUTMEIAMESTAFRAINOFTHEGASCHAMBERBECAASEITWILLRETIMESSPARALLCEALLTHEROOHERBECAUSEENOWHAVEENOUGHSLAVESTOWORVFORMEWHEREEVERYSSEELREHASTOTHINGWHENTHEYREACHPARALICESOTHEYAREAFRAINOFLEATHIAMESSAFRAINBECAUSEIVESWTHATMYNEWLIFEIRLIFEWILLBEATEARYONEISPARANICEIEATH\n",
    "\n",
    "    {'A': ['l', 'O', 'K', 'z', '*'], 'B': ['_', 'f'], 'C': ['p'], 'D': [], 'E': ['4', 'N', '|', 'c', '9', 'B', 'b'], 'F': ['F'], 'G': ['L'], 'H': ['+'], 'I': ['k', 'P', '<', 'y', 'H', 'A'], 'J': [], 'K': [], 'L': ['t', 'd', '7', '6'], 'M': ['2'], 'N': ['>', '.', 'S'], 'O': ['V', 'M', 'R'], 'P': ['8', 'j'], 'Q': [], 'R': ['Z', 'T', 'E', 'X', '-', '1'], 'S': ['U', ':', '^', 'J', 'D', '&'], 'T': ['#', '(', 'G', ';', '%', 'Y'], 'U': ['/', '@', 'q'], 'V': ['5'], 'W': ['W', ')'], 'X': [], 'Y': ['3', 'C'], 'Z': []}"
   ]
  },
  {
   "cell_type": "markdown",
   "id": "e4ed936f",
   "metadata": {},
   "source": [
    "Ref: https://github.com/doranchak/azdecrypt/blob/main/AZdecrypt/Ciphers/Substitution/RayN.txt\n",
    "\n",
    "See also p. 155, The Zodiac Revisited, vol. 2, Michael Cole"
   ]
  },
  {
   "cell_type": "code",
   "execution_count": 235,
   "id": "a061713d",
   "metadata": {},
   "outputs": [],
   "source": [
    "ray_nixon_378_ciphertext = \\\n",
    "'R§Ñ∏YWæ∑ΩìZZµj+≥Mô\\\n",
    "B∞VÑTSQA±ö‘—≤•£âXW\\\n",
    "ûJYæä∏ZTæ∑RéA∫§±•Æ\\\n",
    "¥≤ô¬íMπÃ∫√YÀΩ§YZWT\\\n",
    "∏ÑAj∑N¥Bî±íE•≤§SZQ\\\n",
    "≥+µMj¬∏ÀRVÑQJY∑¥éZ\\\n",
    "•+öMVûJTWæº∏£‘√ŒBä\\\n",
    "–Nº∑ôAW∞VÑπ£SE—î±À\\\n",
    "R•XΩô+íµ∏DRÀ+¥VÑÃ≥\\\n",
    "£Àâ¬jûQ≤ôYì∑√¥öVìZ\\\n",
    "•TéA£ôNMæJ±∞VB≤£Æπ\\\n",
    "SWEíäR§À∏YR+PµMZ∑ì\\\n",
    "ΩôDTjA∫—M±≥X≤V¥£Ñû\\\n",
    "îYD¬ÀWöô+ZRÀ+ZV∞£Ñ\\\n",
    "æQTJAΩ•BŒ§SπW≥—±ÃW\\\n",
    "ûä≤WMR∫§DYì√¥ZTW∆æ\\\n",
    "W¥¥£ÀÃA‘âÆP±ìB∏≤§Z\\\n",
    "S∑∞∆PY+NíMπ∫§öôÀ‘E\\\n",
    "ºÃµV∫W—îZR•ûQ¥∏âæj\\\n",
    "¬∑í•TA+√WÑ∞é±ÆBJ≤¥\\\n",
    "äŒ£ÑY∏jN∑éZôÑTRVìA'"
   ]
  },
  {
   "cell_type": "code",
   "execution_count": null,
   "id": "885ba278",
   "metadata": {},
   "outputs": [],
   "source": [
    "best_score, best_state = solve_homophonic_substitution_cipher(ray_nixon_378_ciphertext, 1e3, 0.001, 1000, 100,\n",
    "    backtracking = True)"
   ]
  },
  {
   "cell_type": "markdown",
   "id": "00e0603f",
   "metadata": {},
   "source": [
    "    100.94 mins elapsed\n",
    "    1974 iterations / sec\n",
    "    temperature     = 2.18\n",
    "\n",
    "    best score      = 2.17\n",
    "    best ioc        = 0.0733    (english ~0.067)\n",
    "    best entropy    = 2.77      (english ~2.85)\n",
    "\n",
    "    n_iterations    = 10970000\n",
    "    n_restart       = 15\n",
    "    n_backtracks    = 0\n",
    "    n_tabu          = 0\n",
    "    n_downhill      = 79856\n",
    "    n_explore       = 29623\n",
    "    n_since_best    = 6883400\n",
    "\n",
    "    ASGREYTRACEEOFDAWNTINGETHEEASTERNSTYTHETHREETRAVELSERSIENOFWILLBEDASEEYERGEFROITHEFORESTEHADOWFORDANGHHERIVERDAWNTHEYTURNSBOTHBOURNEYINGINTOTHEDARTANDFORBADDINGLANDSOFTHENECRBIANCEREVENNOWTHEINTENSITYOFHASDREADPOWERCANBEFELTWEATENINGTHEBODYANDEADDENINGTHEHEARTOSTIYATELYTHEYWALSBECBIEEYPTYIINDLESSSPECTRESETRIPPEDOFWILSANDSOULONLYTHEARTHIRSTFORFREEDBYGIVESTHEIHONGERFORVENGEANCE\n",
    "\n",
    "    {'A': ['R', 'ö', 'Ω', '≥'], 'B': ['D', '√', '–'], 'C': ['ì'], 'D': ['À', '+'], 'E': ['±', 'Z', 'T', 'A', 'Y', '≤'], 'F': ['j', 'í'], 'G': ['Ñ'], 'H': ['J', 'ä', 'î', 'Q'], 'I': ['π', '¥', '∞'], 'J': [], 'K': [], 'L': ['∫', 'Ã'], 'M': [], 'N': ['ô', 'V', '£'], 'O': ['¬', 'N', 'E', 'µ', 'Œ'], 'P': ['P', '∆'], 'Q': [], 'R': ['∏', '•', '∑'], 'S': ['Æ', '‘', '§', 'â'], 'T': ['—', 'S', 'û', 'æ', 'B', 'X'], 'U': ['º'], 'V': ['é'], 'W': ['M'], 'X': [], 'Y': ['W'], 'Z': []}"
   ]
  },
  {
   "cell_type": "code",
   "execution_count": null,
   "id": "70fcb33e",
   "metadata": {},
   "outputs": [],
   "source": [
    "# TODO: add cribs to solve\n",
    "best_score, best_state = solve_homophonic_substitution_cipher(z340_untransposed[:9*17], 1e3, 0.001, 10000, 10,\n",
    "    backtracking = False)"
   ]
  },
  {
   "cell_type": "markdown",
   "id": "158e1db1",
   "metadata": {},
   "source": [
    "Ref: https://github.com/doranchak/azdecrypt/blob/main/AZdecrypt/Ciphers/Substitution/glurk%201.txt"
   ]
  },
  {
   "cell_type": "code",
   "execution_count": 453,
   "id": "b427f07f",
   "metadata": {},
   "outputs": [],
   "source": [
    "glurk_1 = \">J&9*+%F8$WT13+!#\\\n",
    "4*J{;.RTX*5XC;E1&\\\n",
    "<9=5^<9*;=UC]HM[,\\\n",
    "6[M3=DE}.6K#3]CQD\\\n",
    "L]X-HK-_Q*8B524T-\\\n",
    "Z&<4(7)&MKADKV<K-\\\n",
    "@KMG4@#IW0:N+=L32\\\n",
    "PJ1.Z;@6G#8I;&=5^\\\n",
    "67*-4.;KT$9!ML46C\\\n",
    ";M3V!P+H-Z#7@93SK\\\n",
    "#PBP,W:*Q*1Y,}O%]\\\n",
    "L;,;X:@A#&<GZI6AB\\\n",
    "W4V3OVU17!DZJT7IQ\\\n",
    "KCJH<%$G,P\\WVF<{*\\\n",
    "{=8^G#A*=AH{S3|5+\\\n",
    "'%O!MN':OQAV$UECF\\\n",
    "ZOR5FCO(5J8&\\\"{Q4B\\\n",
    "GSNP_Z_RTW..NVACR\\\n",
    "<@UM{C+M*N4\\PMEWZ\\\n",
    "#8_!,<[]4,(WI;XS9\""
   ]
  },
  {
   "cell_type": "code",
   "execution_count": null,
   "id": "d37f815f",
   "metadata": {},
   "outputs": [],
   "source": [
    "best_score, best_state = solve_homophonic_substitution_cipher(glurk_1, 1e3, 0.001, 10000, 100,\n",
    "    backtracking = False)"
   ]
  },
  {
   "cell_type": "markdown",
   "id": "61c2da9c",
   "metadata": {},
   "source": [
    "Ref: https://github.com/doranchak/azdecrypt/blob/main/AZdecrypt/Ciphers/Substitution/glurk%202.txt"
   ]
  },
  {
   "cell_type": "code",
   "execution_count": 455,
   "id": "b0a0b70f",
   "metadata": {},
   "outputs": [],
   "source": [
    "glurk_2 = \"j_CN<!J4e7ilK0=B4\\\n",
    "ah0Vl8C7Yk7igO4f:\\\n",
    "D`^=^NeAbKl8F7AlX\\\n",
    ":3d00V_AahZQ2m5dQ\\\n",
    "<mH1JTmml7Wol1ChO\\\n",
    "ehZQD6d@QI3`KF<8Z\\\n",
    "cB76@nWbF!TTZn=P=\\\n",
    "7aebYIgmZJFdYea3Y\\\n",
    "86HRfRDGKMV41VEIF\\\n",
    "2pJfKL6:H`hAiC0O7\\\n",
    "Zo7QAnD65_MQh<QBI\\\n",
    "aRT0FdO^6Na=:HnDf\\\n",
    ">I@k7Mc=4NGlmmW9Y\\\n",
    "HLTiS!J:fFIPED0jf\\\n",
    "KDCIYciKRDfi;o39C\\\n",
    "09<Qd<`N^pZm|hUWK\\\n",
    "Fe4IG@N2B3N2kUNG^\\\n",
    "g3<NMcXDi_L07Zo>h\\\n",
    "EgNWcIEPm^_04n2:f\\\n",
    "|hEE0hWJ|!e4pFdgT\""
   ]
  },
  {
   "cell_type": "code",
   "execution_count": null,
   "id": "cbc97a84",
   "metadata": {},
   "outputs": [],
   "source": [
    "best_score, best_state = solve_homophonic_substitution_cipher(glurk_2, 1e3, 0.001, 10000, 100,\n",
    "    backtracking = False)"
   ]
  }
 ],
 "metadata": {
  "kernelspec": {
   "display_name": "Python 3 (ipykernel)",
   "language": "python",
   "name": "python3"
  },
  "language_info": {
   "codemirror_mode": {
    "name": "ipython",
    "version": 3
   },
   "file_extension": ".py",
   "mimetype": "text/x-python",
   "name": "python",
   "nbconvert_exporter": "python",
   "pygments_lexer": "ipython3",
   "version": "3.9.12"
  }
 },
 "nbformat": 4,
 "nbformat_minor": 5
}
