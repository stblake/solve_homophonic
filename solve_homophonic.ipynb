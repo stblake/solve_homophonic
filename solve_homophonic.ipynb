{
 "cells": [
  {
   "cell_type": "markdown",
   "id": "521bdf1b",
   "metadata": {},
   "source": [
    "# Solving homophonic substitution ciphers"
   ]
  },
  {
   "cell_type": "markdown",
   "id": "d004c5bd",
   "metadata": {},
   "source": [
    "Sam Blake, started May 2021"
   ]
  },
  {
   "cell_type": "code",
   "execution_count": 1,
   "id": "2620c1d0",
   "metadata": {},
   "outputs": [],
   "source": [
    "import math\n",
    "import numpy as np\n",
    "import pandas as pd\n",
    "import collections\n",
    "import string\n",
    "import random\n",
    "import copy\n",
    "import time\n",
    "import json"
   ]
  },
  {
   "cell_type": "markdown",
   "id": "8c4ede6d",
   "metadata": {},
   "source": [
    "### Sample plaintext"
   ]
  },
  {
   "cell_type": "code",
   "execution_count": 2,
   "id": "bf3c1408",
   "metadata": {},
   "outputs": [],
   "source": [
    "z408_plaintext = 'I LIKE KILLING PEOPLE BECAUSE IT IS SO MUCH FUN IT IS MORE FUN \\\n",
    "THAN KILLING WILD GAME IN THE FORREST BECAUSE MAN IS THE MOAT DANGEROUE \\\n",
    "ANAMAL OF ALL TO KILL SOME THING GIVES ME THE MOAT THRILLING EXPERENCE IT IS EVEN \\\n",
    "BETTER THAN GETTING YOUR ROCKS OFF WITH A GIRL THE BEST PART OF IT IA THAE WHEN I \\\n",
    "DIE I WILL BE REBORN IN PARADICE SND ALL THE I HAVE KILLED WILL BECOME MY SLAVES I \\\n",
    "WILL NOT GIVE YOU MY NAME BECAUSE YOU WILL TRY TO SLOI DOWN OR STOP MY COLLECTING \\\n",
    "OF SLAVES FOR MY AFTERLIFE EBEORIETEMETHHPITI'.replace(' ', '')"
   ]
  },
  {
   "cell_type": "code",
   "execution_count": 3,
   "id": "3030e578",
   "metadata": {},
   "outputs": [],
   "source": [
    "z340_plaintext = 'I HOPE YOU ARE HAVING LOTS OF FUN IN TRYING TO CATCH ME THAT WASNT ME ON \\\n",
    "THE TV SHOW WHICH BRINGS UP A POINT ABOUT ME I AM NOT AFRAID OF THE GAS CHAMBER BECAUSE IT WILL \\\n",
    "SEND ME TO PARADICE ALL THE SOONER BECAUSE I NOW HAVE ENOUGH SLAVES TO WORK FOR ME WHERE EVERYONE \\\n",
    "ELSE HAS NOTHING WHEN THEY REACH PARADICE SO THEY ARE AFRAID OF DEATH I AM NOT AFRAID BECAUSE I \\\n",
    "KNOW THAT MY NEW LIFE WILL BE AN EASY ONE IN PARADICE LIFE IS DEATH'.replace(' ', '')"
   ]
  },
  {
   "cell_type": "code",
   "execution_count": 4,
   "id": "a20cb2c5",
   "metadata": {},
   "outputs": [],
   "source": [
    "# Shamelessly used without permission. \n",
    "singh_codebook_plaintext = \"For centuries kings queens and generals have relied on efficient \\\n",
    "communication in order to \\\n",
    "govern their countries and command their armies At the same time they have all been aware of \\\n",
    "the consequences of their messages falling into the wrong hands revealing precious secrets to \\\n",
    "rival nations and betraying vital information to opposing forces It was the threat of enemy \\\n",
    "interception that motivated the development of codes and ciphers techniques for disguising a \\\n",
    "message so that only the intended recipient can read it \\\n",
    "The desire for secrecy has meant that nations have operated codemaking departments which were \\\n",
    "responsible for ensuring the security of communications by inventing and implementing the best \\\n",
    "possible codes At the same time enemy code breakers have attempted to break these codes and steal \\\n",
    "secrets Codebreakers are linguistic alchemists a mystical tribe at tempting to conjure sensible \\\n",
    "words out of meaningless symbols The history of codes and ciphers is the story of the centuries \\\n",
    "old battle between codemakers and codebreakers an intellectual arms race that has had a dramatic \\\n",
    "impact on the course of history In writing The Code Book I have had two main objectives The first \\\n",
    "is to chart the evolution of codes Evolution is a wholly appropriate term because the development \\\n",
    "of codes can be viewed as an evolutionary struggle A code is constantly under attack from \\\n",
    "codebreakers When the codebreakers have developed a new weapon that reveals a codes weakness then \\\n",
    "the code is no longer useful It either becomes extinct or it evolves into a new stronger code In \\\n",
    "turn this new code thrives only until the codebreakers identify its weakness and so on This is \\\n",
    "similar to the situation facing for example a strain of infectious bacteria The bacteria live \\\n",
    "thrive and survive until doctors discover an antibiotic that exposes a weakness in the bacteria \\\n",
    "and kills them The bacteria are forced to evolve and outwit the antibiotic and if successful \\\n",
    "they will thrive once again and reestablish themselves\".upper().replace(' ','')"
   ]
  },
  {
   "cell_type": "markdown",
   "id": "891f5822",
   "metadata": {},
   "source": [
    "### Ciphers"
   ]
  },
  {
   "cell_type": "code",
   "execution_count": 5,
   "id": "0434b1a1",
   "metadata": {},
   "outputs": [],
   "source": [
    "z340_untransposed = \"H+M8|CV@KEB+*5k.L\\\n",
    "dR(UVFFz9<>#Z3P>L\\\n",
    "(MpOGp+2|G+l%WO&D\\\n",
    "#2b^D(+4(5J+VW)+k\\\n",
    "p+fZPYLR/8KjRk.#K\\\n",
    "_Rq#2|<z29^%OF1*H\\\n",
    "SMF;+BLKJp+l2_cTf\\\n",
    "BpzOUNyG)y7t-cYA2\\\n",
    "N:^j*Xz6dpclddG+4\\\n",
    "-RR+4Ef|pz/JNb>M)\\\n",
    "+l5||.VqL+Ut*5cUG\\\n",
    "R)VE5FVZ2cW+|TB45\\\n",
    "|TC^D4ct-c+zJYM(+\\\n",
    "y.LW+B.;+B31cOp+8\\\n",
    "lXz6Ppb&RG+BCOTBz\\\n",
    "F1K<SMF6N*(+HK29^\\\n",
    ":OFTO<Sf4pl/Ucy59\\\n",
    "^W(+l#2C.B)7<FBy-\\\n",
    "dkF|W<7t_BOYB*-CM\\\n",
    ">cHD8OZzSkpNA|K;+\""
   ]
  },
  {
   "cell_type": "code",
   "execution_count": 6,
   "id": "34711f3a",
   "metadata": {},
   "outputs": [
    {
     "data": {
      "text/plain": [
       "408"
      ]
     },
     "execution_count": 6,
     "metadata": {},
     "output_type": "execute_result"
    }
   ],
   "source": [
    "z408_ciphertext = \"9%P/Z/UB%kOR=pX=B\\\n",
    "WV+eGYF69HP@K!qYe\\\n",
    "MJY^UIk7qTtNQYD5)\\\n",
    "S(/9#BPORAU%fRlqE\\\n",
    "k^LMZJdr\\\\pFHVWe8Y\\\n",
    "@+qGD9KI)6qX85zS(\\\n",
    "RNtIYElO8qGBTQS#B\\\n",
    "Ld/P#B@XqEHMU^RRk\\\n",
    "cZKqpI)Wq!85LMr9#\\\n",
    "BPDR+j=6\\\\N(eEUHkF\\\n",
    "ZcpOVWI5+tL)l^R6H\\\n",
    "I9DR_TYr\\\\de/@XJQA\\\n",
    "P5M8RUt%L)NVEKH=G\\\n",
    "rI!Jk598LMlNA)Z(P\\\n",
    "zUpkA9#BVW\\\\+VTtOP\\\n",
    "^=SrlfUe67DzG%%IM\\\n",
    "Nk)ScE/9%%ZfAP#BV\\\n",
    "peXqWq_F#8c+@9A9B\\\n",
    "%OT5RUc+_dYq_^SqW\\\n",
    "VZeGYKE_TYA9%#Lt_\\\n",
    "H!FBX9zXADd\\\\7L!=q\\\n",
    "_ed##6e5PORXQF%Gc\\\n",
    "Z@JTtq_8JI+rBPQW6\\\n",
    "VEXr9WI6qEHM)=UIk\"\n",
    "len(z408_ciphertext)"
   ]
  },
  {
   "cell_type": "markdown",
   "id": "d39316c9",
   "metadata": {},
   "source": [
    "### Create homophonic substitution cipher"
   ]
  },
  {
   "cell_type": "markdown",
   "id": "79de52dc",
   "metadata": {},
   "source": [
    "TODO: implement non-cyclic symbol assignments. "
   ]
  },
  {
   "cell_type": "code",
   "execution_count": 7,
   "id": "c844cd74",
   "metadata": {},
   "outputs": [],
   "source": [
    "def generate_homophonic_substitution_cipher(plaintext, n_symbols = 64):\n",
    "    \n",
    "    tally = {letter: plaintext.count(letter) for letter in set(plaintext)}\n",
    "    plaintext_chars = list(tally.keys())\n",
    "    plaintext_freqs = np.array(list(tally.values()))\n",
    "    \n",
    "    # Get frequencies\n",
    "    while np.sum(np.round(plaintext_freqs)) > n_symbols:\n",
    "        plaintext_freqs = 0.95*plaintext_freqs\n",
    "        plaintext_freqs = np.maximum(plaintext_freqs, 1.)\n",
    "    plaintext_freqs = np.round(plaintext_freqs)\n",
    "    plaintext_freqs.astype(np.int32)\n",
    "    \n",
    "    # Construct symbol assignments. \n",
    "    ciphertext_symbols = list(range(n_symbols))\n",
    "    random.shuffle(ciphertext_symbols) \n",
    "\n",
    "    plaintext_assignments = len(plaintext_chars)*[[]]\n",
    "    n = 0\n",
    "    for k,freq in enumerate(plaintext_freqs):\n",
    "        for i in range(int(freq)):\n",
    "            plaintext_assignments[k] = plaintext_assignments[k] + [ciphertext_symbols[n]]\n",
    "            n += 1\n",
    "    \n",
    "    cipher_key = dict(zip(plaintext_chars, plaintext_assignments))\n",
    "    \n",
    "    # Encipher using symbol assignments\n",
    "    ciphertext = list(plaintext)\n",
    "    indexes = len(plaintext_chars)*[0]\n",
    "    \n",
    "    for k, char in enumerate(plaintext_chars):\n",
    "        symbols = cipher_key[char]\n",
    "        for i in range(len(ciphertext)):\n",
    "            if ciphertext[i] == char:\n",
    "                ciphertext[i] = symbols[indexes[k]%len(symbols)]\n",
    "                indexes[k] += 1    \n",
    "    \n",
    "    return cipher_key, ciphertext"
   ]
  },
  {
   "cell_type": "code",
   "execution_count": 8,
   "id": "38cba040",
   "metadata": {
    "scrolled": true
   },
   "outputs": [
    {
     "name": "stdout",
     "output_type": "stream",
     "text": [
      "{'U': [2], 'D': [0, 11], 'N': [26, 19, 33, 46], 'S': [59, 40, 60, 54], 'V': [51], 'Q': [6], 'L': [58, 23], 'K': [62], 'F': [52], 'R': [10, 47, 3], 'W': [35], 'B': [32], 'I': [24, 41, 42, 53, 7], 'M': [50], 'E': [44, 12, 29, 31, 20, 56, 22, 63, 9], 'X': [61], 'P': [4], 'G': [48], 'J': [13], 'A': [28, 37, 55, 8, 5], 'Y': [30], 'C': [21, 17, 16], 'O': [34, 18, 39, 43], 'T': [49, 57, 38, 36, 45, 15], 'H': [27, 1, 14]}\n"
     ]
    }
   ],
   "source": [
    "cipher_key, ciphertext = generate_homophonic_substitution_cipher(singh_codebook_plaintext)\n",
    "print(cipher_key)"
   ]
  },
  {
   "cell_type": "code",
   "execution_count": 9,
   "id": "225f6e85",
   "metadata": {
    "collapsed": true
   },
   "outputs": [
    {
     "name": "stdout",
     "output_type": "stream",
     "text": [
      "{'U': [2], 'D': [0, 11], 'N': [26, 19, 33, 46], 'S': [59, 40, 60, 54], 'V': [51], 'Q': [6], 'L': [58, 23], 'K': [62], 'F': [52], 'R': [10, 47, 3], 'W': [35], 'B': [32], 'I': [24, 41, 42, 53, 7], 'M': [50], 'E': [44, 12, 29, 31, 20, 56, 22, 63, 9], 'X': [61], 'P': [4], 'G': [48], 'J': [13], 'A': [28, 37, 55, 8, 5], 'Y': [30], 'C': [21, 17, 16], 'O': [34, 18, 39, 43], 'T': [49, 57, 38, 36, 45, 15], 'H': [27, 1, 14]}\n",
      "[52, 34, 10, 21, 44, 26, 49, 2, 47, 24, 12, 59, 62, 41, 19, 48, 40, 6, 2, 29, 31, 33, 60, 28, 46, 0, 48, 20, 26, 56, 3, 37, 58, 54, 27, 55, 51, 22, 10, 63, 23, 42, 9, 11, 18, 19, 44, 52, 52, 53, 17, 7, 12, 33, 57, 16, 39, 50, 50, 2, 46, 24, 21, 8, 38, 41, 43, 26, 42, 19, 34, 47, 0, 29, 3, 36, 18, 48, 39, 51, 31, 10, 33, 45, 1, 20, 53, 47, 17, 43, 2, 46, 15, 3, 7, 56, 59, 5, 26, 11, 16, 34, 50, 50, 28, 19, 0, 49, 14, 22, 24, 10, 37, 47, 50, 41, 63, 40, 55, 57, 38, 27, 9, 60, 8, 50, 44, 36, 42, 50, 12, 45, 1, 29, 30, 14, 5, 51, 31, 28, 58, 23, 32, 20, 56, 33, 37, 35, 55, 3, 22, 18, 52, 15, 27, 63, 21, 39, 46, 54, 9, 6, 2, 44, 26, 17, 12, 59, 43, 52, 49, 1, 29, 53, 10, 50, 31, 40, 60, 8, 48, 20, 54, 52, 5, 58, 23, 7, 19, 48, 24, 33, 57, 34, 38, 14, 56, 35, 47, 18, 46, 48, 27, 28, 26, 11, 59, 3, 22, 51, 63, 37, 58, 41, 19, 48, 4, 10, 9, 16, 42, 39, 2, 40, 60, 44, 21, 47, 12, 36, 54, 45, 43, 3, 53, 51, 55, 23, 33, 8, 15, 7, 34, 46, 59, 5, 26, 0, 32, 29, 49, 10, 28, 30, 24, 19, 48, 51, 41, 57, 37, 58, 42, 33, 52, 18, 47, 50, 55, 38, 53, 39, 46, 36, 43, 34, 4, 4, 18, 40, 7, 26, 48, 52, 39, 3, 17, 31, 60, 24, 45, 35, 8, 54, 15, 1, 20, 49, 14, 10, 56, 5, 57, 43, 52, 22, 19, 63, 50, 30, 41, 33, 38, 9, 47, 16, 44, 4, 36, 42, 34, 46, 45, 27, 28, 15, 50, 18, 49, 53, 51, 37, 57, 12, 11, 38, 1, 29, 0, 31, 51, 20, 23, 39, 4, 50, 56, 26, 36, 43, 52, 21, 34, 11, 22, 59, 55, 19, 0, 17, 7, 4, 14, 63, 3, 40, 45, 9, 16, 27, 33, 24, 6, 2, 44, 60, 52, 18, 10, 11, 41, 54, 48, 2, 42, 59, 53, 46, 48, 8, 50, 12, 40, 60, 5, 48, 29, 54, 39, 15, 1, 28, 49, 43, 26, 58, 30, 57, 14, 31, 7, 19, 38, 20, 33, 0, 56, 11, 47, 22, 21, 24, 4, 41, 63, 46, 36, 17, 37, 26, 3, 9, 55, 0, 42, 45, 15, 27, 44, 11, 12, 59, 53, 10, 29, 52, 34, 47, 40, 31, 16, 3, 20, 21, 30, 1, 8, 60, 50, 56, 5, 19, 49, 57, 14, 28, 38, 33, 37, 36, 7, 18, 46, 54, 27, 55, 51, 22, 39, 4, 63, 10, 8, 45, 9, 0, 17, 43, 11, 44, 50, 5, 62, 24, 26, 48, 0, 12, 4, 28, 47, 15, 50, 29, 19, 49, 59, 35, 1, 41, 16, 14, 35, 31, 3, 20, 10, 56, 40, 4, 34, 33, 60, 42, 32, 23, 22, 52, 18, 47, 63, 46, 54, 2, 3, 53, 26, 48, 57, 27, 9, 59, 44, 21, 2, 10, 7, 38, 30, 39, 52, 17, 43, 50, 50, 2, 19, 24, 16, 37, 36, 41, 34, 33, 40, 32, 30, 42, 46, 51, 12, 26, 45, 53, 19, 48, 55, 33, 11, 7, 50, 4, 58, 29, 50, 31, 46, 15, 24, 26, 48, 49, 1, 20, 32, 56, 60, 57, 4, 18, 54, 59, 41, 32, 23, 22, 21, 39, 0, 63, 40, 8, 38, 36, 14, 9, 60, 5, 50, 44, 45, 42, 50, 12, 29, 19, 31, 50, 30, 17, 43, 11, 20, 32, 47, 56, 28, 62, 22, 3, 54, 27, 37, 51, 63, 55, 15, 49, 9, 50, 4, 57, 44, 0, 38, 34, 32, 10, 12, 8, 62, 36, 1, 29, 59, 31, 16, 18, 11, 20, 40, 5, 33, 0, 60, 45, 56, 28, 58, 54, 22, 21, 47, 63, 15, 59, 17, 39, 11, 9, 32, 3, 44, 37, 62, 12, 10, 40, 55, 47, 29, 23, 53, 46, 48, 2, 7, 60, 49, 24, 16, 8, 58, 21, 14, 31, 50, 41, 54, 57, 59, 5, 50, 30, 40, 38, 42, 17, 28, 23, 36, 3, 53, 32, 20, 37, 45, 15, 56, 50, 4, 49, 7, 26, 48, 57, 43, 16, 34, 19, 13, 2, 10, 22, 60, 63, 33, 54, 24, 32, 58, 9, 35, 18, 47, 0, 59, 39, 2, 38, 43, 52, 50, 44, 55, 46, 41, 26, 48, 23, 12, 40, 60, 54, 30, 50, 32, 34, 58, 59, 36, 27, 29, 1, 42, 40, 45, 18, 3, 30, 39, 52, 21, 43, 11, 31, 60, 8, 19, 0, 17, 53, 4, 14, 20, 10, 54, 7, 59, 15, 27, 56, 40, 49, 34, 47, 30, 18, 52, 57, 1, 22, 16, 63, 33, 38, 2, 3, 24, 9, 60, 39, 23, 11, 32, 5, 36, 45, 58, 44, 32, 12, 15, 35, 29, 31, 46, 21, 43, 0, 20, 50, 28, 62, 56, 10, 54, 37, 26, 11, 17, 34, 0, 22, 32, 47, 63, 55, 62, 9, 3, 59, 8, 19, 41, 33, 49, 44, 23, 58, 12, 16, 57, 2, 5, 23, 28, 10, 50, 40, 47, 37, 21, 29, 38, 14, 55, 36, 27, 8, 60, 1, 5, 11, 28, 0, 3, 37, 50, 55, 45, 42, 17, 53, 50, 4, 8, 16, 15, 18, 46, 49, 14, 31, 21, 39, 2, 10, 54, 20, 43, 52, 27, 7, 59, 57, 34, 47, 30, 24, 26, 35, 3, 41, 38, 42, 19, 48, 36, 1, 56, 17, 18, 11, 22, 32, 39, 43, 62, 53, 14, 5, 51, 63, 27, 28, 0, 45, 35, 34, 50, 37, 7, 33, 18, 32, 13, 9, 16, 15, 24, 51, 44, 40, 49, 1, 12, 52, 41, 10, 60, 57, 42, 54, 38, 39, 21, 14, 55, 47, 36, 45, 27, 29, 31, 51, 43, 58, 2, 15, 53, 34, 46, 18, 52, 17, 39, 11, 20, 59, 56, 51, 43, 23, 2, 49, 7, 34, 26, 24, 40, 8, 35, 1, 18, 58, 23, 30, 5, 4, 4, 3, 39, 4, 10, 41, 28, 57, 22, 38, 63, 47, 50, 32, 9, 16, 37, 2, 60, 44, 36, 14, 12, 0, 29, 51, 31, 58, 43, 4, 50, 20, 19, 45, 34, 52, 21, 18, 11, 56, 54, 17, 55, 33, 32, 22, 51, 42, 63, 35, 9, 0, 8, 59, 5, 46, 44, 51, 39, 23, 2, 15, 53, 43, 26, 28, 3, 30, 40, 49, 10, 2, 48, 48, 58, 12, 37, 16, 34, 11, 29, 7, 60, 21, 18, 19, 54, 57, 55, 33, 38, 23, 30, 2, 46, 0, 31, 47, 8, 36, 45, 5, 17, 62, 52, 3, 39, 50, 16, 43, 11, 20, 32, 10, 56, 28, 62, 22, 47, 59, 35, 27, 63, 26, 15, 1, 9, 21, 34, 0, 44, 32, 3, 12, 37, 62, 29, 10, 40, 14, 55, 51, 31, 11, 20, 51, 56, 58, 18, 4, 22, 0, 8, 19, 63, 35, 35, 9, 5, 4, 39, 33, 49, 27, 28, 57, 47, 44, 51, 12, 37, 23, 60, 55, 17, 43, 11, 29, 54, 35, 31, 8, 62, 46, 20, 59, 40, 38, 1, 56, 26, 36, 14, 22, 16, 34, 0, 63, 24, 60, 19, 18, 58, 39, 33, 48, 9, 3, 2, 54, 44, 52, 2, 23, 41, 45, 12, 42, 15, 27, 29, 10, 32, 31, 21, 43, 50, 20, 59, 56, 61, 49, 53, 46, 17, 57, 34, 47, 7, 38, 22, 51, 18, 58, 51, 63, 40, 24, 26, 36, 39, 5, 19, 9, 35, 60, 45, 3, 43, 33, 48, 44, 10, 16, 34, 11, 12, 41, 46, 15, 2, 47, 26, 49, 1, 42, 54, 19, 29, 35, 21, 18, 0, 31, 57, 14, 3, 53, 51, 20, 59, 39, 33, 23, 30, 2, 46, 38, 7, 58, 36, 27, 56, 17, 43, 11, 22, 32, 10, 63, 28, 62, 9, 47, 40, 24, 0, 44, 26, 45, 41, 52, 30, 42, 15, 60, 35, 12, 37, 62, 19, 29, 54, 59, 55, 33, 11, 40, 34, 18, 46, 49, 1, 53, 60, 7, 54, 59, 24, 50, 41, 23, 8, 3, 57, 39, 38, 14, 31, 40, 42, 36, 2, 5, 45, 53, 43, 26, 52, 28, 16, 7, 19, 48, 52, 34, 10, 20, 61, 37, 50, 4, 58, 56, 55, 60, 15, 47, 8, 24, 33, 18, 52, 41, 46, 52, 22, 21, 49, 42, 39, 2, 54, 32, 5, 17, 57, 63, 3, 53, 28, 38, 27, 9, 32, 37, 16, 36, 44, 10, 7, 55, 23, 24, 51, 12, 45, 1, 47, 41, 51, 29, 8, 26, 0, 59, 2, 3, 51, 42, 51, 31, 2, 19, 15, 53, 58, 11, 43, 21, 49, 34, 10, 40, 0, 7, 60, 17, 18, 51, 20, 47, 5, 33, 28, 46, 57, 24, 32, 41, 39, 38, 42, 16, 36, 14, 37, 45, 56, 61, 4, 43, 54, 22, 59, 55, 35, 63, 8, 62, 26, 9, 40, 60, 53, 19, 15, 27, 44, 32, 5, 21, 49, 12, 3, 7, 28, 37, 33, 11, 62, 24, 23, 58, 54, 57, 1, 29, 50, 38, 14, 31, 32, 55, 17, 36, 20, 10, 41, 8, 5, 47, 56, 52, 34, 3, 16, 22, 0, 45, 18, 63, 51, 39, 23, 51, 9, 28, 46, 11, 43, 2, 15, 35, 42, 49, 57, 27, 44, 37, 26, 38, 53, 32, 7, 34, 36, 24, 21, 55, 19, 0, 41, 52, 59, 2, 17, 16, 12, 40, 60, 52, 2, 58, 45, 1, 29, 30, 35, 42, 23, 58, 15, 14, 10, 53, 51, 31, 18, 33, 21, 20, 8, 48, 5, 7, 46, 28, 26, 11, 47, 56, 22, 54, 49, 37, 32, 23, 24, 59, 27, 57, 1, 63, 50, 40, 9, 58, 51, 44, 60]\n"
     ]
    }
   ],
   "source": [
    "singh_378_55_cipher_key, singh_378_55_ciphertext = \\\n",
    "    generate_homophonic_substitution_cipher(singh_codebook_plaintext[:378], 55)\n",
    "print(cipher_key)\n",
    "print(ciphertext)"
   ]
  },
  {
   "cell_type": "code",
   "execution_count": 10,
   "id": "58775587",
   "metadata": {},
   "outputs": [],
   "source": [
    "def to_symbol_string(ciphertext):\n",
    "    \n",
    "    int_symbols = list(dict.fromkeys(ciphertext))\n",
    "    \n",
    "    if len(int_symbols) > len(string.printable):\n",
    "        print('Error: cannot encode as ascii string.')\n",
    "        return \n",
    "    \n",
    "    str_symbols = string.printable[:len(int_symbols)]\n",
    "    int_symbols.sort()\n",
    "    reps = dict(zip(int_symbols, str_symbols))\n",
    "    \n",
    "    symbol_ciphertext = [reps[c] for c in ciphertext]\n",
    "    \n",
    "    return ''.join(symbol_ciphertext)"
   ]
  },
  {
   "cell_type": "code",
   "execution_count": 11,
   "id": "b91ffeac",
   "metadata": {},
   "outputs": [
    {
     "data": {
      "text/plain": [
       "'PxalHpM2KocWZEjLD62suwXrJ0LkpT3AVRqSOma!nF9bijHPPQh7cwUgCNN2Jol8BEGpFjxK0s3ziLCOuawI1kQKhG2Jf37TW5pbgxNNrj0MemoaAKNE!DSUBq9X8NHzFNcI1ste5OurVnvkTwAyS3miPfq!lCJR962HphcWGPM1sQaNuDX8LkRP5Vn7jLowUxBeTyKiJLqrpbW3mO!AVEjL4a9gFC2DXHlKczRIG3QOSnw8f7xJW5p0vsMartojLOEUAVFwPiKNSBQCJzGx44iD7pLPC3huXoIy8Rf1kMeaT5UGPmj!NtEwB9KgH4zFxJIqrfNiMQOAUcbB1s0uOknC4NTpzGPlxbmWSj0h74e!3DI9gqwo62HXPiabERL2FWQJL8NcDX5LsRCf1rMGpVtUeu7jBkw0TbKmlo4E!JzhAp39S0FIfqHbcWQasPxKDug3klt18XNT5jMUerBwAz7iJRqSOmC4!a8I90hGbHN5ZopL0c4rKfNsjMWy1Egeyu3kaTD4xwXFvnmPiK!JR23QpLUq9WHl2a7BtCPhGNN2jogAzExwDvtFJOcpIQjLSwb7N4VsNuJfopLM1kvTXU4iRWEvnmlC0!D8Bze9X5NHIFNcsjuNthGbkvKTrZm3RqAO!SfM9N4UH0Bxvac8Zz1sWugibkD5w0XITrVRmlK!fWhCb9v3HAZcaDSKsnQJL27XMog8VleuNERUW5NtDBFhrnz3QvkAIfTN4M7pLUGgxjd2amX!wRovV9yiK0WC2BGPNHSJEpLncDXRtNvxVWzqs1FDIi3tCPlGbuX8j0hQ4ekaR7WfqTDMxKtiPU1mg!wB23o9XCnbv5zIVHvcfysuJlG0kNrZTaRApbhx0mvK!SZ93W8jEwMHnVcgU25nraNDKAlsBeSzq8X15br03ANSIFhQN48gfiJMeulC2aRkGPq7WUxKtopy3EBFjLz1ThibmvCGZQe5O!qr0IyxNA7wivd9gfoOHDM1cPEaXUFRBCleSKzIqsuOGV2fQxJiPhCbkWTOGn2M7xpoD8y1iVnt5443C4aErUmB!KNv9gA2XHzec0sOuVG4NkjIxPlibTRhSwvmOF!y908W5JHOCn2fQGpr3tDMa2LLVcAgxbs7XlijRUSwBnt2J0uK8zI5hZP3CNgGbkvaTrZmKWyq!pf19lx0Hv3cAZsaDeSOubkOTVi4m08j!yy954CwMqrUKHOcAnXShGbsRyu8ZJkWDB1Tpzemgx0!oXjiVCwL932RHP2nEIcFfqsavulGNkWTYMQJhUxK7BmOiVO!DopzC5j9yXI3GwLHagxbcEJf2KpM1FRjsyli0uUe3QOkWCwnt2JB7VzqThGbmva!rZ9KDo0HpIEPtFfXycAZjsRWSwbDxiJM1QX7RWoNEn83UCBeuDFz25IQGpPrg7jLPxakYAN4VTSXfK8owiPEJPmlMFC2Rv5hU!3QrBq9vAgzHa7SnoOcI1KEOs8p0W23OFOu2jfQVbGlMxaD07XhiOkK5wrJUovECBFgzeAITY4GRmWSy!8Zp9DXQjfqHv5lMc37rAwbZonVRU1sNBeuvShzkaE85KTPx3gm0Ii!OCnO9rJbG2fyFMUqHApBQv7xzolSj0EPW2hgcDXP2VI1styFnVfeaQOuiwlk8L57JrpbKTmRMAvnoWqU1!ND9VOHX'"
      ]
     },
     "execution_count": 11,
     "metadata": {},
     "output_type": "execute_result"
    }
   ],
   "source": [
    "to_symbol_string(ciphertext)"
   ]
  },
  {
   "cell_type": "markdown",
   "id": "0fbb9558",
   "metadata": {},
   "source": [
    "### Import n-gram data"
   ]
  },
  {
   "cell_type": "markdown",
   "id": "464778d3",
   "metadata": {},
   "source": [
    "Ref: http://practicalcryptography.com/cryptanalysis/"
   ]
  },
  {
   "cell_type": "code",
   "execution_count": 13,
   "id": "a1d9ab56",
   "metadata": {},
   "outputs": [],
   "source": [
    "ngram_size = 5\n",
    "ngrams = pd.read_csv('../ngram/english_quintgrams.txt', sep = ' ', header = None, names = ['ngram', 'freq'])\n",
    "\n",
    "ngrams['freq'] = np.log(1. + ngrams['freq'])\n",
    "ngrams['freq'] = ngrams['freq']/ngrams['freq'].sum()"
   ]
  },
  {
   "cell_type": "code",
   "execution_count": 14,
   "id": "112ef357",
   "metadata": {},
   "outputs": [
    {
     "data": {
      "text/html": [
       "<div>\n",
       "<style scoped>\n",
       "    .dataframe tbody tr th:only-of-type {\n",
       "        vertical-align: middle;\n",
       "    }\n",
       "\n",
       "    .dataframe tbody tr th {\n",
       "        vertical-align: top;\n",
       "    }\n",
       "\n",
       "    .dataframe thead th {\n",
       "        text-align: right;\n",
       "    }\n",
       "</style>\n",
       "<table border=\"1\" class=\"dataframe\">\n",
       "  <thead>\n",
       "    <tr style=\"text-align: right;\">\n",
       "      <th></th>\n",
       "      <th>ngram</th>\n",
       "      <th>freq</th>\n",
       "    </tr>\n",
       "  </thead>\n",
       "  <tbody>\n",
       "    <tr>\n",
       "      <th>0</th>\n",
       "      <td>OFTHE</td>\n",
       "      <td>1.351044e-06</td>\n",
       "    </tr>\n",
       "    <tr>\n",
       "      <th>1</th>\n",
       "      <td>ATION</td>\n",
       "      <td>1.346339e-06</td>\n",
       "    </tr>\n",
       "    <tr>\n",
       "      <th>2</th>\n",
       "      <td>INTHE</td>\n",
       "      <td>1.340772e-06</td>\n",
       "    </tr>\n",
       "    <tr>\n",
       "      <th>3</th>\n",
       "      <td>THERE</td>\n",
       "      <td>1.291716e-06</td>\n",
       "    </tr>\n",
       "    <tr>\n",
       "      <th>4</th>\n",
       "      <td>INGTH</td>\n",
       "      <td>1.291073e-06</td>\n",
       "    </tr>\n",
       "    <tr>\n",
       "      <th>...</th>\n",
       "      <td>...</td>\n",
       "      <td>...</td>\n",
       "    </tr>\n",
       "    <tr>\n",
       "      <th>4354909</th>\n",
       "      <td>AAACQ</td>\n",
       "      <td>5.917905e-08</td>\n",
       "    </tr>\n",
       "    <tr>\n",
       "      <th>4354910</th>\n",
       "      <td>AAABW</td>\n",
       "      <td>5.917905e-08</td>\n",
       "    </tr>\n",
       "    <tr>\n",
       "      <th>4354911</th>\n",
       "      <td>AAABK</td>\n",
       "      <td>5.917905e-08</td>\n",
       "    </tr>\n",
       "    <tr>\n",
       "      <th>4354912</th>\n",
       "      <td>AAABJ</td>\n",
       "      <td>5.917905e-08</td>\n",
       "    </tr>\n",
       "    <tr>\n",
       "      <th>4354913</th>\n",
       "      <td>AAABF</td>\n",
       "      <td>5.917905e-08</td>\n",
       "    </tr>\n",
       "  </tbody>\n",
       "</table>\n",
       "<p>4354914 rows × 2 columns</p>\n",
       "</div>"
      ],
      "text/plain": [
       "         ngram          freq\n",
       "0        OFTHE  1.351044e-06\n",
       "1        ATION  1.346339e-06\n",
       "2        INTHE  1.340772e-06\n",
       "3        THERE  1.291716e-06\n",
       "4        INGTH  1.291073e-06\n",
       "...        ...           ...\n",
       "4354909  AAACQ  5.917905e-08\n",
       "4354910  AAABW  5.917905e-08\n",
       "4354911  AAABK  5.917905e-08\n",
       "4354912  AAABJ  5.917905e-08\n",
       "4354913  AAABF  5.917905e-08\n",
       "\n",
       "[4354914 rows x 2 columns]"
      ]
     },
     "execution_count": 14,
     "metadata": {},
     "output_type": "execute_result"
    }
   ],
   "source": [
    "ngrams"
   ]
  },
  {
   "cell_type": "code",
   "execution_count": 15,
   "id": "abd2ac5e",
   "metadata": {},
   "outputs": [
    {
     "data": {
      "text/plain": [
       "<AxesSubplot:>"
      ]
     },
     "execution_count": 15,
     "metadata": {},
     "output_type": "execute_result"
    },
    {
     "data": {
      "image/png": "[encoded data removed]",
      "text/plain": [
       "<Figure size 432x288 with 1 Axes>"
      ]
     },
     "metadata": {
      "needs_background": "light"
     },
     "output_type": "display_data"
    }
   ],
   "source": [
    "ngrams['freq'].plot()"
   ]
  },
  {
   "cell_type": "code",
   "execution_count": 16,
   "id": "c59280e0",
   "metadata": {},
   "outputs": [],
   "source": [
    "ngram_dict = dict(ngrams.values)"
   ]
  },
  {
   "cell_type": "code",
   "execution_count": 17,
   "id": "baf52a95",
   "metadata": {},
   "outputs": [],
   "source": [
    "def get_ngram_probability(ngram):\n",
    "    return ngram_dict.get(ngram.upper(), 0.)"
   ]
  },
  {
   "cell_type": "code",
   "execution_count": 18,
   "id": "7a2410dc",
   "metadata": {},
   "outputs": [
    {
     "data": {
      "text/plain": [
       "(1.2683566537144875e-06, 9.71814892869308e-07, 1.1183980514470561e-06, 0.0)"
      ]
     },
     "execution_count": 18,
     "metadata": {},
     "output_type": "execute_result"
    }
   ],
   "source": [
    "get_ngram_probability('onthe'), get_ngram_probability('onits'), \\\n",
    "get_ngram_probability('along'), get_ngram_probability('zzewt')"
   ]
  },
  {
   "cell_type": "code",
   "execution_count": 19,
   "id": "cf7d4440",
   "metadata": {},
   "outputs": [
    {
     "name": "stdout",
     "output_type": "stream",
     "text": [
      "169 ns ± 3.52 ns per loop (mean ± std. dev. of 7 runs, 10000000 loops each)\n"
     ]
    }
   ],
   "source": [
    "%timeit get_ngram_probability('onthe')"
   ]
  },
  {
   "cell_type": "markdown",
   "id": "082b33b8",
   "metadata": {},
   "source": [
    "### n-gram score from plaintext"
   ]
  },
  {
   "cell_type": "code",
   "execution_count": 20,
   "id": "3312409d",
   "metadata": {},
   "outputs": [],
   "source": [
    "# Hash table-based implementation. \n",
    "def plaintext_ngram_score(plaintext, ngram_size):\n",
    "    plaintext_wo_spaces = plaintext.replace(' ', '')\n",
    "    score = 0.\n",
    "    for k in range(len(plaintext_wo_spaces) - ngram_size - 1):\n",
    "        score += get_ngram_probability(plaintext_wo_spaces[k:k+ngram_size])\n",
    "    return 1e6*score"
   ]
  },
  {
   "cell_type": "code",
   "execution_count": 21,
   "id": "80fc49de",
   "metadata": {},
   "outputs": [
    {
     "data": {
      "text/plain": [
       "1584.154403603524"
      ]
     },
     "execution_count": 21,
     "metadata": {},
     "output_type": "execute_result"
    }
   ],
   "source": [
    "plaintext_ngram_score(singh_codebook_plaintext, ngram_size)"
   ]
  },
  {
   "cell_type": "code",
   "execution_count": 22,
   "id": "e6fc784f",
   "metadata": {},
   "outputs": [],
   "source": [
    "worse_test_plaintext = singh_codebook_plaintext.replace('A', 'Z').replace('I','Q')"
   ]
  },
  {
   "cell_type": "code",
   "execution_count": 23,
   "id": "4634165b",
   "metadata": {},
   "outputs": [
    {
     "data": {
      "text/plain": [
       "701.5274567764485"
      ]
     },
     "execution_count": 23,
     "metadata": {},
     "output_type": "execute_result"
    }
   ],
   "source": [
    "plaintext_ngram_score(worse_test_plaintext, ngram_size)"
   ]
  },
  {
   "cell_type": "code",
   "execution_count": 24,
   "id": "053804c0",
   "metadata": {},
   "outputs": [],
   "source": [
    "much_worse_test_plaintext = worse_test_plaintext.replace('E', 'W').replace('O','X').replace('T','P')"
   ]
  },
  {
   "cell_type": "code",
   "execution_count": 25,
   "id": "1fe7ade5",
   "metadata": {},
   "outputs": [
    {
     "data": {
      "text/plain": [
       "45.12948020091018"
      ]
     },
     "execution_count": 25,
     "metadata": {},
     "output_type": "execute_result"
    }
   ],
   "source": [
    "plaintext_ngram_score(much_worse_test_plaintext, ngram_size)"
   ]
  },
  {
   "cell_type": "code",
   "execution_count": 26,
   "id": "f1a7104d",
   "metadata": {},
   "outputs": [
    {
     "data": {
      "text/plain": [
       "162.50290489165008"
      ]
     },
     "execution_count": 26,
     "metadata": {},
     "output_type": "execute_result"
    }
   ],
   "source": [
    "plaintext_ngram_score(z340_plaintext[9*17:], ngram_size)"
   ]
  },
  {
   "cell_type": "code",
   "execution_count": 27,
   "id": "5c574ffb",
   "metadata": {},
   "outputs": [
    {
     "name": "stdout",
     "output_type": "stream",
     "text": [
      "584 µs ± 22.6 µs per loop (mean ± std. dev. of 7 runs, 1000 loops each)\n"
     ]
    }
   ],
   "source": [
    "%timeit plaintext_ngram_score(singh_codebook_plaintext, ngram_size)"
   ]
  },
  {
   "cell_type": "markdown",
   "id": "e8699a8d",
   "metadata": {},
   "source": [
    "### Monogram frequencies"
   ]
  },
  {
   "cell_type": "markdown",
   "id": "83fe9f07",
   "metadata": {},
   "source": [
    "Ref: http://practicalcryptography.com/cryptanalysis/"
   ]
  },
  {
   "cell_type": "code",
   "execution_count": 31,
   "id": "d927da6e",
   "metadata": {},
   "outputs": [],
   "source": [
    "monograms = pd.read_csv('../ngram/english_monograms.txt', sep = ' ', header = None, names = ['ngram', 'freq'])\n",
    "monograms['freq'] /= monograms['freq'].sum()\n",
    "monograms = monograms.sort_values(by=['ngram'])"
   ]
  },
  {
   "cell_type": "code",
   "execution_count": 32,
   "id": "a506cb6e",
   "metadata": {},
   "outputs": [
    {
     "data": {
      "text/html": [
       "<div>\n",
       "<style scoped>\n",
       "    .dataframe tbody tr th:only-of-type {\n",
       "        vertical-align: middle;\n",
       "    }\n",
       "\n",
       "    .dataframe tbody tr th {\n",
       "        vertical-align: top;\n",
       "    }\n",
       "\n",
       "    .dataframe thead th {\n",
       "        text-align: right;\n",
       "    }\n",
       "</style>\n",
       "<table border=\"1\" class=\"dataframe\">\n",
       "  <thead>\n",
       "    <tr style=\"text-align: right;\">\n",
       "      <th></th>\n",
       "      <th>ngram</th>\n",
       "      <th>freq</th>\n",
       "    </tr>\n",
       "  </thead>\n",
       "  <tbody>\n",
       "    <tr>\n",
       "      <th>2</th>\n",
       "      <td>A</td>\n",
       "      <td>0.085517</td>\n",
       "    </tr>\n",
       "    <tr>\n",
       "      <th>19</th>\n",
       "      <td>B</td>\n",
       "      <td>0.016048</td>\n",
       "    </tr>\n",
       "    <tr>\n",
       "      <th>11</th>\n",
       "      <td>C</td>\n",
       "      <td>0.031644</td>\n",
       "    </tr>\n",
       "    <tr>\n",
       "      <th>10</th>\n",
       "      <td>D</td>\n",
       "      <td>0.038712</td>\n",
       "    </tr>\n",
       "    <tr>\n",
       "      <th>0</th>\n",
       "      <td>E</td>\n",
       "      <td>0.120965</td>\n",
       "    </tr>\n",
       "    <tr>\n",
       "      <th>14</th>\n",
       "      <td>F</td>\n",
       "      <td>0.021815</td>\n",
       "    </tr>\n",
       "    <tr>\n",
       "      <th>15</th>\n",
       "      <td>G</td>\n",
       "      <td>0.020863</td>\n",
       "    </tr>\n",
       "    <tr>\n",
       "      <th>8</th>\n",
       "      <td>H</td>\n",
       "      <td>0.049557</td>\n",
       "    </tr>\n",
       "    <tr>\n",
       "      <th>4</th>\n",
       "      <td>I</td>\n",
       "      <td>0.073251</td>\n",
       "    </tr>\n",
       "    <tr>\n",
       "      <th>22</th>\n",
       "      <td>J</td>\n",
       "      <td>0.002198</td>\n",
       "    </tr>\n",
       "    <tr>\n",
       "      <th>21</th>\n",
       "      <td>K</td>\n",
       "      <td>0.008087</td>\n",
       "    </tr>\n",
       "    <tr>\n",
       "      <th>9</th>\n",
       "      <td>L</td>\n",
       "      <td>0.042065</td>\n",
       "    </tr>\n",
       "    <tr>\n",
       "      <th>13</th>\n",
       "      <td>M</td>\n",
       "      <td>0.025263</td>\n",
       "    </tr>\n",
       "    <tr>\n",
       "      <th>5</th>\n",
       "      <td>N</td>\n",
       "      <td>0.071722</td>\n",
       "    </tr>\n",
       "    <tr>\n",
       "      <th>3</th>\n",
       "      <td>O</td>\n",
       "      <td>0.074673</td>\n",
       "    </tr>\n",
       "    <tr>\n",
       "      <th>16</th>\n",
       "      <td>P</td>\n",
       "      <td>0.020662</td>\n",
       "    </tr>\n",
       "    <tr>\n",
       "      <th>25</th>\n",
       "      <td>Q</td>\n",
       "      <td>0.001040</td>\n",
       "    </tr>\n",
       "    <tr>\n",
       "      <th>7</th>\n",
       "      <td>R</td>\n",
       "      <td>0.063327</td>\n",
       "    </tr>\n",
       "    <tr>\n",
       "      <th>6</th>\n",
       "      <td>S</td>\n",
       "      <td>0.067282</td>\n",
       "    </tr>\n",
       "    <tr>\n",
       "      <th>1</th>\n",
       "      <td>T</td>\n",
       "      <td>0.089381</td>\n",
       "    </tr>\n",
       "    <tr>\n",
       "      <th>12</th>\n",
       "      <td>U</td>\n",
       "      <td>0.026816</td>\n",
       "    </tr>\n",
       "    <tr>\n",
       "      <th>20</th>\n",
       "      <td>V</td>\n",
       "      <td>0.010593</td>\n",
       "    </tr>\n",
       "    <tr>\n",
       "      <th>17</th>\n",
       "      <td>W</td>\n",
       "      <td>0.018254</td>\n",
       "    </tr>\n",
       "    <tr>\n",
       "      <th>23</th>\n",
       "      <td>X</td>\n",
       "      <td>0.001914</td>\n",
       "    </tr>\n",
       "    <tr>\n",
       "      <th>18</th>\n",
       "      <td>Y</td>\n",
       "      <td>0.017214</td>\n",
       "    </tr>\n",
       "    <tr>\n",
       "      <th>24</th>\n",
       "      <td>Z</td>\n",
       "      <td>0.001138</td>\n",
       "    </tr>\n",
       "  </tbody>\n",
       "</table>\n",
       "</div>"
      ],
      "text/plain": [
       "   ngram      freq\n",
       "2      A  0.085517\n",
       "19     B  0.016048\n",
       "11     C  0.031644\n",
       "10     D  0.038712\n",
       "0      E  0.120965\n",
       "14     F  0.021815\n",
       "15     G  0.020863\n",
       "8      H  0.049557\n",
       "4      I  0.073251\n",
       "22     J  0.002198\n",
       "21     K  0.008087\n",
       "9      L  0.042065\n",
       "13     M  0.025263\n",
       "5      N  0.071722\n",
       "3      O  0.074673\n",
       "16     P  0.020662\n",
       "25     Q  0.001040\n",
       "7      R  0.063327\n",
       "6      S  0.067282\n",
       "1      T  0.089381\n",
       "12     U  0.026816\n",
       "20     V  0.010593\n",
       "17     W  0.018254\n",
       "23     X  0.001914\n",
       "18     Y  0.017214\n",
       "24     Z  0.001138"
      ]
     },
     "execution_count": 32,
     "metadata": {},
     "output_type": "execute_result"
    }
   ],
   "source": [
    "monograms"
   ]
  },
  {
   "cell_type": "code",
   "execution_count": 33,
   "id": "36bd5522",
   "metadata": {},
   "outputs": [],
   "source": [
    "english_unigram_frequencies = list(monograms['freq'].values)\n",
    "english_unigram_frequencies_spaces = english_unigram_frequencies.copy().append(0.1628) # Approximation for a space ' '"
   ]
  },
  {
   "cell_type": "code",
   "execution_count": 34,
   "id": "75b04670",
   "metadata": {},
   "outputs": [],
   "source": [
    "monogram_dict = dict(zip(monograms['ngram'], monograms['freq']))\n",
    "monogram_dict[' '] = 0.1628"
   ]
  },
  {
   "cell_type": "markdown",
   "id": "cc257add",
   "metadata": {},
   "source": [
    "### Pertubate key"
   ]
  },
  {
   "cell_type": "code",
   "execution_count": 38,
   "id": "0168064a",
   "metadata": {},
   "outputs": [],
   "source": [
    "def invert_dict(d):\n",
    "    inv_d = dict()\n",
    "    for k,vs in d.items():\n",
    "        for v in vs:\n",
    "            inv_d[v] = k\n",
    "    return inv_d"
   ]
  },
  {
   "cell_type": "code",
   "execution_count": 39,
   "id": "5311ce0f",
   "metadata": {},
   "outputs": [],
   "source": [
    "def pertubate(cipher_keys, ciphertext_cribs = []):\n",
    "    \n",
    "    pertubated_key = copy.deepcopy(cipher_keys)\n",
    "    \n",
    "    # Randomly select a plaintext char. \n",
    "    plaintext_chars = list(pertubated_key.keys())\n",
    "    plaintext_weights = [monogram_dict[char] for char in plaintext_chars]\n",
    "        \n",
    "    while True:\n",
    "        rand_char = random.choices(plaintext_chars, weights = plaintext_weights)[0]\n",
    "        if len(pertubated_key[rand_char]) > 0:    \n",
    "            # For this key, randomly select a ciphertext symbol. \n",
    "            assignments = pertubated_key[rand_char]\n",
    "            cipher_symbol = random.choice(assignments)\n",
    "            # The cipher symbol must not be a crib. \n",
    "            if cipher_symbol not in ciphertext_cribs:\n",
    "                break\n",
    "    \n",
    "    # Remove this symbol from the assignments.\n",
    "    assignments.remove(cipher_symbol)\n",
    "    pertubated_key[rand_char] = assignments\n",
    "    \n",
    "    # Move the cipher symbol to another plaintext assignment. \n",
    "    while True:\n",
    "        rand_char_2 = random.choices(plaintext_chars, weights = plaintext_weights)[0]\n",
    "        # Do not undo the pertubation we just made. \n",
    "        if rand_char != rand_char_2:\n",
    "            break\n",
    "    \n",
    "    pertubated_key[rand_char_2].append(cipher_symbol)\n",
    "    \n",
    "    return pertubated_key"
   ]
  },
  {
   "cell_type": "code",
   "execution_count": 40,
   "id": "496881e1",
   "metadata": {},
   "outputs": [
    {
     "data": {
      "text/plain": [
       "{'U': [2],\n",
       " 'D': [0, 11],\n",
       " 'N': [26, 19, 33, 46],\n",
       " 'S': [59, 40, 54],\n",
       " 'V': [51],\n",
       " 'Q': [6],\n",
       " 'L': [58, 23],\n",
       " 'K': [62],\n",
       " 'F': [52],\n",
       " 'R': [10, 47, 3],\n",
       " 'W': [35],\n",
       " 'B': [32],\n",
       " 'I': [24, 41, 42, 53, 7],\n",
       " 'M': [50],\n",
       " 'E': [44, 12, 29, 31, 20, 56, 22, 63, 9],\n",
       " 'X': [61],\n",
       " 'P': [4],\n",
       " 'G': [48],\n",
       " 'J': [13],\n",
       " 'A': [28, 37, 55, 8, 5, 60],\n",
       " 'Y': [30],\n",
       " 'C': [21, 17, 16],\n",
       " 'O': [34, 18, 39, 43],\n",
       " 'T': [49, 57, 38, 36, 45, 15],\n",
       " 'H': [27, 1, 14]}"
      ]
     },
     "execution_count": 40,
     "metadata": {},
     "output_type": "execute_result"
    }
   ],
   "source": [
    "pertubate(cipher_key)"
   ]
  },
  {
   "cell_type": "code",
   "execution_count": 163,
   "id": "b2c05ea7",
   "metadata": {},
   "outputs": [
    {
     "name": "stdout",
     "output_type": "stream",
     "text": [
      "67.7 µs ± 2.5 µs per loop (mean ± std. dev. of 7 runs, 10000 loops each)\n"
     ]
    }
   ],
   "source": [
    "%timeit pertubate(cipher_key)"
   ]
  },
  {
   "cell_type": "code",
   "execution_count": 41,
   "id": "353d7d3c",
   "metadata": {},
   "outputs": [
    {
     "name": "stdout",
     "output_type": "stream",
     "text": [
      "['L', 'K', 'l', 'J', 'p', '+', '2', '_', 'c', 'T']\n",
      "66.4 µs ± 1.79 µs per loop (mean ± std. dev. of 7 runs, 10000 loops each)\n"
     ]
    }
   ],
   "source": [
    "candidate_key = {'A': ['|', 'V', 'K', 'l', 'D', 'Y'], \n",
    "                 'B': ['j', '_'], 'C': ['(', 'p', '^'], 'D': ['W', 'X'], \n",
    "                 'E': ['.', '#', 'Z', 'G', '1', 'c', '7'], 'F': ['H'], \n",
    "                 'G': ['k', 'L', 'F', 't'], 'H': ['+', 'E', 'B', '3', '&'], \n",
    "                 'I': ['b', ':', 'z', 'y', '4'], 'J': [], 'K': ['5'], 'L': ['-', 'C'], \n",
    "                 'M': ['2', 'S'], 'N': ['A', '9', '%'], 'O': ['U', 'M', '*', 'R'], \n",
    "                 'P': ['>'], 'Q': [], 'R': ['8', 'T', 'N'], 'S': ['@', '<', 'P', 'J', ')', '6'], \n",
    "                 'T': ['O', 'f', 'd'], 'U': [';', '/'], 'V': ['q'], 'W': [], 'X': [], 'Y': [], 'Z': []}\n",
    "\n",
    "z340_GASCHAMBER_cribs = {\n",
    "'G': ['L'],\n",
    "'A': ['K','l'],\n",
    "'S': ['J'],\n",
    "'C': ['p'],\n",
    "'H': ['+'],\n",
    "'M': ['2'],\n",
    "'B': ['_'],\n",
    "'E': ['c'],\n",
    "'R': ['T']}\n",
    "\n",
    "z340_GASCHAMBER_cribs_ciphertext_symbols = list(invert_dict(z340_GASCHAMBER_cribs).keys())\n",
    "print(z340_GASCHAMBER_cribs_ciphertext_symbols)\n",
    "\n",
    "%timeit pertubate(candidate_key, z340_GASCHAMBER_cribs_ciphertext_symbols)"
   ]
  },
  {
   "cell_type": "markdown",
   "id": "720079d8",
   "metadata": {},
   "source": [
    "### Swap vowels (UNDER CONSTRUCTION)"
   ]
  },
  {
   "cell_type": "code",
   "execution_count": 244,
   "id": "105bb609",
   "metadata": {},
   "outputs": [],
   "source": [
    "from itertools import permutations"
   ]
  },
  {
   "cell_type": "code",
   "execution_count": null,
   "id": "d5f5f9dd",
   "metadata": {},
   "outputs": [],
   "source": [
    "def downhill_vowel_permute(state, score):\n",
    "    vowel_state = copy.deepcopy(state)\n",
    "    vowel_score = score\n",
    "    \n",
    "    for perm in permutations('AEIOU'):\n",
    "        \n",
    "    "
   ]
  },
  {
   "cell_type": "code",
   "execution_count": null,
   "id": "0670d121",
   "metadata": {},
   "outputs": [],
   "source": []
  },
  {
   "cell_type": "markdown",
   "id": "7fb8a6c4",
   "metadata": {},
   "source": [
    "### Generate initial key"
   ]
  },
  {
   "cell_type": "code",
   "execution_count": 42,
   "id": "6dd122f2",
   "metadata": {},
   "outputs": [
    {
     "data": {
      "text/plain": [
       "'ABCDEFGHIJKLMNOPQRSTUVWXYZ'"
      ]
     },
     "execution_count": 42,
     "metadata": {},
     "output_type": "execute_result"
    }
   ],
   "source": [
    "alphabet = string.ascii_uppercase\n",
    "alphabet"
   ]
  },
  {
   "cell_type": "code",
   "execution_count": 43,
   "id": "eb80a7d7",
   "metadata": {},
   "outputs": [
    {
     "data": {
      "text/plain": [
       "'ABCDEFGHIJKLMNOPQRSTUVWXYZ '"
      ]
     },
     "execution_count": 43,
     "metadata": {},
     "output_type": "execute_result"
    }
   ],
   "source": [
    "alphabet_spaces = ''.join([alphabet, ' '])\n",
    "alphabet_spaces"
   ]
  },
  {
   "cell_type": "code",
   "execution_count": 44,
   "id": "1bd3de8a",
   "metadata": {},
   "outputs": [],
   "source": [
    "def generate_initial_key(cipher, cribs = dict(), spaces = False):\n",
    "    # All unique symbols. \n",
    "    ciphertext_symbols = list(dict.fromkeys(cipher))\n",
    "    # Create empty keys. \n",
    "    if spaces:\n",
    "        initial_key = {char : [] for char in alphabet_spaces}\n",
    "    else:\n",
    "        initial_key = {char : [] for char in alphabet}\n",
    "    # Randomly assign cipher symbols to alphabet. \n",
    "    cribs_inv = invert_dict(cribs)\n",
    "    for symbol in ciphertext_symbols:\n",
    "        if len(cribs) > 0 and symbol in list(cribs_inv.keys()):\n",
    "            char = cribs_inv[symbol]\n",
    "        elif spaces:\n",
    "            char = random.choices(alphabet_spaces, weights = english_unigram_frequencies_spaces)[0]\n",
    "        else:\n",
    "            char = random.choices(alphabet, weights = english_unigram_frequencies)[0]\n",
    "        initial_key[char].append(symbol)\n",
    "    return initial_key"
   ]
  },
  {
   "cell_type": "code",
   "execution_count": 45,
   "id": "0a38f7b2",
   "metadata": {
    "collapsed": true
   },
   "outputs": [
    {
     "data": {
      "text/plain": [
       "{'A': ['\\\\'],\n",
       " 'B': ['K', 'A'],\n",
       " 'C': ['%', 'Z', 'D'],\n",
       " 'D': ['O'],\n",
       " 'E': ['P', 'B', '#', 'l'],\n",
       " 'F': [],\n",
       " 'G': [],\n",
       " 'H': ['R', 'q', 'M', 'Q', 'S'],\n",
       " 'I': ['5'],\n",
       " 'J': [],\n",
       " 'K': [],\n",
       " 'L': ['@', '!', 'T', '(', '_'],\n",
       " 'M': ['k'],\n",
       " 'N': ['p', 'F', 'E'],\n",
       " 'O': ['G', 'H', 'r', 'j'],\n",
       " 'P': ['W'],\n",
       " 'Q': [],\n",
       " 'R': ['Y', 'J', 'I', 't'],\n",
       " 'S': ['/', '+', 'e', '6', 'd'],\n",
       " 'T': ['U', '=', 'X', 'V', '^', ')', 'f', '8', 'c'],\n",
       " 'U': ['7', 'z'],\n",
       " 'V': ['L'],\n",
       " 'W': [],\n",
       " 'X': [],\n",
       " 'Y': ['9'],\n",
       " 'Z': ['N']}"
      ]
     },
     "execution_count": 45,
     "metadata": {},
     "output_type": "execute_result"
    }
   ],
   "source": [
    "initial_key_example = generate_initial_key(z408_ciphertext, spaces = False)\n",
    "initial_key_example"
   ]
  },
  {
   "cell_type": "code",
   "execution_count": 46,
   "id": "5e78b0d2",
   "metadata": {
    "collapsed": true
   },
   "outputs": [
    {
     "data": {
      "text/plain": [
       "{'A': ['@', 'K', 'l', '^', '6'],\n",
       " 'B': ['_'],\n",
       " 'C': ['p', '1', ';'],\n",
       " 'D': ['U'],\n",
       " 'E': ['H', '|', 'z', '<', '#', 'c', '-'],\n",
       " 'F': ['F', 'D'],\n",
       " 'G': ['L'],\n",
       " 'H': ['+', 'M', 'V', '*', '%', 'Y', 'S'],\n",
       " 'I': ['.', 'Z', 'b', 'N', 'A', ':'],\n",
       " 'J': [],\n",
       " 'K': [],\n",
       " 'L': ['O', ')', '/', 'y'],\n",
       " 'M': ['2', '&'],\n",
       " 'N': ['9', 'G', 'q', 't'],\n",
       " 'O': ['8', 'E', 'k'],\n",
       " 'P': ['B'],\n",
       " 'Q': [],\n",
       " 'R': ['R', '>', '4', 'T'],\n",
       " 'S': ['C', '(', 'W', 'J', 'j'],\n",
       " 'T': ['3', 'f'],\n",
       " 'U': ['5', 'd', '7'],\n",
       " 'V': [],\n",
       " 'W': [],\n",
       " 'X': [],\n",
       " 'Y': ['P', 'X'],\n",
       " 'Z': []}"
      ]
     },
     "execution_count": 46,
     "metadata": {},
     "output_type": "execute_result"
    }
   ],
   "source": [
    "z340_GASCHAMBER_cribs = {\n",
    "'G': ['L'],\n",
    "'A': ['K','l'],\n",
    "'S': ['J'],\n",
    "'C': ['p'],\n",
    "'H': ['+'],\n",
    "'M': ['2'],\n",
    "'B': ['_'],\n",
    "'E': ['c'],\n",
    "'R': ['T']}\n",
    "initial_key_example = generate_initial_key(z340_untransposed, cribs = z340_GASCHAMBER_cribs, spaces = False)\n",
    "initial_key_example"
   ]
  },
  {
   "cell_type": "markdown",
   "id": "0b03c986",
   "metadata": {},
   "source": [
    "### Given the ciphertext and a decryption key, generate the plaintext"
   ]
  },
  {
   "cell_type": "code",
   "execution_count": 47,
   "id": "0ea829f0",
   "metadata": {},
   "outputs": [],
   "source": [
    "def plaintext_from_key(ciphertext, key):\n",
    "    # Create inverse key mapping (dict).\n",
    "    inv_key = invert_dict(key)\n",
    "    # Generate plaintext.\n",
    "    return [inv_key[c] for c in ciphertext]"
   ]
  },
  {
   "cell_type": "code",
   "execution_count": 49,
   "id": "5640d3bc",
   "metadata": {},
   "outputs": [
    {
     "data": {
      "text/plain": [
       "'FORCENTURIESKINGSQUEENSANDGENERALSHAVERELIEDONEFFICIENTCOMMUNICATIONINORDERTOGOVERNTHEIRCOUNTRIESANDCOMMANDTHEIRARMIESATTHESAMETIMETHEYHAVEALLBEENAWAREOFTHECONSEQUENCESOFTHEIRMESSAGESFALLINGINTOTHEWRONGHANDSREVEALINGPRECIOUSSECRETSTORIVALNATIONSANDBETRAYINGVITALINFORMATIONTOOPPOSINGFORCESITWASTHETHREATOFENEMYINTERCEPTIONTHATMOTIVATEDTHEDEVELOPMENTOFCODESANDCIPHERSTECHNIQUESFORDISGUISINGAMESSAGESOTHATONLYTHEINTENDEDRECIPIENTCANREADITTHEDESIREFORSECRECYHASMEANTTHATNATIONSHAVEOPERATEDCODEMAKINGDEPARTMENTSWHICHWERERESPONSIBLEFORENSURINGTHESECURITYOFCOMMUNICATIONSBYINVENTINGANDIMPLEMENTINGTHEBESTPOSSIBLECODESATTHESAMETIMEENEMYCODEBREAKERSHAVEATTEMPTEDTOBREAKTHESECODESANDSTEALSECRETSCODEBREAKERSARELINGUISTICALCHEMISTSAMYSTICALTRIBEATTEMPTINGTOCONJURESENSIBLEWORDSOUTOFMEANINGLESSSYMBOLSTHEHISTORYOFCODESANDCIPHERSISTHESTORYOFTHECENTURIESOLDBATTLEBETWEENCODEMAKERSANDCODEBREAKERSANINTELLECTUALARMSRACETHATHASHADADRAMATICIMPACTONTHECOURSEOFHISTORYINWRITINGTHECODEBOOKIHAVEHADTWOMAINOBJECTIVESTHEFIRSTISTOCHARTTHEEVOLUTIONOFCODESEVOLUTIONISAWHOLLYAPPROPRIATETERMBECAUSETHEDEVELOPMENTOFCODESCANBEVIEWEDASANEVOLUTIONARYSTRUGGLEACODEISCONSTANTLYUNDERATTACKFROMCODEBREAKERSWHENTHECODEBREAKERSHAVEDEVELOPEDANEWWEAPONTHATREVEALSACODESWEAKNESSTHENTHECODEISNOLONGERUSEFULITEITHERBECOMESEXTINCTORITEVOLVESINTOANEWSTRONGERCODEINTURNTHISNEWCODETHRIVESONLYUNTILTHECODEBREAKERSIDENTIFYITSWEAKNESSANDSOONTHISISSIMILARTOTHESITUATIONFACINGFOREXAMPLEASTRAINOFINFECTIOUSBACTERIATHEBACTERIALIVETHRIVEANDSURVIVEUNTILDOCTORSDISCOVERANANTIBIOTICTHATEXPOSESAWEAKNESSINTHEBACTERIAANDKILLSTHEMTHEBACTERIAAREFORCEDTOEVOLVEANDOUTWITTHEANTIBIOTICANDIFSUCCESSFULTHEYWILLTHRIVEONCEAGAINANDREESTABLISHTHEMSELVES'"
      ]
     },
     "execution_count": 49,
     "metadata": {},
     "output_type": "execute_result"
    }
   ],
   "source": [
    "plaintext_example = plaintext_from_key(ciphertext, cipher_key)\n",
    "plaintext_example = ''.join(plaintext_example)\n",
    "plaintext_example"
   ]
  },
  {
   "cell_type": "code",
   "execution_count": 50,
   "id": "089dae47",
   "metadata": {},
   "outputs": [
    {
     "name": "stdout",
     "output_type": "stream",
     "text": [
      "65.9 µs ± 1.76 µs per loop (mean ± std. dev. of 7 runs, 10000 loops each)\n"
     ]
    }
   ],
   "source": [
    "%timeit plaintext_example = plaintext_from_key(ciphertext, cipher_key)"
   ]
  },
  {
   "cell_type": "markdown",
   "id": "4df53bc3",
   "metadata": {},
   "source": [
    "### Entropy"
   ]
  },
  {
   "cell_type": "code",
   "execution_count": 51,
   "id": "0db6c9ca",
   "metadata": {},
   "outputs": [],
   "source": [
    "from scipy.stats import entropy\n",
    "\n",
    "def plaintext_entropy(plaintext):\n",
    "    plaintext_wo_spaces = plaintext.replace(' ', '')\n",
    "    _,counts = np.unique(list(plaintext_wo_spaces), return_counts=True)\n",
    "    return entropy(counts)"
   ]
  },
  {
   "cell_type": "code",
   "execution_count": 52,
   "id": "8c3f9a48",
   "metadata": {},
   "outputs": [
    {
     "data": {
      "text/plain": [
       "0.6914160776171183"
      ]
     },
     "execution_count": 52,
     "metadata": {},
     "output_type": "execute_result"
    }
   ],
   "source": [
    "plaintext_entropy('ABAABBBAAABBBBAAA')"
   ]
  },
  {
   "cell_type": "code",
   "execution_count": 53,
   "id": "21351ceb",
   "metadata": {},
   "outputs": [
    {
     "data": {
      "text/plain": [
       "2.5568271679009453"
      ]
     },
     "execution_count": 53,
     "metadata": {},
     "output_type": "execute_result"
    }
   ],
   "source": [
    "plaintext_entropy('ONTHEFIRSTDAYOFCHRISTMAS')"
   ]
  },
  {
   "cell_type": "code",
   "execution_count": 54,
   "id": "c2131992",
   "metadata": {},
   "outputs": [
    {
     "data": {
      "text/plain": [
       "(2.8839674453906783, 2.8653004029963824, 2.846225916717492)"
      ]
     },
     "execution_count": 54,
     "metadata": {},
     "output_type": "execute_result"
    }
   ],
   "source": [
    "plaintext_entropy(z408_plaintext),\\\n",
    "plaintext_entropy(z340_plaintext),\\\n",
    "plaintext_entropy(singh_codebook_plaintext)"
   ]
  },
  {
   "cell_type": "markdown",
   "id": "115b040e",
   "metadata": {},
   "source": [
    "### Index of coincidence"
   ]
  },
  {
   "cell_type": "code",
   "execution_count": 55,
   "id": "3940d0e8",
   "metadata": {},
   "outputs": [],
   "source": [
    "def index_of_coincidence(plaintext):\n",
    "    plaintext_wo_spaces = plaintext.replace(' ', '')\n",
    "    N = len(plaintext_wo_spaces)\n",
    "    _,counts = np.unique(list(plaintext_wo_spaces), return_counts=True)\n",
    "    ioc = np.sum(counts*(counts-1))\n",
    "    return float(ioc)/(N*(N-1))"
   ]
  },
  {
   "cell_type": "code",
   "execution_count": 56,
   "id": "196adde9",
   "metadata": {},
   "outputs": [
    {
     "data": {
      "text/plain": [
       "(0.06501421207303561, 0.06510498004511539, 0.07055961587490439)"
      ]
     },
     "execution_count": 56,
     "metadata": {},
     "output_type": "execute_result"
    }
   ],
   "source": [
    "index_of_coincidence(z408_plaintext),\\\n",
    "index_of_coincidence(z340_plaintext),\\\n",
    "index_of_coincidence(singh_codebook_plaintext)"
   ]
  },
  {
   "cell_type": "markdown",
   "id": "62cbcfd3",
   "metadata": {},
   "source": [
    "### Multiplicity"
   ]
  },
  {
   "cell_type": "code",
   "execution_count": 57,
   "id": "0b61db24",
   "metadata": {},
   "outputs": [],
   "source": [
    "def multiplicity(plaintext):\n",
    "    return float(len(np.unique(list(plaintext))))/len(plaintext)"
   ]
  },
  {
   "cell_type": "code",
   "execution_count": 59,
   "id": "0af601c6",
   "metadata": {},
   "outputs": [
    {
     "data": {
      "text/plain": [
       "0.8823529411764706"
      ]
     },
     "execution_count": 59,
     "metadata": {},
     "output_type": "execute_result"
    }
   ],
   "source": [
    "multiplicity(z340_untransposed[-2*17:])"
   ]
  },
  {
   "cell_type": "markdown",
   "id": "20c08067",
   "metadata": {},
   "source": [
    "### Plaintext scoring"
   ]
  },
  {
   "cell_type": "markdown",
   "id": "2bda2118",
   "metadata": {},
   "source": [
    "The following is _based_ on AZdecrypt's cost function: \n",
    "\n",
    "    ent = ngram_score*entropy^solvesub_entweight\n",
    "    \n",
    "    solvesub_ngramfactor = (1+((s/l)*solvesub_multiplicityweight))*al*scoretohave/ent"
   ]
  },
  {
   "cell_type": "code",
   "execution_count": 60,
   "id": "8105d137",
   "metadata": {},
   "outputs": [],
   "source": [
    "def plaintext_score(plaintext, ngram_size):\n",
    "    \n",
    "    plaintext_wo_spaces = plaintext.replace(' ', '')\n",
    "    \n",
    "    # AZdecrypt-based score. \n",
    "    score_ngram = plaintext_ngram_score(plaintext_wo_spaces, ngram_size)\n",
    "    score_entropy = plaintext_entropy(plaintext_wo_spaces)\n",
    "    score_multiplicity = multiplicity(plaintext_wo_spaces)\n",
    "    a1 = len(plaintext) - ngram_size + 1\n",
    "    azd_score = score_ngram*score_entropy/((1. + score_multiplicity)*a1)\n",
    "\n",
    "    # English plaintext entropy based score. \n",
    "    # mean_english_entropy = 2.85\n",
    "    # entropy_score = math.exp(-(score_entropy - mean_english_entropy)**2)\n",
    "    \n",
    "    # Index of coincidence. \n",
    "    # mean_english_ioc = 0.067\n",
    "    # ioc = index_of_coincidence(plaintext_wo_spaces)\n",
    "    # ioc_score = math.exp(-(ioc - mean_english_ioc)**2)\n",
    "    \n",
    "    # print(azd_score, entropy_score, ioc_score)\n",
    "    \n",
    "    return azd_score # + 0.05*entropy_score + 0.05*ioc_score"
   ]
  },
  {
   "cell_type": "code",
   "execution_count": 61,
   "id": "87c6f031",
   "metadata": {},
   "outputs": [
    {
     "data": {
      "text/plain": [
       "2.338269337952622"
      ]
     },
     "execution_count": 61,
     "metadata": {},
     "output_type": "execute_result"
    }
   ],
   "source": [
    "plaintext_score(z408_plaintext, ngram_size)"
   ]
  },
  {
   "cell_type": "code",
   "execution_count": 62,
   "id": "e6c51f39",
   "metadata": {},
   "outputs": [
    {
     "data": {
      "text/plain": [
       "2.649247308520241"
      ]
     },
     "execution_count": 62,
     "metadata": {},
     "output_type": "execute_result"
    }
   ],
   "source": [
    "plaintext_score(singh_codebook_plaintext, ngram_size)"
   ]
  },
  {
   "cell_type": "code",
   "execution_count": 63,
   "id": "6027c88b",
   "metadata": {},
   "outputs": [
    {
     "data": {
      "text/plain": [
       "0.8831771480855762"
      ]
     },
     "execution_count": 63,
     "metadata": {},
     "output_type": "execute_result"
    }
   ],
   "source": [
    "plaintext_score(singh_codebook_plaintext.replace('A','Z').replace('E','W'), ngram_size)"
   ]
  },
  {
   "cell_type": "markdown",
   "id": "eeb1ed2b",
   "metadata": {},
   "source": [
    "### Score for the candidate key"
   ]
  },
  {
   "cell_type": "code",
   "execution_count": 64,
   "id": "cc39a42c",
   "metadata": {},
   "outputs": [],
   "source": [
    "def state_score(ciphertext, key, ngram_size, spaces = False):\n",
    "    plaintext = plaintext_from_key(ciphertext, key)\n",
    "    plaintext = ''.join(plaintext)\n",
    "    plaintext_wo_spaces = plaintext.replace(' ', '')\n",
    "    \n",
    "    score = plaintext_score(plaintext_wo_spaces, ngram_size)\n",
    "    \n",
    "    if spaces:\n",
    "        single_space_count = plaintext.count(' ')\n",
    "        score -= (single_space_count - monogram_dict[' '])**2\n",
    "    \n",
    "        multiple_space_count = sum([n*plaintext.count(' '*n) for n in range(2,len(plaintext))])\n",
    "        score -= multiple_space_count\n",
    "    \n",
    "    return score"
   ]
  },
  {
   "cell_type": "code",
   "execution_count": null,
   "id": "5ad1ef97",
   "metadata": {},
   "outputs": [],
   "source": [
    "state_score(ciphertext, initial_key_example, ngram_size, spaces = False)"
   ]
  },
  {
   "cell_type": "code",
   "execution_count": 86,
   "id": "001deccb",
   "metadata": {},
   "outputs": [],
   "source": []
  },
  {
   "cell_type": "markdown",
   "id": "b3baa197",
   "metadata": {},
   "source": [
    "### Solve homophonic substitution cipher"
   ]
  },
  {
   "cell_type": "code",
   "execution_count": 69,
   "id": "331eeea7",
   "metadata": {},
   "outputs": [],
   "source": [
    "def solve_homophonic_substitution_cipher(ciphertext, \n",
    "    initial_temperature, \n",
    "    cooling_rate,\n",
    "    n_restarts, \n",
    "    n_local, \n",
    "    ngram_size = 5,\n",
    "    initial_key = None,\n",
    "    downhill = False,\n",
    "    backtracking = False,\n",
    "    backtracking_ratio = 0.5, \n",
    "    tabu = False,\n",
    "    tabu_size = 32, \n",
    "    permute_vowels = False,\n",
    "    spaces = False, \n",
    "    cribs = dict()):\n",
    "    \"\"\"Document me!\"\"\"\n",
    "    \n",
    "    n_explore = 0\n",
    "    n_downhill = 0\n",
    "    n_iterations = 0\n",
    "    n_since_best = 0\n",
    "    n_backtracks = 0\n",
    "    best_score = 0\n",
    "    \n",
    "    n_tabu = 0\n",
    "    max_tabu = 8\n",
    "    tabu_queue = []\n",
    "    \n",
    "    crib_cipher_symbols = list(invert_dict(cribs).keys())\n",
    "    \n",
    "    vowel_permute_success = False\n",
    "    \n",
    "    start = time.time()\n",
    "    prev = time.time()\n",
    "    \n",
    "    for n_restart in range(n_restarts):\n",
    "\n",
    "        # Generate initial state (key for the cipher). \n",
    "        if initial_key is not None:\n",
    "            current_state = copy.deepcopy(initial_key)            \n",
    "        else:\n",
    "            current_state = generate_initial_key(ciphertext, cribs, spaces)\n",
    "        current_score = state_score(ciphertext, current_state, ngram_size, spaces)\n",
    "                \n",
    "        if n_restart == 0:\n",
    "            best_state = copy.deepcopy(current_state)\n",
    "            best_score = current_score\n",
    "        \n",
    "        temp = initial_temperature\n",
    "\n",
    "        while temp > 1:\n",
    "\n",
    "            # Pertubate current state. \n",
    "            neighbour_state = copy.deepcopy(current_state)\n",
    "            neighbour_score = current_score\n",
    "\n",
    "            # Permute vowels. (EXPERIMENTAL & UNDER CONSTRUCTION!!)\n",
    "            if permute_vowels:\n",
    "                vowel_permute_success, neighbour_state, neighbour_score = \\\n",
    "                    downhill_vowel_permute(neighbour_state, neighbour_score)\n",
    "            \n",
    "            # Local (downhill) search.\n",
    "            local = False\n",
    "            for _ in range(n_local):\n",
    "                # Tabu search. \n",
    "                i = 0\n",
    "                while i < max_tabu:\n",
    "                    i += 1\n",
    "                    n_iterations += 1\n",
    "                    n_since_best += 1\n",
    "                    local_state = pertubate(neighbour_state, crib_cipher_symbols)\n",
    "                    if tabu:\n",
    "                        local_state_hash = hash(str(list(local_state.values())))\n",
    "                        if local_state_hash not in tabu_queue:\n",
    "                            tabu_queue.append(local_state_hash)\n",
    "                            if len(tabu_queue) > tabu_size:\n",
    "                                tabu_queue.pop(0)\n",
    "                            break\n",
    "                        else:\n",
    "                            n_tabu += 1\n",
    "                    else:\n",
    "                        break\n",
    "\n",
    "                local_score = state_score(ciphertext, local_state, ngram_size, spaces)\n",
    "                if local_score > neighbour_score:\n",
    "                    local = True\n",
    "                    neighbour_state = copy.deepcopy(local_state)\n",
    "                    neighbour_score = local_score\n",
    "\n",
    "            if not local:\n",
    "                neighbour_state = copy.deepcopy(local_state)\n",
    "                neighbour_score = local_score\n",
    "\n",
    "            # Improved state.  \n",
    "            if neighbour_score > current_score:\n",
    "                n_downhill += 1\n",
    "                current_state = copy.deepcopy(neighbour_state)\n",
    "                current_score = neighbour_score\n",
    "                if current_score > best_score:\n",
    "                    n_since_best = 0\n",
    "                    best_state = copy.deepcopy(current_state)\n",
    "                    best_score = current_score\n",
    "            elif not downhill and math.exp((neighbour_score - current_score)/temp) > random.uniform(0.,1.):\n",
    "                # Downhill or boltzman function.\n",
    "                n_explore += 1\n",
    "                current_state = copy.deepcopy(neighbour_state)\n",
    "                current_score = neighbour_score\n",
    "\n",
    "            # Decrease temperature. \n",
    "            temp *= 1.0 - cooling_rate\n",
    "\n",
    "            # Backtrack to best solution. \n",
    "            if backtracking and n_since_best/n_iterations > backtracking_ratio:\n",
    "                print('backtracking...')\n",
    "                n_backtracks += 1\n",
    "                current_state = copy.deepcopy(best_state)\n",
    "                current_score = best_score\n",
    "            \n",
    "            # debugging. \n",
    "            if n_iterations % 10000 == 0:\n",
    "                iter_per_sec = int(10000/(time.time() - prev))\n",
    "                prev = time.time()\n",
    "                \n",
    "                plaintext = plaintext_from_key(ciphertext, best_state)\n",
    "                plaintext = ''.join(plaintext)\n",
    "                ngram_score = plaintext_ngram_score(plaintext, ngram_size)\n",
    "                ioc = index_of_coincidence(plaintext)\n",
    "                entropy = plaintext_entropy(plaintext)\n",
    "                \n",
    "                print(f'{(time.time() - start)/60.:.2f} mins elapsed')\n",
    "                print(f'{iter_per_sec} iterations / sec')\n",
    "                print(f'temperature     = {temp:.2f}')\n",
    "                print('')\n",
    "                print(f'best score      = {best_score:.2f}')\n",
    "                print(f'n-gram          = {ngram_score:.2f}')\n",
    "                print(f'ioc             = {ioc:.4f}    (english ~0.0686)')\n",
    "                print(f'entropy         = {entropy:.2f}      (english ~2.85)')\n",
    "                print('')\n",
    "                \n",
    "                plaintext = plaintext_from_key(ciphertext, current_state)\n",
    "                plaintext = ''.join(plaintext)\n",
    "                ngram_score = plaintext_ngram_score(plaintext, ngram_size)\n",
    "                ioc = index_of_coincidence(plaintext)\n",
    "                entropy = plaintext_entropy(plaintext)\n",
    "\n",
    "                print(f'current score   = {current_score:.2f}')\n",
    "                print(f'n-gram          = {ngram_score:.2f}')\n",
    "                print(f'ioc             = {ioc:.4f}')\n",
    "                print(f'entropy         = {entropy:.2f}')\n",
    "                print('')\n",
    "                \n",
    "                print(f'n_iterations    = {n_iterations}')\n",
    "                print(f'n_restart       = {n_restart}')\n",
    "                print(f'n_backtracks    = {n_backtracks}')\n",
    "                print(f'n_tabu          = {n_tabu}')\n",
    "                print(f'n_downhill      = {n_downhill}')\n",
    "                print(f'n_explore       = {n_explore}')\n",
    "                print(f'n_since_best    = {n_since_best}')\n",
    "                print('')\n",
    "                print(''.join(plaintext_from_key(ciphertext, best_state)))\n",
    "                print('')\n",
    "                print(''.join(plaintext_from_key(ciphertext, current_state)))\n",
    "                print('')\n",
    "                print(best_state)\n",
    "                print('')\n",
    "        print('restarting...')\n",
    "    \n",
    "    return best_score, best_state"
   ]
  },
  {
   "cell_type": "code",
   "execution_count": null,
   "id": "a2af180c",
   "metadata": {},
   "outputs": [],
   "source": [
    "best_score, best_state = solve_homophonic_substitution_cipher(ciphertext, 1e3, 0.001, 10000, 100, \n",
    "    tabu = False, backtracking = False)"
   ]
  },
  {
   "cell_type": "markdown",
   "id": "f2ae8bf1",
   "metadata": {},
   "source": [
    "    2.78 mins elapsed\n",
    "    567 iterations / sec\n",
    "    temperature     = 406.39\n",
    "\n",
    "    best score      = 2.61\n",
    "    n-gram          = 1563.31\n",
    "    ioc             = 0.0710    (english ~0.067)\n",
    "    entropy         = 2.83      (english ~2.85)\n",
    "\n",
    "    current score   = 2.29\n",
    "    n-gram          = 1425.29\n",
    "    ioc             = 0.0789\n",
    "    entropy         = 2.73\n",
    "\n",
    "    n_iterations    = 90000\n",
    "    n_restart       = 0\n",
    "    n_backtracks    = 0\n",
    "    n_tabu          = 0\n",
    "    n_downhill      = 587\n",
    "    n_explore       = 900\n",
    "    n_since_best    = 8400\n",
    "\n",
    "    FORCENTURIESKINGSCUEENSANDGENERALSHAVERELIEMONEFFICIENTCOMMUNICATIONINORDERTOGOVERNTHEIRCOUNTRIESANMCOMMANDTHEIRARMIESATTHESAMETIMETHEYHAVEALLBEENAWAREOFTHECONSECUENCESOFTHEIRMESSAGESFALLINGINTOTHEWRONGHANMSREVEALINGPRECIOUSSECRETSTORIVALNATIONSANDBETRAYINGVITALINFORMATIONTOOPPOSINGFORCESITWASTHETHREATOFENEMYINTERCEPTIONTHATMOTIVATEMTHEDEVELOPMENTOFCOMESANDCIPHERSTECHNICUESFORMISGUISINGAMESSAGESOTHATONLYTHEINTENDEMRECIPIENTCANREADITTHEMESIREFORSECRECYHASMEANTTHATNATIONSHAVEOPERATEDCOMEMAKINGDEPARTMENTSWHICHWERERESPONSIBLEFORENSURINGTHESECURITYOFCOMMUNICATIONSBYINVENTINGANMIMPLEMENTINGTHEBESTPOSSIBLECODESATTHESAMETIMEENEMYCOMEBREAKERSHAVEATTEMPTEDTOBREAKTHESECOMESANDSTEALSECRETSCOMEBREAKERSARELINGUISTICALCHEMISTSAMYSTICALTRIBEATTEMPTINGTOCONJURESENSIBLEWORDSOUTOFMEANINGLESSSYMBOLSTHEHISTORYOFCOMESANDCIPHERSISTHESTORYOFTHECENTURIESOLMBATTLEBETWEENCODEMAKERSANMCODEBREAKERSANINTELLECTUALARMSRACETHATHASHAMADRAMATICIMPACTONTHECOURSEOFHISTORYINWRITINGTHECOMEBOOKIHAVEHADTWOMAINOBJECTIVESTHEFIRSTISTOCHARTTHEEVOLUTIONOFCOMESEVOLUTIONISAWHOLLYAPPROPRIATETERMBECAUSETHEDEVELOPMENTOFCOMESCANBEVIEWEDASANEVOLUTIONARYSTRUGGLEACOMEISCONSTANTLYUNDERATTACKFROMCOMEBREAKERSWHENTHECODEBREAKERSHAVEMEVELOPEDANEWWEAPONTHATREVEALSACOMESWEAKNESSTHENTHECODEISNOLONGERUSEFULITEITHERBECOMESEXTINCTORITEVOLVESINTOANEWSTRONGERCOMEINTURNTHISNEWCODETHRIVESONLYUNTILTHECOMEBREAKERSIDENTIFYITSWEAKNESSANMSOONTHISISSIMILARTOTHESITUATIONFACINGFOREXAMPLEASTRAINOFINFECTIOUSBACTERIATHEBACTERIALIVETHRIVEANDSURVIVEUNTILMOCTORSDISCOVERANANTIBIOTICTHATEXPOSESAWEAKNESSINTHEBACTERIAANMKILLSTHEMTHEBACTERIAAREFORCEDTOEVOLVEANMOUTWITTHEANTIBIOTICANDIFSUCCESSFULTHEYWILLTHRIVEONCEAGAINANMREESTABLISHTHEMSELVES\n",
    "\n",
    "    {'A': [2, 45, 25, 50, 59], 'B': [41], 'C': [61, 37, 22, 47], 'D': [4], 'E': [33, 7, 0, 10, 40, 53, 20, 54, 42], 'F': [34], 'G': [15], 'H': [46, 51, 30], 'I': [60, 1, 19, 31, 56], 'J': [63], 'K': [8], 'L': [38, 57], 'M': [21, 39], 'N': [3, 27, 48, 23], 'O': [13, 58, 5, 11], 'P': [24], 'Q': [], 'R': [43, 28, 29], 'S': [17, 18, 32, 9], 'T': [44, 16, 55, 36, 49, 12], 'U': [14], 'V': [52], 'W': [35], 'X': [62], 'Y': [26], 'Z': []}"
   ]
  },
  {
   "cell_type": "markdown",
   "id": "fc290f80",
   "metadata": {},
   "source": [
    "    9.51 mins elapsed\n",
    "    1776 iterations / sec\n",
    "    temperature     = 74.55\n",
    "\n",
    "    best score      = 2.34\n",
    "    n-gram          = 347.31\n",
    "    ioc             = 0.0657    (english ~0.067)\n",
    "    entropy         = 2.87      (english ~2.85)\n",
    "\n",
    "    current score   = 2.08\n",
    "    n-gram          = 318.40\n",
    "    ioc             = 0.0731\n",
    "    entropy         = 2.76\n",
    "\n",
    "    n_iterations    = 950000\n",
    "    n_restart       = 1\n",
    "    n_backtracks    = 0\n",
    "    n_tabu          = 0\n",
    "    n_downhill      = 6896\n",
    "    n_explore       = 9487\n",
    "    n_since_best    = 2500\n",
    "\n",
    "    ILIKEKILLINGPEOPLEBECAUSEITISSOMUCHFUNITIAMOREFUNTHANKILLINGWILDGAMEINTHEFORRESTBECAUSEMANISTHEMOATDANGERTUEANAMALOFALLTOKILLSOMETHINGGIVESMETHEMOATTHRILLINGERPERENCEITISEVENBETTERTHANGETTINGYOURROCKSOFFWITHAGIRLTHEBESTPARTOFITIATHAEWHENIDIEIWILLBEREBORNINPARADICEANDALLTHEIHAVEKILLEDWILLBECOMEMYSLAVESIWILLNOTGIVEYOUMYNAMEBECAUSEYOUWILLTRYTOSLOIDOWNORATOPMYCOLLECTINGOFSLAVESFORMYAFTERLIFEEBEORIETEMETHHPITI\n",
    "\n",
    "    {'A': ['S', 'G', 'l', '8', '7'], 'B': ['V'], 'C': ['e'], 'D': ['f', 'z'], 'E': ['+', 'N', '6', 'Z', 'E', 'W', 'p'], 'F': ['Q', 'J'], 'G': ['R'], 'H': ['M', ')'], 'I': ['U', 'P', '9', 'k'], 'J': [], 'K': ['/'], 'L': ['%', '#', 'B'], 'M': ['q'], 'N': ['O', '^', '(', 'D'], 'O': ['!', 'X', 'T', 'd'], 'P': ['='], 'Q': [], 'R': ['\\\\', 't', 'r', 'j'], 'S': ['K', '@', 'F'], 'T': ['H', 'L', 'I', '5'], 'U': ['Y'], 'V': ['c'], 'W': ['A'], 'X': [], 'Y': ['_'], 'Z': []}"
   ]
  },
  {
   "cell_type": "code",
   "execution_count": null,
   "id": "0ed9bb47",
   "metadata": {},
   "outputs": [],
   "source": [
    "best_score, best_state = solve_homophonic_substitution_cipher(singh_378_55_ciphertext, 1e3, 0.001, 1000, 100,\n",
    "    tabu = False)"
   ]
  },
  {
   "cell_type": "markdown",
   "id": "cf4662fe",
   "metadata": {},
   "source": [
    "    5.08 mins elapsed\n",
    "    2178 iterations / sec\n",
    "    temperature     = 1.66\n",
    "\n",
    "    best score      = 2.58\n",
    "    n-gram          = 365.22\n",
    "    ioc             = 0.0712    (english ~0.067)\n",
    "    entropy         = 2.80      (english ~2.85)\n",
    "\n",
    "    n_iterations    = 640000\n",
    "    n_restart       = 0\n",
    "    n_backtracks    = 0\n",
    "    n_tabu          = 0\n",
    "    n_downhill      = 4470\n",
    "    n_explore       = 6382\n",
    "    n_since_best    = 6500\n",
    "\n",
    "    FORCENTURIESTINGSQUEENSANDGENERALSHAVERELIEDONEFFICIENTCOMMUNICATIONINORDERTOGOVERNTHEIRCOUNTRIESANDCOMMANDTHEIRARMIESATTHESAMETIMETHEYHAVEALLBEENAWAREOFTHECONSEQUENCESOFTHEIRMESSAGESFALLINGINTOTHEWRONGHANDSREVEALINGPRECIOUSSECRETSTORIVALNATIONSANDBETRAYINGVITALINFORMATIONTOOPPOSINGFORCESITWASTHETHREATOFENEMYINTERCEPTIONTHATMOTIVATEDTHEDEVELOPMENTOFCODESANDCIPHERSTECHNIQUESFO\n",
    "\n",
    "    {'A': [9, 34, 33, 35], 'B': [2], 'C': [20, 52], 'D': [53], 'E': [18, 6, 54, 29, 27, 0, 17], 'F': [10], 'G': [8], 'H': [16, 43], 'I': [22, 28, 49, 30], 'J': [], 'K': [], 'L': [44], 'M': [26, 45], 'N': [3, 48, 23, 39, 38], 'O': [15, 4, 37, 41], 'P': [7], 'Q': [32], 'R': [19, 1, 42], 'S': [40, 46, 11], 'T': [31, 51, 13, 5, 47, 36], 'U': [25], 'V': [24], 'W': [50], 'X': [], 'Y': [21], 'Z': []}"
   ]
  },
  {
   "cell_type": "code",
   "execution_count": null,
   "id": "ea828185",
   "metadata": {},
   "outputs": [],
   "source": [
    "best_score, best_state = solve_homophonic_substitution_cipher(z340_untransposed, 1e3, 0.001, 1000, 10,\n",
    "    backtracking = False)"
   ]
  },
  {
   "cell_type": "markdown",
   "id": "9c1aac56",
   "metadata": {},
   "source": [
    "    23.37 mins elapsed\n",
    "    2215 iterations / sec\n",
    "    temperature     = 137.93\n",
    "\n",
    "    best score      = 2.21\n",
    "    n-gram          = 281.92\n",
    "    ioc             = 0.0708    (english ~0.067)\n",
    "    entropy         = 2.79      (english ~2.85)\n",
    "\n",
    "    current score   = 1.95\n",
    "    n-gram          = 266.66\n",
    "    ioc             = 0.0872\n",
    "    entropy         = 2.59\n",
    "\n",
    "    n_iterations    = 2960000\n",
    "    n_restart       = 4\n",
    "    n_backtracks    = 0\n",
    "    n_tabu          = 0\n",
    "    n_downhill      = 22224\n",
    "    n_explore       = 29566\n",
    "    n_since_best    = 354300\n",
    "\n",
    "    IHOPEYOUAREHAVINGLOTSOFFAEINTRYINGTOCATCHMETHATWASSTMESSTHETVSHOWWHICHBRITGOUPAPOINTABOUTMEIAMESTAFRAINOFTHEGASCHAMBERBECAASEITWILLRETIMESSPARALLCEALLTHEROOHERBECAUSEENOWHAVEENOUGHSLAVESTOWORVFORMEWHEREEVERYSSEELREHASTOTHINGWHENTHEYREACHPARALICESOTHEYAREAFRAINOFLEATHIAMESSAFRAINBECAUSEIVESWTHATMYNEWLIFEIRLIFEWILLBEATEARYONEISPARANICEIEATH\n",
    "\n",
    "    {'A': ['l', 'O', 'K', 'z', '*'], 'B': ['_', 'f'], 'C': ['p'], 'D': [], 'E': ['4', 'N', '|', 'c', '9', 'B', 'b'], 'F': ['F'], 'G': ['L'], 'H': ['+'], 'I': ['k', 'P', '<', 'y', 'H', 'A'], 'J': [], 'K': [], 'L': ['t', 'd', '7', '6'], 'M': ['2'], 'N': ['>', '.', 'S'], 'O': ['V', 'M', 'R'], 'P': ['8', 'j'], 'Q': [], 'R': ['Z', 'T', 'E', 'X', '-', '1'], 'S': ['U', ':', '^', 'J', 'D', '&'], 'T': ['#', '(', 'G', ';', '%', 'Y'], 'U': ['/', '@', 'q'], 'V': ['5'], 'W': ['W', ')'], 'X': [], 'Y': ['3', 'C'], 'Z': []}"
   ]
  },
  {
   "cell_type": "markdown",
   "id": "ea4749b1",
   "metadata": {},
   "source": [
    "Ref: https://github.com/doranchak/azdecrypt/blob/main/AZdecrypt/Ciphers/Substitution/RayN.txt\n",
    "\n",
    "See also p. 155, The Zodiac Revisited, vol. 2, Michael Cole"
   ]
  },
  {
   "cell_type": "code",
   "execution_count": 235,
   "id": "a061713d",
   "metadata": {},
   "outputs": [],
   "source": [
    "ray_nixon_378_ciphertext = \\\n",
    "'R§Ñ∏YWæ∑ΩìZZµj+≥Mô\\\n",
    "B∞VÑTSQA±ö‘—≤•£âXW\\\n",
    "ûJYæä∏ZTæ∑RéA∫§±•Æ\\\n",
    "¥≤ô¬íMπÃ∫√YÀΩ§YZWT\\\n",
    "∏ÑAj∑N¥Bî±íE•≤§SZQ\\\n",
    "≥+µMj¬∏ÀRVÑQJY∑¥éZ\\\n",
    "•+öMVûJTWæº∏£‘√ŒBä\\\n",
    "–Nº∑ôAW∞VÑπ£SE—î±À\\\n",
    "R•XΩô+íµ∏DRÀ+¥VÑÃ≥\\\n",
    "£Àâ¬jûQ≤ôYì∑√¥öVìZ\\\n",
    "•TéA£ôNMæJ±∞VB≤£Æπ\\\n",
    "SWEíäR§À∏YR+PµMZ∑ì\\\n",
    "ΩôDTjA∫—M±≥X≤V¥£Ñû\\\n",
    "îYD¬ÀWöô+ZRÀ+ZV∞£Ñ\\\n",
    "æQTJAΩ•BŒ§SπW≥—±ÃW\\\n",
    "ûä≤WMR∫§DYì√¥ZTW∆æ\\\n",
    "W¥¥£ÀÃA‘âÆP±ìB∏≤§Z\\\n",
    "S∑∞∆PY+NíMπ∫§öôÀ‘E\\\n",
    "ºÃµV∫W—îZR•ûQ¥∏âæj\\\n",
    "¬∑í•TA+√WÑ∞é±ÆBJ≤¥\\\n",
    "äŒ£ÑY∏jN∑éZôÑTRVìA'"
   ]
  },
  {
   "cell_type": "code",
   "execution_count": null,
   "id": "885ba278",
   "metadata": {},
   "outputs": [],
   "source": [
    "best_score, best_state = solve_homophonic_substitution_cipher(ray_nixon_378_ciphertext, 1e3, 0.001, 1000, 100,\n",
    "    backtracking = True)"
   ]
  },
  {
   "cell_type": "markdown",
   "id": "00e0603f",
   "metadata": {},
   "source": [
    "    100.94 mins elapsed\n",
    "    1974 iterations / sec\n",
    "    temperature     = 2.18\n",
    "\n",
    "    best score      = 2.17\n",
    "    best ioc        = 0.0733    (english ~0.067)\n",
    "    best entropy    = 2.77      (english ~2.85)\n",
    "\n",
    "    n_iterations    = 10970000\n",
    "    n_restart       = 15\n",
    "    n_backtracks    = 0\n",
    "    n_tabu          = 0\n",
    "    n_downhill      = 79856\n",
    "    n_explore       = 29623\n",
    "    n_since_best    = 6883400\n",
    "\n",
    "    ASGREYTRACEEOFDAWNTINGETHEEASTERNSTYTHETHREETRAVELSERSIENOFWILLBEDASEEYERGEFROITHEFORESTEHADOWFORDANGHHERIVERDAWNTHEYTURNSBOTHBOURNEYINGINTOTHEDARTANDFORBADDINGLANDSOFTHENECRBIANCEREVENNOWTHEINTENSITYOFHASDREADPOWERCANBEFELTWEATENINGTHEBODYANDEADDENINGTHEHEARTOSTIYATELYTHEYWALSBECBIEEYPTYIINDLESSSPECTRESETRIPPEDOFWILSANDSOULONLYTHEARTHIRSTFORFREEDBYGIVESTHEIHONGERFORVENGEANCE\n",
    "\n",
    "    {'A': ['R', 'ö', 'Ω', '≥'], 'B': ['D', '√', '–'], 'C': ['ì'], 'D': ['À', '+'], 'E': ['±', 'Z', 'T', 'A', 'Y', '≤'], 'F': ['j', 'í'], 'G': ['Ñ'], 'H': ['J', 'ä', 'î', 'Q'], 'I': ['π', '¥', '∞'], 'J': [], 'K': [], 'L': ['∫', 'Ã'], 'M': [], 'N': ['ô', 'V', '£'], 'O': ['¬', 'N', 'E', 'µ', 'Œ'], 'P': ['P', '∆'], 'Q': [], 'R': ['∏', '•', '∑'], 'S': ['Æ', '‘', '§', 'â'], 'T': ['—', 'S', 'û', 'æ', 'B', 'X'], 'U': ['º'], 'V': ['é'], 'W': ['M'], 'X': [], 'Y': ['W'], 'Z': []}"
   ]
  },
  {
   "cell_type": "markdown",
   "id": "4ccf2000",
   "metadata": {},
   "source": [
    "Ref: https://github.com/doranchak/azdecrypt/blob/main/AZdecrypt/Ciphers/Substitution/glurk%201.txt"
   ]
  },
  {
   "cell_type": "code",
   "execution_count": 453,
   "id": "e4cb4762",
   "metadata": {},
   "outputs": [],
   "source": [
    "glurk_1 = \">J&9*+%F8$WT13+!#\\\n",
    "4*J{;.RTX*5XC;E1&\\\n",
    "<9=5^<9*;=UC]HM[,\\\n",
    "6[M3=DE}.6K#3]CQD\\\n",
    "L]X-HK-_Q*8B524T-\\\n",
    "Z&<4(7)&MKADKV<K-\\\n",
    "@KMG4@#IW0:N+=L32\\\n",
    "PJ1.Z;@6G#8I;&=5^\\\n",
    "67*-4.;KT$9!ML46C\\\n",
    ";M3V!P+H-Z#7@93SK\\\n",
    "#PBP,W:*Q*1Y,}O%]\\\n",
    "L;,;X:@A#&<GZI6AB\\\n",
    "W4V3OVU17!DZJT7IQ\\\n",
    "KCJH<%$G,P\\WVF<{*\\\n",
    "{=8^G#A*=AH{S3|5+\\\n",
    "'%O!MN':OQAV$UECF\\\n",
    "ZOR5FCO(5J8&\\\"{Q4B\\\n",
    "GSNP_Z_RTW..NVACR\\\n",
    "<@UM{C+M*N4\\PMEWZ\\\n",
    "#8_!,<[]4,(WI;XS9\""
   ]
  },
  {
   "cell_type": "code",
   "execution_count": null,
   "id": "ec45aba1",
   "metadata": {},
   "outputs": [],
   "source": [
    "best_score, best_state = solve_homophonic_substitution_cipher(glurk_1, 1e3, 0.001, 10000, 100,\n",
    "    backtracking = False)"
   ]
  },
  {
   "cell_type": "markdown",
   "id": "8b70bd25",
   "metadata": {},
   "source": [
    "Ref: https://github.com/doranchak/azdecrypt/blob/main/AZdecrypt/Ciphers/Substitution/glurk%202.txt"
   ]
  },
  {
   "cell_type": "code",
   "execution_count": 195,
   "id": "92aaeeab",
   "metadata": {},
   "outputs": [],
   "source": [
    "glurk_2 = \"j_CN<!J4e7ilK0=B4\\\n",
    "ah0Vl8C7Yk7igO4f:\\\n",
    "D`^=^NeAbKl8F7AlX\\\n",
    ":3d00V_AahZQ2m5dQ\\\n",
    "<mH1JTmml7Wol1ChO\\\n",
    "ehZQD6d@QI3`KF<8Z\\\n",
    "cB76@nWbF!TTZn=P=\\\n",
    "7aebYIgmZJFdYea3Y\\\n",
    "86HRfRDGKMV41VEIF\\\n",
    "2pJfKL6:H`hAiC0O7\\\n",
    "Zo7QAnD65_MQh<QBI\\\n",
    "aRT0FdO^6Na=:HnDf\\\n",
    ">I@k7Mc=4NGlmmW9Y\\\n",
    "HLTiS!J:fFIPED0jf\\\n",
    "KDCIYciKRDfi;o39C\\\n",
    "09<Qd<`N^pZm|hUWK\\\n",
    "Fe4IG@N2B3N2kUNG^\\\n",
    "g3<NMcXDi_L07Zo>h\\\n",
    "EgNWcIEPm^_04n2:f\\\n",
    "|hEE0hWJ|!e4pFdgT\""
   ]
  },
  {
   "cell_type": "code",
   "execution_count": null,
   "id": "f77d0ac9",
   "metadata": {},
   "outputs": [],
   "source": [
    "best_score, best_state = solve_homophonic_substitution_cipher(glurk_2, 1e3, 0.001, 10000, 25,\n",
    "    backtracking = False, tabu = False)"
   ]
  },
  {
   "cell_type": "code",
   "execution_count": null,
   "id": "d9218b48",
   "metadata": {},
   "outputs": [],
   "source": []
  },
  {
   "cell_type": "code",
   "execution_count": 144,
   "id": "3454ee74",
   "metadata": {
    "collapsed": true
   },
   "outputs": [
    {
     "data": {
      "text/plain": [
       "\"['23', '90', '38', '20', '85', '72', '38', '30', '43', '56', '12', '39', '40', '23', '86', '32', '84', '23', '98', '34', '84', '73', '82', '81', '02', '34', '86', '57', '46', '50', '10', '12', '34', '87', '65', '10', '18', '47', '56', '43', '78', '01', '01', '01', '34', '75', '68', '34', '75', '02', '45', '37', '64', '30', '32', '87', '41', '62', '73', '46', '56', '71', '63', '76', '47', '20', '71', '64', '01', '38', '57', '63', '47', '62', '78', '34', '00', '45', '17', '32', '61', '61', '73', '45', '68', '34', '84', '83', '93', '82', '72', '63', '73', '78', '48', '02', '20', '81', '72', '63', '78', '20', '83', '76', '07', '38', '65', '47', '61', '87', '64', '52', '87', '62', '01', '01', '71', '38', '22', '03', '83', '76', '45', '71', '68', '20', '20', '10', '83', '45', '67', '04', '83', '65', '02', '01', '01', '08', '47', '65', '28', '76', '49', '52', '67', '84', '62', '76', '43', '76', '47', '82', '01', '38', '29', '28', '73', '64', '58', '39', '14', '75', '63', '70', '10', '17', '04', '78', '26', '59', '34', '61', '04', '26', '78', '34', '65', '20', '38', '47', '56', '34', '70', '29', '83', '74', '65', '02', '02', '87', '62', '01', '80', '10', '48', '27', '46', '57', '26', '34', '72', '01', '08', '71', '34', '65', '62', '73', '82', '83', '89', '45', '76', '47', '74', '84', '72', '49', '02', '01', '08', '43', '01', '30', '28', '30', '28', '11', '59', '02', '48', '35', '76', '29', '48', '75', '60', '17', '45', '62', '37', '73', '73', '82', '93', '94', '02', '87', '61', '37', '90', '78', '43', '80', '76', '78', '01', '08', '71', '40', '87', '13', '42', '65', '74', '74', '73', '82', '97', '14', '65', '01', '01', '04', '10', '87', '65', '71', '67', '46', '37', '01', '08', '27', '63', '18', '02', '08', '37', '46', '57', '63', '82', '02', '13', '75', '60', '38', '08', '37', '64', '57', '12', '66', '02', '41', '58', '76', '45', '01', '83', '74', '56', '02', '07', '26', '41', '23', '53', '24', '21', '08', '74', '65', '08', '34', '83', '03', '92', '76', '45', '03', '46', '57', '47', '43', '55', '45', '43', '13', '49', '05', '67', '62', '40', '40', '42', '68', '89', '57', '84', '74', '47', '01', '45', '87', '84', '16', '56', '66', '43', '29', '92', '76', '53', '23', '45', '23', '49', '10', '27', '36', '40', '18', '45', '11', '70', '14', '53', '08', '81', '37', '45', '93', '20', '98', '51', '73', '41', '15', '04', '10', '38', '45', '12', '08', '45', '86', '78', '45', '04', '18', '57', '14', '08', '74', '78', '48', '50', '10', '19', '29', '28', '38', '32', '88', '05', '84', '57', '82', '74', '75', '82', '02', '84', '75', '16', '45', '72', '97', '81', '60', '38', '75', '60', '13', '37', '13', '01', '58', '97', '42', '38', '09', '75', '40', '32', '89', '57', '02', '89', '34', '75', '08', '38', '47', '55', '74', '83', '92', '02', '34', '85', '71', '01', '45', '01', '47', '25', '60', '34', '75', '61', '10', '84', '75', '67', '32', '04', '37', '56', '01', '83', '47', '09', '24', '37', '64', '67', '64', '58', '76', '14', '75', '80', '84', '37', '50', '29', '83', '46', '43', '84', '03', '02', '74', '56', '38', '10', '48', '66', '10', '10', '87', '34', '56', '45', '67', '47', '42', '47', '20', '43', '47', '56', '47', '30', '42', '37', '72', '29', '92', '43', '74', '56', '74', '50', '01', '70', '13', '27', '56', '47', '13', '85', '67', '45', '71', '02', '01', '82', '34', '76', '75', '07', '68', '65', '79', '83', '45', '10', '78', '61', '37', '56', '51', '43', '44', '54', '32', '54', '68', '97', '42', '57', '43', '56', '37', '89', '87', '66', '56', '56', '51', '92', '87', '46', '57', '76', '47', '61', '11', '04', '37', '51', '04', '87', '65', '98', '30', '10', '02', '92', '33', '74', '08', '47', '31', '56', '74', '65', '01', '04', '85', '76', '74', '60', '10', '18', '76', '45', '02', '50', '63', '04', '50', '72', '40', '57', '26', '39', '78', '53', '78', '65', '60', '50', '38', '74', '56', '75', '98', '89', '77', '61', '23', '45', '23', '13', '51', '34', '53', '56', '57', '65', '12', '30', '86', '33', '42', '34', '09', '08', '15', '67', '94', '25', '78', '67', '45', '67', '78', '98', '67', '94', '34', '23', '56', '48', '83', '58', '43', '28', '57', '10', '47', '05', '67', '16', '71', '43', '86', '47', '21', '93', '47', '54', '08', '71', '63', '09', '65', '43', '23', '23', '27', '97', '08', '77', '56', '54', '34', '32', '34', '67', '74', '51', '87', '04', '18', '75', '02', '34', '98', '75', '43', '56', '02', '89', '61', '08', '46', '57', '38', '06', '23', '78', '95', '53', '21', '27', '79', '89', '76', '67', '58', '73', '65', '89', '04', '25', '43', '46', '84', '34', '53', '89', '06', '78', '06', '37', '81', '46', '39', '28', '46', '89', '73', '65', '40', '33', '60', '16', '04', '87', '36', '57', '08', '68', '76', '10', '84', '57', '61', '35', '41', '57', '82', '65', '01', '84', '56', '87', '35', '63', '01', '85', '74', '86', '85', '46', '74', '65', '34', '70', '12', '34', '23', '47', '86', '08', '32', '51', '73', '46', '57', '08', '46', '19', '57', '35', '74', '65', '87', '24', '65', '08', '16', '50', '84', '36', '58', '04', '20', '60', '75', '64', '87', '56', '23', '45', '62', '03', '48', '75', '63', '87', '65', '70', '61', '53', '21', '54', '34', '01', '23', '75', '49', '50', '25', '64', '86', '34', '58', '91', '91', '39', '74', '35', '67', '14', '01', '52', '34', '51', '23', '03', '45', '12', '36', '85', '26', '43', '52', '83', '41', '92', '98', '46', '25', '40', '62', '15', '49', '16', '52', '36', '46', '57', '38', '28', '29', '16', '35', '42', '66', '35', '47', '67', '46', '71', '00', '51', '74', '56', '73', '48', '95', '69', '28', '45', '95', '26', '08', '75', '15', '01', '74', '35', '64', '03', '17', '67', '86', '54', '10', '74', '82', '35', '67', '38', '83', '81', '03', '74', '60', '63', '03', '13', '65', '89', '43', '27', '65', '03', '61', '98', '34', '76', '57', '46', '31', '57', '61', '95', '76', '05', '67', '18', '24', '63', '84', '61', '20', '35', '61', '73', '02', '12', '83', '74', '60', '14', '57', '64', '59', '92', '03', '81', '79', '83', '47', '54', '35', '56', '56', '78', '96', '37', '10', '28', '63', '78', '17', '34', '57', '62', '78', '68', '04', '65', '01', '78', '26', '57', '43', '00', '81', '76', '74', '54', '67', '51', '84', '64', '50', '18', '76', '45', '87', '00', '76', '17', '45', '61', '79', '74', '56', '53', '65', '51', '71', '91', '26', '75', '41', '92', '50', '13', '45', '13', '45', '83', '87', '26', '63', '47', '80', '41', '95', '41', '39', '54', '78', '56', '35', '46', '35', '42', '39', '19', '43', '75', '10', '64', '73', '58', '48', '30', '14', '38', '75', '64', '06', '40', '65', '87', '63', '04', '87', '23', '04', '57', '61', '61', '67', '80', '45', '26', '78', '61', '00', '47', '16', '78', '46', '78', '17', '27', '83', '40', '14', '57', '64', '02', '35', '73', '83', '89', '11', '78', '60', '14', '37', '65', '43', '10', '03', '03', '92', '34', '87', '34', '65', '87', '14', '38', '76', '76', '54', '54', '35', '92', '57', '67', '98', '77', '89', '07', '56', '67', '40', '11', '08', '14', '65', '01', '07', '87', '43', '02', '98', '78', '63', '54', '63', '52', '17', '88', '23', '74', '59', '34', '85', '92', '76', '71', '67', '32', '19', '12', '03', '21', '04', '38', '75', '69', '43', '53', '64', '72', '36', '01', '78', '56', '71', '23', '87', '46', '05', '04', '35', '26', '39', '84', '56', '15', '25', '34', '62', '34', '82', '16', '35', '49', '32', '49', '59', '31', '48', '75', '69', '04', '52', '04', '67', '84', '67', '78', '41', '56', '23', '46', '78', '65', '45', '63', '26', '74', '57', '62', '64', '89', '19', '61', '91', '20', '32', '03', '54', '67', '82', '36', '53', '47', '65', '62', '66', '23', '52', '19', '34', '57', '82', '78', '36', '45', '26', '02', '04', '62', '40', '43', '65', '12', '83', '74', '01', '03', '48', '75', '61', '78', '20', '37', '46', '71', '04', '87', '56', '10', '71', '63', '64', '58', '34', '76', '20', '64', '75', '62', '71', '55', '16', '54', '78', '12', '43', '65', '89', '67', '66', '71', '26', '54', '12', '98', '18', '73', '76', '57', '61', '75', '71', '91', '53', '64', '56', '53', '46', '91', '92', '45', '66', '75', '40', '17', '61', '47', '52', '76', '76', '00', '26', '34', '76', '34', '53', '44', '47', '56', '38', '18', '76', '25', '45', '11', '29', '38', '56', '74', '56', '73', '42', '02', '74', '51', '43', '53', '27', '67', '27', '67', '19', '13', '74', '58', '32', '03', '33', '82', '99', '34', '58', '75', '46', '64', '52', '51', '08', '78', '34', '57', '27', '57', '31', '34', '05', '92', '87', '65', '41', '30', '16', '01', '64', '78', '61', '78', '64', '57', '63', '42', '57', '66', '74', '28', '93', '97', '23', '60', '20', '87', '62', '13', '76', '47', '54', '31', '53', '43', '42', '17', '64', '75', '69', '34', '57', '85', '00', '76', '45', '23', '39', '45', '76', '14', '37', '68', '00', '14', '73', '56', '23', '33', '92', '26', '25', '87', '38', '14', '38', '46', '25', '34', '59', '16', '74', '56', '45', '12', '05', '93', '42', '56', '65', '26', '95', '46', '48', '87', '47', '74', '75', '15', '46', '51', '96', '16', '78', '48', '95', '76', '28', '74', '76', '77', '46', '54', '78', '06', '12', '99', '01', '94', '38', '57', '83', '29', '23', '47', '23', '99', '29', '29', '10', '45', '62', '33', '53', '46', '52', '63', '92', '47', '35', '67', '34', '26', '15', '60', '26', '57', '48', '65', '27', '86', '13', '86', '15', '16', '41', '56', '36', '45', '67', '45', '65', '60', '20', '01', '00', '17', '46', '57', '61', '45', '61', '28', '15', '47', '65', '21', '81', '81', '64', '52', '63', '63', '27', '21', '86', '57', '86', '53', '72', '86', '53', '21', '76', '57', '19', '01', '01', '02', '90', '19', '23', '92', '01', '92', '09', '28', '39', '47', '85', '75', '60', '81', '72', '30', '53', '84', '08', '74', '20', '83', '72', '66', '52', '46', '73', '72', '64', '71', '66', '45', '01', '38', '01', '23', '98', '40', '27', '34', '49', '05', '60', '87', '16', '55', '43', '21', '56']\""
      ]
     },
     "execution_count": 144,
     "metadata": {},
     "output_type": "execute_result"
    }
   ],
   "source": [
    "import itertools\n",
    "ciphertext = pd.read_csv('~/highland_partition2.csv', header = None, dtype = str)\n",
    "ciphertext = ciphertext.values.tolist()\n",
    "ciphertext = list(itertools.chain.from_iterable(ciphertext))\n",
    "repr(ciphertext)"
   ]
  },
  {
   "cell_type": "code",
   "execution_count": null,
   "id": "5ebb4594",
   "metadata": {},
   "outputs": [],
   "source": [
    "best_score, best_state = solve_homophonic_substitution_cipher(ciphertext, 1e3, 0.001, 1000, 100,\n",
    "    tabu = False, backtracking = False, spaces = True)"
   ]
  },
  {
   "cell_type": "markdown",
   "id": "e54e638c",
   "metadata": {},
   "source": [
    "### Cribs & partial solutions\n",
    "Can we solve the first 9 lines of (the untransposed) Z340 on its own? "
   ]
  },
  {
   "cell_type": "code",
   "execution_count": 68,
   "id": "7543e106",
   "metadata": {},
   "outputs": [
    {
     "data": {
      "text/plain": [
       "2.2172684578348267"
      ]
     },
     "execution_count": 68,
     "metadata": {},
     "output_type": "execute_result"
    }
   ],
   "source": [
    "plaintext_score(z340_plaintext[:9*17], ngram_size)"
   ]
  },
  {
   "cell_type": "code",
   "execution_count": 183,
   "id": "59735c5f",
   "metadata": {
    "collapsed": true
   },
   "outputs": [
    {
     "data": {
      "text/plain": [
       "[['I', 'H'],\n",
       " ['H', '+'],\n",
       " ['O', 'M'],\n",
       " ['P', '8'],\n",
       " ['E', '|'],\n",
       " ['Y', 'C'],\n",
       " ['O', 'V'],\n",
       " ['U', '@'],\n",
       " ['A', 'K'],\n",
       " ['R', 'E'],\n",
       " ['E', 'B'],\n",
       " ['H', '+'],\n",
       " ['A', '*'],\n",
       " ['V', '5'],\n",
       " ['I', 'k'],\n",
       " ['N', '.'],\n",
       " ['G', 'L'],\n",
       " ['L', 'd'],\n",
       " ['O', 'R'],\n",
       " ['T', '('],\n",
       " ['S', 'U'],\n",
       " ['O', 'V'],\n",
       " ['F', 'F'],\n",
       " ['F', 'F'],\n",
       " ['U', 'z'],\n",
       " ['N', '9'],\n",
       " ['I', '<'],\n",
       " ['N', '>'],\n",
       " ['T', '#'],\n",
       " ['R', 'Z'],\n",
       " ['Y', '3'],\n",
       " ['I', 'P'],\n",
       " ['N', '>'],\n",
       " ['G', 'L'],\n",
       " ['T', '('],\n",
       " ['O', 'M'],\n",
       " ['C', 'p'],\n",
       " ['A', 'O'],\n",
       " ['T', 'G'],\n",
       " ['C', 'p'],\n",
       " ['H', '+'],\n",
       " ['M', '2'],\n",
       " ['E', '|'],\n",
       " ['T', 'G'],\n",
       " ['H', '+'],\n",
       " ['A', 'l'],\n",
       " ['T', '%'],\n",
       " ['W', 'W'],\n",
       " ['A', 'O'],\n",
       " ['S', '&'],\n",
       " ['N', 'D'],\n",
       " ['T', '#'],\n",
       " ['M', '2'],\n",
       " ['E', 'b'],\n",
       " ['O', '^'],\n",
       " ['N', 'D'],\n",
       " ['T', '('],\n",
       " ['H', '+'],\n",
       " ['E', '4'],\n",
       " ['T', '('],\n",
       " ['V', '5'],\n",
       " ['S', 'J'],\n",
       " ['H', '+'],\n",
       " ['O', 'V'],\n",
       " ['W', 'W'],\n",
       " ['W', ')'],\n",
       " ['H', '+'],\n",
       " ['I', 'k'],\n",
       " ['C', 'p'],\n",
       " ['H', '+'],\n",
       " ['B', 'f'],\n",
       " ['R', 'Z'],\n",
       " ['I', 'P'],\n",
       " ['N', 'Y'],\n",
       " ['G', 'L'],\n",
       " ['S', 'R'],\n",
       " ['U', '/'],\n",
       " ['P', '8'],\n",
       " ['A', 'K'],\n",
       " ['P', 'j'],\n",
       " ['O', 'R'],\n",
       " ['I', 'k'],\n",
       " ['N', '.'],\n",
       " ['T', '#'],\n",
       " ['A', 'K'],\n",
       " ['B', '_'],\n",
       " ['O', 'R'],\n",
       " ['U', 'q'],\n",
       " ['T', '#'],\n",
       " ['M', '2'],\n",
       " ['E', '|'],\n",
       " ['I', '<'],\n",
       " ['A', 'z'],\n",
       " ['M', '2'],\n",
       " ['N', '9'],\n",
       " ['O', '^'],\n",
       " ['T', '%'],\n",
       " ['A', 'O'],\n",
       " ['F', 'F'],\n",
       " ['R', '1'],\n",
       " ['A', '*'],\n",
       " ['I', 'H'],\n",
       " ['D', 'S'],\n",
       " ['O', 'M'],\n",
       " ['F', 'F'],\n",
       " ['T', ';'],\n",
       " ['H', '+'],\n",
       " ['E', 'B'],\n",
       " ['G', 'L'],\n",
       " ['A', 'K'],\n",
       " ['S', 'J'],\n",
       " ['C', 'p'],\n",
       " ['H', '+'],\n",
       " ['A', 'l'],\n",
       " ['M', '2'],\n",
       " ['B', '_'],\n",
       " ['E', 'c'],\n",
       " ['R', 'T'],\n",
       " ['B', 'f'],\n",
       " ['E', 'B'],\n",
       " ['C', 'p'],\n",
       " ['A', 'z'],\n",
       " ['U', 'O'],\n",
       " ['S', 'U'],\n",
       " ['E', 'N'],\n",
       " ['I', 'y'],\n",
       " ['T', 'G'],\n",
       " ['W', ')'],\n",
       " ['I', 'y'],\n",
       " ['L', '7'],\n",
       " ['L', 't'],\n",
       " ['S', '-'],\n",
       " ['E', 'c'],\n",
       " ['N', 'Y'],\n",
       " ['D', 'A'],\n",
       " ['M', '2'],\n",
       " ['E', 'N'],\n",
       " ['T', ':'],\n",
       " ['O', '^'],\n",
       " ['P', 'j'],\n",
       " ['A', '*'],\n",
       " ['R', 'X'],\n",
       " ['A', 'z'],\n",
       " ['D', '6'],\n",
       " ['I', 'd'],\n",
       " ['C', 'p'],\n",
       " ['E', 'c'],\n",
       " ['A', 'l'],\n",
       " ['L', 'd'],\n",
       " ['L', 'd'],\n",
       " ['T', 'G'],\n",
       " ['H', '+'],\n",
       " ['E', '4'],\n",
       " ['S', '-'],\n",
       " ['O', 'R'],\n",
       " ['O', 'R'],\n",
       " ['N', '+'],\n",
       " ['E', '4'],\n",
       " ['R', 'E'],\n",
       " ['B', 'f'],\n",
       " ['E', '|'],\n",
       " ['C', 'p'],\n",
       " ['A', 'z'],\n",
       " ['U', '/'],\n",
       " ['S', 'J'],\n",
       " ['E', 'N'],\n",
       " ['I', 'b'],\n",
       " ['N', '>'],\n",
       " ['O', 'M'],\n",
       " ['W', ')'],\n",
       " ['H', '+'],\n",
       " ['A', 'l'],\n",
       " ['V', '5'],\n",
       " ['E', '|'],\n",
       " ['E', '|'],\n",
       " ['N', '.'],\n",
       " ['O', 'V'],\n",
       " ['U', 'q'],\n",
       " ['G', 'L'],\n",
       " ['H', '+'],\n",
       " ['S', 'U'],\n",
       " ['L', 't'],\n",
       " ['A', '*'],\n",
       " ['V', '5'],\n",
       " ['E', 'c'],\n",
       " ['S', 'U'],\n",
       " ['T', 'G'],\n",
       " ['O', 'R'],\n",
       " ['W', ')'],\n",
       " ['O', 'V'],\n",
       " ['R', 'E'],\n",
       " ['K', '5'],\n",
       " ['F', 'F'],\n",
       " ['O', 'V'],\n",
       " ['R', 'Z'],\n",
       " ['M', '2'],\n",
       " ['E', 'c'],\n",
       " ['W', 'W'],\n",
       " ['H', '+'],\n",
       " ['E', '|'],\n",
       " ['R', 'T'],\n",
       " ['E', 'B'],\n",
       " ['E', '4'],\n",
       " ['V', '5'],\n",
       " ['E', '|'],\n",
       " ['R', 'T'],\n",
       " ['Y', 'C'],\n",
       " ['O', '^'],\n",
       " ['N', 'D'],\n",
       " ['E', '4'],\n",
       " ['E', 'c'],\n",
       " ['L', 't'],\n",
       " ['S', '-'],\n",
       " ['E', 'c'],\n",
       " ['H', '+'],\n",
       " ['A', 'z'],\n",
       " ['S', 'J'],\n",
       " ['N', 'Y'],\n",
       " ['O', 'M'],\n",
       " ['T', '('],\n",
       " ['H', '+'],\n",
       " ['I', 'y'],\n",
       " ['N', '.'],\n",
       " ['G', 'L'],\n",
       " ['W', 'W'],\n",
       " ['H', '+'],\n",
       " ['E', 'B'],\n",
       " ['N', '.'],\n",
       " ['T', ';'],\n",
       " ['H', '+'],\n",
       " ['E', 'B'],\n",
       " ['Y', '3'],\n",
       " ['R', '1'],\n",
       " ['E', 'c'],\n",
       " ['A', 'O'],\n",
       " ['C', 'p'],\n",
       " ['H', '+'],\n",
       " ['P', '8'],\n",
       " ['A', 'l'],\n",
       " ['R', 'X'],\n",
       " ['A', 'z'],\n",
       " ['D', '6'],\n",
       " ['I', 'P'],\n",
       " ['C', 'p'],\n",
       " ['E', 'b'],\n",
       " ['S', '&'],\n",
       " ['O', 'R'],\n",
       " ['T', 'G'],\n",
       " ['H', '+'],\n",
       " ['E', 'B'],\n",
       " ['Y', 'C'],\n",
       " ['A', 'O'],\n",
       " ['R', 'T'],\n",
       " ['E', 'B'],\n",
       " ['A', 'z'],\n",
       " ['F', 'F'],\n",
       " ['R', '1'],\n",
       " ['A', 'K'],\n",
       " ['I', '<'],\n",
       " ['D', 'S'],\n",
       " ['O', 'M'],\n",
       " ['F', 'F'],\n",
       " ['D', '6'],\n",
       " ['E', 'N'],\n",
       " ['A', '*'],\n",
       " ['T', '('],\n",
       " ['H', '+'],\n",
       " ['I', 'H'],\n",
       " ['A', 'K'],\n",
       " ['M', '2'],\n",
       " ['N', '9'],\n",
       " ['O', '^'],\n",
       " ['T', ':'],\n",
       " ['A', 'O'],\n",
       " ['F', 'F'],\n",
       " ['R', 'T'],\n",
       " ['A', 'O'],\n",
       " ['I', '<'],\n",
       " ['D', 'S'],\n",
       " ['B', 'f'],\n",
       " ['E', '4'],\n",
       " ['C', 'p'],\n",
       " ['A', 'l'],\n",
       " ['U', '/'],\n",
       " ['S', 'U'],\n",
       " ['E', 'c'],\n",
       " ['I', 'y'],\n",
       " ['K', '5'],\n",
       " ['N', '9'],\n",
       " ['O', '^'],\n",
       " ['W', 'W'],\n",
       " ['T', '('],\n",
       " ['H', '+'],\n",
       " ['A', 'l'],\n",
       " ['T', '#'],\n",
       " ['M', '2'],\n",
       " ['Y', 'C'],\n",
       " ['N', '.'],\n",
       " ['E', 'B'],\n",
       " ['W', ')'],\n",
       " ['L', '7'],\n",
       " ['I', '<'],\n",
       " ['F', 'F'],\n",
       " ['E', 'B'],\n",
       " ['W', 'y'],\n",
       " ['I', '-'],\n",
       " ['L', 'd'],\n",
       " ['L', 'k'],\n",
       " ['B', 'F'],\n",
       " ['E', '|'],\n",
       " ['A', 'W'],\n",
       " ['N', '<'],\n",
       " ['E', '7'],\n",
       " ['A', 't'],\n",
       " ['S', '_'],\n",
       " ['Y', 'B'],\n",
       " ['O', 'O'],\n",
       " ['N', 'Y'],\n",
       " ['E', 'B'],\n",
       " ['I', '*'],\n",
       " ['N', '-'],\n",
       " ['P', 'C'],\n",
       " ['A', 'M'],\n",
       " ['R', '>'],\n",
       " ['A', 'c'],\n",
       " ['D', 'H'],\n",
       " ['I', 'D'],\n",
       " ['C', '8'],\n",
       " ['E', 'O'],\n",
       " ['L', 'Z'],\n",
       " ['I', 'z'],\n",
       " ['F', 'S'],\n",
       " ['E', 'k'],\n",
       " ['I', 'p'],\n",
       " ['S', 'N'],\n",
       " ['D', 'A'],\n",
       " ['E', '|'],\n",
       " ['A', 'K'],\n",
       " ['T', ';'],\n",
       " ['H', '+']]"
      ]
     },
     "execution_count": 183,
     "metadata": {},
     "output_type": "execute_result"
    }
   ],
   "source": [
    "[[plain_char,cipher_char] for plain_char,cipher_char in zip(z340_plaintext, z340_untransposed)]"
   ]
  },
  {
   "cell_type": "code",
   "execution_count": null,
   "id": "8021633b",
   "metadata": {},
   "outputs": [],
   "source": [
    "z340_first_9_rows = z340_untransposed[:9*17]\n",
    "\n",
    "z340_GASCHAMBER_cribs = {\n",
    "'G': ['L'],\n",
    "'A': ['K','l'],\n",
    "'S': ['J'],\n",
    "'C': ['p'],\n",
    "'H': ['+'],\n",
    "'M': ['2'],\n",
    "'B': ['_'],\n",
    "'E': ['c'],\n",
    "'R': ['T']}\n",
    "\n",
    "z340_IHOPEYOUAREHAVING_cribs = {\n",
    "'I': ['H','k'],\n",
    "'H': ['+'],\n",
    "'O': ['M','V'],\n",
    "'P': ['8'],\n",
    "'E': ['|','B'],\n",
    "'Y': ['C'],\n",
    "'U': ['@'],\n",
    "'A': ['K','*'],\n",
    "'R': ['E'],\n",
    "'V': ['5'],\n",
    "'N': ['.'],\n",
    "'G': ['L']\n",
    "}\n",
    "\n",
    "best_score, best_state = solve_homophonic_substitution_cipher(z340_first_9_rows, 1e3, 0.001, 1000, 100,\n",
    "    tabu = False, \\\n",
    "    backtracking = True, backtracking_ratio = 0.25, \\\n",
    "    spaces = False, \\\n",
    "    cribs = z340_IHOPEYOUAREHAVING_cribs)"
   ]
  },
  {
   "cell_type": "code",
   "execution_count": null,
   "id": "7e2b3793",
   "metadata": {},
   "outputs": [],
   "source": []
  }
 ],
 "metadata": {
  "kernelspec": {
   "display_name": "Python 3 (ipykernel)",
   "language": "python",
   "name": "python3"
  },
  "language_info": {
   "codemirror_mode": {
    "name": "ipython",
    "version": 3
   },
   "file_extension": ".py",
   "mimetype": "text/x-python",
   "name": "python",
   "nbconvert_exporter": "python",
   "pygments_lexer": "ipython3",
   "version": "3.9.13"
  }
 },
 "nbformat": 4,
 "nbformat_minor": 5
}
